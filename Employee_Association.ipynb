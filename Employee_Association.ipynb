{
  "nbformat": 4,
  "nbformat_minor": 0,
  "metadata": {
    "colab": {
      "name": "DM_Assignment.ipynb",
      "provenance": [],
      "collapsed_sections": []
    },
    "kernelspec": {
      "name": "python3",
      "display_name": "Python 3"
    }
  },
  "cells": [
    {
      "cell_type": "markdown",
      "metadata": {
        "id": "B6PEkuBxjWyb",
        "colab_type": "text"
      },
      "source": [
        "**DM assignment**\n",
        "\n",
        "**We will perform Data Cleaning, Data Pre-processing and Data analysis activities**\n",
        "\n",
        "**We will generate association rule using Apriori Algorithm**"
      ]
    },
    {
      "cell_type": "markdown",
      "metadata": {
        "id": "kqBbxF38YUuB",
        "colab_type": "text"
      },
      "source": [
        "# Problem statement"
      ]
    },
    {
      "cell_type": "markdown",
      "metadata": {
        "id": "0nUr2aT1YYHA",
        "colab_type": "text"
      },
      "source": [
        "We have been given employee data set and we have to recognize patterns from the available data and evaluate efficiency of methods to obtain patterns. "
      ]
    },
    {
      "cell_type": "code",
      "metadata": {
        "id": "8C0IFcqYrb6C",
        "colab_type": "code",
        "colab": {
          "base_uri": "https://localhost:8080/",
          "height": 188
        },
        "outputId": "b1ab8dc2-2922-4153-e2ea-fcd0da471c92"
      },
      "source": [
        "# Install Apriori  Library\n",
        "!pip install apriori"
      ],
      "execution_count": null,
      "outputs": [
        {
          "output_type": "stream",
          "text": [
            "Collecting apriori\n",
            "  Downloading https://files.pythonhosted.org/packages/b2/74/725e1e087c29887e51e12f3a1d39d877fff47a8832019d91c3829355766e/apriori-1.0.0.tar.gz\n",
            "Building wheels for collected packages: apriori\n",
            "  Building wheel for apriori (setup.py) ... \u001b[?25l\u001b[?25hdone\n",
            "  Created wheel for apriori: filename=apriori-1.0.0-cp36-none-any.whl size=2478 sha256=acc3feef9b45ff99877c7a0d36bc0e3843862305519e89d4ac8407a0ee37da22\n",
            "  Stored in directory: /root/.cache/pip/wheels/20/c3/82/6e5f443b9a41b1e9ad991017fb64814bc75b4654409a073ea3\n",
            "Successfully built apriori\n",
            "Installing collected packages: apriori\n",
            "Successfully installed apriori-1.0.0\n"
          ],
          "name": "stdout"
        }
      ]
    },
    {
      "cell_type": "code",
      "metadata": {
        "id": "j31QDrLCreza",
        "colab_type": "code",
        "colab": {
          "base_uri": "https://localhost:8080/",
          "height": 188
        },
        "outputId": "f4ae1384-46cc-404a-cc0d-7ae79cd8741c"
      },
      "source": [
        "# Install Apyori  Library\n",
        "!pip install apyori"
      ],
      "execution_count": null,
      "outputs": [
        {
          "output_type": "stream",
          "text": [
            "Collecting apyori\n",
            "  Downloading https://files.pythonhosted.org/packages/5e/62/5ffde5c473ea4b033490617ec5caa80d59804875ad3c3c57c0976533a21a/apyori-1.1.2.tar.gz\n",
            "Building wheels for collected packages: apyori\n",
            "  Building wheel for apyori (setup.py) ... \u001b[?25l\u001b[?25hdone\n",
            "  Created wheel for apyori: filename=apyori-1.1.2-cp36-none-any.whl size=5975 sha256=c9bf1319768eb4a637ddc3f48c74809a5f610f4d1fe49dbae5ac277267202cb5\n",
            "  Stored in directory: /root/.cache/pip/wheels/5d/92/bb/474bbadbc8c0062b9eb168f69982a0443263f8ab1711a8cad0\n",
            "Successfully built apyori\n",
            "Installing collected packages: apyori\n",
            "Successfully installed apyori-1.1.2\n"
          ],
          "name": "stdout"
        }
      ]
    },
    {
      "cell_type": "markdown",
      "metadata": {
        "id": "Pfjh_K9kxsoG",
        "colab_type": "text"
      },
      "source": [
        "Import all the require library"
      ]
    },
    {
      "cell_type": "code",
      "metadata": {
        "id": "pL_Jxu-pjiOj",
        "colab_type": "code",
        "colab": {
          "base_uri": "https://localhost:8080/",
          "height": 70
        },
        "outputId": "326f4654-ef58-44f2-e1af-e108d9d58e7c"
      },
      "source": [
        "#  Import Libraries such as Numpy, Panda and Matplotlib \n",
        "from google.colab import files\n",
        "import numpy as np\n",
        "import matplotlib.pyplot as plt\n",
        "import pandas as pd\n",
        "import seaborn as sns\n",
        "from mlxtend.frequent_patterns import apriori\n",
        "from mlxtend.frequent_patterns import association_rules"
      ],
      "execution_count": 2,
      "outputs": [
        {
          "output_type": "stream",
          "text": [
            "/usr/local/lib/python3.6/dist-packages/statsmodels/tools/_testing.py:19: FutureWarning: pandas.util.testing is deprecated. Use the functions in the public API at pandas.testing instead.\n",
            "  import pandas.util.testing as tm\n"
          ],
          "name": "stderr"
        }
      ]
    },
    {
      "cell_type": "code",
      "metadata": {
        "id": "Ru_6Fow-bYxK",
        "colab_type": "code",
        "colab": {}
      },
      "source": [
        "# from apyori import apriori"
      ],
      "execution_count": 3,
      "outputs": []
    },
    {
      "cell_type": "markdown",
      "metadata": {
        "id": "6BYLJTPoxy65",
        "colab_type": "text"
      },
      "source": [
        "Read the input data set from desktop using the file library specfically used in google collab."
      ]
    },
    {
      "cell_type": "code",
      "metadata": {
        "id": "s4NDct5Zlqyu",
        "colab_type": "code",
        "colab": {
          "resources": {
            "http://localhost:8080/nbextensions/google.colab/files.js": {
              "data": "Ly8gQ29weXJpZ2h0IDIwMTcgR29vZ2xlIExMQwovLwovLyBMaWNlbnNlZCB1bmRlciB0aGUgQXBhY2hlIExpY2Vuc2UsIFZlcnNpb24gMi4wICh0aGUgIkxpY2Vuc2UiKTsKLy8geW91IG1heSBub3QgdXNlIHRoaXMgZmlsZSBleGNlcHQgaW4gY29tcGxpYW5jZSB3aXRoIHRoZSBMaWNlbnNlLgovLyBZb3UgbWF5IG9idGFpbiBhIGNvcHkgb2YgdGhlIExpY2Vuc2UgYXQKLy8KLy8gICAgICBodHRwOi8vd3d3LmFwYWNoZS5vcmcvbGljZW5zZXMvTElDRU5TRS0yLjAKLy8KLy8gVW5sZXNzIHJlcXVpcmVkIGJ5IGFwcGxpY2FibGUgbGF3IG9yIGFncmVlZCB0byBpbiB3cml0aW5nLCBzb2Z0d2FyZQovLyBkaXN0cmlidXRlZCB1bmRlciB0aGUgTGljZW5zZSBpcyBkaXN0cmlidXRlZCBvbiBhbiAiQVMgSVMiIEJBU0lTLAovLyBXSVRIT1VUIFdBUlJBTlRJRVMgT1IgQ09ORElUSU9OUyBPRiBBTlkgS0lORCwgZWl0aGVyIGV4cHJlc3Mgb3IgaW1wbGllZC4KLy8gU2VlIHRoZSBMaWNlbnNlIGZvciB0aGUgc3BlY2lmaWMgbGFuZ3VhZ2UgZ292ZXJuaW5nIHBlcm1pc3Npb25zIGFuZAovLyBsaW1pdGF0aW9ucyB1bmRlciB0aGUgTGljZW5zZS4KCi8qKgogKiBAZmlsZW92ZXJ2aWV3IEhlbHBlcnMgZm9yIGdvb2dsZS5jb2xhYiBQeXRob24gbW9kdWxlLgogKi8KKGZ1bmN0aW9uKHNjb3BlKSB7CmZ1bmN0aW9uIHNwYW4odGV4dCwgc3R5bGVBdHRyaWJ1dGVzID0ge30pIHsKICBjb25zdCBlbGVtZW50ID0gZG9jdW1lbnQuY3JlYXRlRWxlbWVudCgnc3BhbicpOwogIGVsZW1lbnQudGV4dENvbnRlbnQgPSB0ZXh0OwogIGZvciAoY29uc3Qga2V5IG9mIE9iamVjdC5rZXlzKHN0eWxlQXR0cmlidXRlcykpIHsKICAgIGVsZW1lbnQuc3R5bGVba2V5XSA9IHN0eWxlQXR0cmlidXRlc1trZXldOwogIH0KICByZXR1cm4gZWxlbWVudDsKfQoKLy8gTWF4IG51bWJlciBvZiBieXRlcyB3aGljaCB3aWxsIGJlIHVwbG9hZGVkIGF0IGEgdGltZS4KY29uc3QgTUFYX1BBWUxPQURfU0laRSA9IDEwMCAqIDEwMjQ7CgpmdW5jdGlvbiBfdXBsb2FkRmlsZXMoaW5wdXRJZCwgb3V0cHV0SWQpIHsKICBjb25zdCBzdGVwcyA9IHVwbG9hZEZpbGVzU3RlcChpbnB1dElkLCBvdXRwdXRJZCk7CiAgY29uc3Qgb3V0cHV0RWxlbWVudCA9IGRvY3VtZW50LmdldEVsZW1lbnRCeUlkKG91dHB1dElkKTsKICAvLyBDYWNoZSBzdGVwcyBvbiB0aGUgb3V0cHV0RWxlbWVudCB0byBtYWtlIGl0IGF2YWlsYWJsZSBmb3IgdGhlIG5leHQgY2FsbAogIC8vIHRvIHVwbG9hZEZpbGVzQ29udGludWUgZnJvbSBQeXRob24uCiAgb3V0cHV0RWxlbWVudC5zdGVwcyA9IHN0ZXBzOwoKICByZXR1cm4gX3VwbG9hZEZpbGVzQ29udGludWUob3V0cHV0SWQpOwp9CgovLyBUaGlzIGlzIHJvdWdobHkgYW4gYXN5bmMgZ2VuZXJhdG9yIChub3Qgc3VwcG9ydGVkIGluIHRoZSBicm93c2VyIHlldCksCi8vIHdoZXJlIHRoZXJlIGFyZSBtdWx0aXBsZSBhc3luY2hyb25vdXMgc3RlcHMgYW5kIHRoZSBQeXRob24gc2lkZSBpcyBnb2luZwovLyB0byBwb2xsIGZvciBjb21wbGV0aW9uIG9mIGVhY2ggc3RlcC4KLy8gVGhpcyB1c2VzIGEgUHJvbWlzZSB0byBibG9jayB0aGUgcHl0aG9uIHNpZGUgb24gY29tcGxldGlvbiBvZiBlYWNoIHN0ZXAsCi8vIHRoZW4gcGFzc2VzIHRoZSByZXN1bHQgb2YgdGhlIHByZXZpb3VzIHN0ZXAgYXMgdGhlIGlucHV0IHRvIHRoZSBuZXh0IHN0ZXAuCmZ1bmN0aW9uIF91cGxvYWRGaWxlc0NvbnRpbnVlKG91dHB1dElkKSB7CiAgY29uc3Qgb3V0cHV0RWxlbWVudCA9IGRvY3VtZW50LmdldEVsZW1lbnRCeUlkKG91dHB1dElkKTsKICBjb25zdCBzdGVwcyA9IG91dHB1dEVsZW1lbnQuc3RlcHM7CgogIGNvbnN0IG5leHQgPSBzdGVwcy5uZXh0KG91dHB1dEVsZW1lbnQubGFzdFByb21pc2VWYWx1ZSk7CiAgcmV0dXJuIFByb21pc2UucmVzb2x2ZShuZXh0LnZhbHVlLnByb21pc2UpLnRoZW4oKHZhbHVlKSA9PiB7CiAgICAvLyBDYWNoZSB0aGUgbGFzdCBwcm9taXNlIHZhbHVlIHRvIG1ha2UgaXQgYXZhaWxhYmxlIHRvIHRoZSBuZXh0CiAgICAvLyBzdGVwIG9mIHRoZSBnZW5lcmF0b3IuCiAgICBvdXRwdXRFbGVtZW50Lmxhc3RQcm9taXNlVmFsdWUgPSB2YWx1ZTsKICAgIHJldHVybiBuZXh0LnZhbHVlLnJlc3BvbnNlOwogIH0pOwp9CgovKioKICogR2VuZXJhdG9yIGZ1bmN0aW9uIHdoaWNoIGlzIGNhbGxlZCBiZXR3ZWVuIGVhY2ggYXN5bmMgc3RlcCBvZiB0aGUgdXBsb2FkCiAqIHByb2Nlc3MuCiAqIEBwYXJhbSB7c3RyaW5nfSBpbnB1dElkIEVsZW1lbnQgSUQgb2YgdGhlIGlucHV0IGZpbGUgcGlja2VyIGVsZW1lbnQuCiAqIEBwYXJhbSB7c3RyaW5nfSBvdXRwdXRJZCBFbGVtZW50IElEIG9mIHRoZSBvdXRwdXQgZGlzcGxheS4KICogQHJldHVybiB7IUl0ZXJhYmxlPCFPYmplY3Q+fSBJdGVyYWJsZSBvZiBuZXh0IHN0ZXBzLgogKi8KZnVuY3Rpb24qIHVwbG9hZEZpbGVzU3RlcChpbnB1dElkLCBvdXRwdXRJZCkgewogIGNvbnN0IGlucHV0RWxlbWVudCA9IGRvY3VtZW50LmdldEVsZW1lbnRCeUlkKGlucHV0SWQpOwogIGlucHV0RWxlbWVudC5kaXNhYmxlZCA9IGZhbHNlOwoKICBjb25zdCBvdXRwdXRFbGVtZW50ID0gZG9jdW1lbnQuZ2V0RWxlbWVudEJ5SWQob3V0cHV0SWQpOwogIG91dHB1dEVsZW1lbnQuaW5uZXJIVE1MID0gJyc7CgogIGNvbnN0IHBpY2tlZFByb21pc2UgPSBuZXcgUHJvbWlzZSgocmVzb2x2ZSkgPT4gewogICAgaW5wdXRFbGVtZW50LmFkZEV2ZW50TGlzdGVuZXIoJ2NoYW5nZScsIChlKSA9PiB7CiAgICAgIHJlc29sdmUoZS50YXJnZXQuZmlsZXMpOwogICAgfSk7CiAgfSk7CgogIGNvbnN0IGNhbmNlbCA9IGRvY3VtZW50LmNyZWF0ZUVsZW1lbnQoJ2J1dHRvbicpOwogIGlucHV0RWxlbWVudC5wYXJlbnRFbGVtZW50LmFwcGVuZENoaWxkKGNhbmNlbCk7CiAgY2FuY2VsLnRleHRDb250ZW50ID0gJ0NhbmNlbCB1cGxvYWQnOwogIGNvbnN0IGNhbmNlbFByb21pc2UgPSBuZXcgUHJvbWlzZSgocmVzb2x2ZSkgPT4gewogICAgY2FuY2VsLm9uY2xpY2sgPSAoKSA9PiB7CiAgICAgIHJlc29sdmUobnVsbCk7CiAgICB9OwogIH0pOwoKICAvLyBXYWl0IGZvciB0aGUgdXNlciB0byBwaWNrIHRoZSBmaWxlcy4KICBjb25zdCBmaWxlcyA9IHlpZWxkIHsKICAgIHByb21pc2U6IFByb21pc2UucmFjZShbcGlja2VkUHJvbWlzZSwgY2FuY2VsUHJvbWlzZV0pLAogICAgcmVzcG9uc2U6IHsKICAgICAgYWN0aW9uOiAnc3RhcnRpbmcnLAogICAgfQogIH07CgogIGNhbmNlbC5yZW1vdmUoKTsKCiAgLy8gRGlzYWJsZSB0aGUgaW5wdXQgZWxlbWVudCBzaW5jZSBmdXJ0aGVyIHBpY2tzIGFyZSBub3QgYWxsb3dlZC4KICBpbnB1dEVsZW1lbnQuZGlzYWJsZWQgPSB0cnVlOwoKICBpZiAoIWZpbGVzKSB7CiAgICByZXR1cm4gewogICAgICByZXNwb25zZTogewogICAgICAgIGFjdGlvbjogJ2NvbXBsZXRlJywKICAgICAgfQogICAgfTsKICB9CgogIGZvciAoY29uc3QgZmlsZSBvZiBmaWxlcykgewogICAgY29uc3QgbGkgPSBkb2N1bWVudC5jcmVhdGVFbGVtZW50KCdsaScpOwogICAgbGkuYXBwZW5kKHNwYW4oZmlsZS5uYW1lLCB7Zm9udFdlaWdodDogJ2JvbGQnfSkpOwogICAgbGkuYXBwZW5kKHNwYW4oCiAgICAgICAgYCgke2ZpbGUudHlwZSB8fCAnbi9hJ30pIC0gJHtmaWxlLnNpemV9IGJ5dGVzLCBgICsKICAgICAgICBgbGFzdCBtb2RpZmllZDogJHsKICAgICAgICAgICAgZmlsZS5sYXN0TW9kaWZpZWREYXRlID8gZmlsZS5sYXN0TW9kaWZpZWREYXRlLnRvTG9jYWxlRGF0ZVN0cmluZygpIDoKICAgICAgICAgICAgICAgICAgICAgICAgICAgICAgICAgICAgJ24vYSd9IC0gYCkpOwogICAgY29uc3QgcGVyY2VudCA9IHNwYW4oJzAlIGRvbmUnKTsKICAgIGxpLmFwcGVuZENoaWxkKHBlcmNlbnQpOwoKICAgIG91dHB1dEVsZW1lbnQuYXBwZW5kQ2hpbGQobGkpOwoKICAgIGNvbnN0IGZpbGVEYXRhUHJvbWlzZSA9IG5ldyBQcm9taXNlKChyZXNvbHZlKSA9PiB7CiAgICAgIGNvbnN0IHJlYWRlciA9IG5ldyBGaWxlUmVhZGVyKCk7CiAgICAgIHJlYWRlci5vbmxvYWQgPSAoZSkgPT4gewogICAgICAgIHJlc29sdmUoZS50YXJnZXQucmVzdWx0KTsKICAgICAgfTsKICAgICAgcmVhZGVyLnJlYWRBc0FycmF5QnVmZmVyKGZpbGUpOwogICAgfSk7CiAgICAvLyBXYWl0IGZvciB0aGUgZGF0YSB0byBiZSByZWFkeS4KICAgIGxldCBmaWxlRGF0YSA9IHlpZWxkIHsKICAgICAgcHJvbWlzZTogZmlsZURhdGFQcm9taXNlLAogICAgICByZXNwb25zZTogewogICAgICAgIGFjdGlvbjogJ2NvbnRpbnVlJywKICAgICAgfQogICAgfTsKCiAgICAvLyBVc2UgYSBjaHVua2VkIHNlbmRpbmcgdG8gYXZvaWQgbWVzc2FnZSBzaXplIGxpbWl0cy4gU2VlIGIvNjIxMTU2NjAuCiAgICBsZXQgcG9zaXRpb24gPSAwOwogICAgd2hpbGUgKHBvc2l0aW9uIDwgZmlsZURhdGEuYnl0ZUxlbmd0aCkgewogICAgICBjb25zdCBsZW5ndGggPSBNYXRoLm1pbihmaWxlRGF0YS5ieXRlTGVuZ3RoIC0gcG9zaXRpb24sIE1BWF9QQVlMT0FEX1NJWkUpOwogICAgICBjb25zdCBjaHVuayA9IG5ldyBVaW50OEFycmF5KGZpbGVEYXRhLCBwb3NpdGlvbiwgbGVuZ3RoKTsKICAgICAgcG9zaXRpb24gKz0gbGVuZ3RoOwoKICAgICAgY29uc3QgYmFzZTY0ID0gYnRvYShTdHJpbmcuZnJvbUNoYXJDb2RlLmFwcGx5KG51bGwsIGNodW5rKSk7CiAgICAgIHlpZWxkIHsKICAgICAgICByZXNwb25zZTogewogICAgICAgICAgYWN0aW9uOiAnYXBwZW5kJywKICAgICAgICAgIGZpbGU6IGZpbGUubmFtZSwKICAgICAgICAgIGRhdGE6IGJhc2U2NCwKICAgICAgICB9LAogICAgICB9OwogICAgICBwZXJjZW50LnRleHRDb250ZW50ID0KICAgICAgICAgIGAke01hdGgucm91bmQoKHBvc2l0aW9uIC8gZmlsZURhdGEuYnl0ZUxlbmd0aCkgKiAxMDApfSUgZG9uZWA7CiAgICB9CiAgfQoKICAvLyBBbGwgZG9uZS4KICB5aWVsZCB7CiAgICByZXNwb25zZTogewogICAgICBhY3Rpb246ICdjb21wbGV0ZScsCiAgICB9CiAgfTsKfQoKc2NvcGUuZ29vZ2xlID0gc2NvcGUuZ29vZ2xlIHx8IHt9OwpzY29wZS5nb29nbGUuY29sYWIgPSBzY29wZS5nb29nbGUuY29sYWIgfHwge307CnNjb3BlLmdvb2dsZS5jb2xhYi5fZmlsZXMgPSB7CiAgX3VwbG9hZEZpbGVzLAogIF91cGxvYWRGaWxlc0NvbnRpbnVlLAp9Owp9KShzZWxmKTsK",
              "ok": true,
              "headers": [
                [
                  "content-type",
                  "application/javascript"
                ]
              ],
              "status": 200,
              "status_text": ""
            }
          },
          "base_uri": "https://localhost:8080/",
          "height": 73
        },
        "outputId": "2ecb19c8-9a77-40bd-a6a5-7032599aa8b3"
      },
      "source": [
        "# Read Input file from Desktop using File Library of Google collab.\n",
        "# Please use choose file button to select the path of file\n",
        "Inp_data = files.upload()"
      ],
      "execution_count": 5,
      "outputs": [
        {
          "output_type": "display_data",
          "data": {
            "text/html": [
              "\n",
              "     <input type=\"file\" id=\"files-06e431f2-dfff-4d0b-b553-fe059a2229a5\" name=\"files[]\" multiple disabled\n",
              "        style=\"border:none\" />\n",
              "     <output id=\"result-06e431f2-dfff-4d0b-b553-fe059a2229a5\">\n",
              "      Upload widget is only available when the cell has been executed in the\n",
              "      current browser session. Please rerun this cell to enable.\n",
              "      </output>\n",
              "      <script src=\"/nbextensions/google.colab/files.js\"></script> "
            ],
            "text/plain": [
              "<IPython.core.display.HTML object>"
            ]
          },
          "metadata": {
            "tags": []
          }
        },
        {
          "output_type": "stream",
          "text": [
            "Saving Employee_skills_traits.csv to Employee_skills_traits (1).csv\n"
          ],
          "name": "stdout"
        }
      ]
    },
    {
      "cell_type": "markdown",
      "metadata": {
        "id": "GEXsl-U2yFJ9",
        "colab_type": "text"
      },
      "source": [
        "Declare missign value which we want to check in given data set"
      ]
    },
    {
      "cell_type": "code",
      "metadata": {
        "id": "2UajXVPsbtg9",
        "colab_type": "code",
        "colab": {}
      },
      "source": [
        "missing_values = ['?', '']"
      ],
      "execution_count": 6,
      "outputs": []
    },
    {
      "cell_type": "markdown",
      "metadata": {
        "id": "l7Tb11ZFyM_5",
        "colab_type": "text"
      },
      "source": [
        "Convert the input file data into data frame usign Panda's Library for further analysizing the data"
      ]
    },
    {
      "cell_type": "code",
      "metadata": {
        "id": "AxHZIndamLSp",
        "colab_type": "code",
        "colab": {}
      },
      "source": [
        "# Get into Data frames from input file using panda library\n",
        "Data = pd.read_csv('Employee_skills_traits.csv', \n",
        "                   index_col=False,\n",
        "                   sep=',',\n",
        "                   na_values = missing_values)"
      ],
      "execution_count": 7,
      "outputs": []
    },
    {
      "cell_type": "markdown",
      "metadata": {
        "id": "kQfQY66_yZMc",
        "colab_type": "text"
      },
      "source": [
        "Check the Header of data what kind of data we have "
      ]
    },
    {
      "cell_type": "code",
      "metadata": {
        "id": "kqYr0hHzcS9G",
        "colab_type": "code",
        "colab": {}
      },
      "source": [
        "# Removing white spaces from column names\n",
        "Data.rename(columns=lambda x: x.strip(), inplace=True)"
      ],
      "execution_count": 8,
      "outputs": []
    },
    {
      "cell_type": "markdown",
      "metadata": {
        "id": "5icJ3iX_ZXKb",
        "colab_type": "text"
      },
      "source": [
        "# •\tPerform exploratory data analysis"
      ]
    },
    {
      "cell_type": "code",
      "metadata": {
        "id": "RPAqcj6amSuW",
        "colab_type": "code",
        "colab": {
          "base_uri": "https://localhost:8080/",
          "height": 215
        },
        "outputId": "650a70f7-893b-4828-f6a1-7b7e3bf949f9"
      },
      "source": [
        "#Display Header of Data\n",
        "Data.head()"
      ],
      "execution_count": 9,
      "outputs": [
        {
          "output_type": "execute_result",
          "data": {
            "text/html": [
              "<div>\n",
              "<style scoped>\n",
              "    .dataframe tbody tr th:only-of-type {\n",
              "        vertical-align: middle;\n",
              "    }\n",
              "\n",
              "    .dataframe tbody tr th {\n",
              "        vertical-align: top;\n",
              "    }\n",
              "\n",
              "    .dataframe thead th {\n",
              "        text-align: right;\n",
              "    }\n",
              "</style>\n",
              "<table border=\"1\" class=\"dataframe\">\n",
              "  <thead>\n",
              "    <tr style=\"text-align: right;\">\n",
              "      <th></th>\n",
              "      <th>ID</th>\n",
              "      <th>Employment_period</th>\n",
              "      <th>Time_in_current_department</th>\n",
              "      <th>Gender</th>\n",
              "      <th>Team_leader</th>\n",
              "      <th>Age</th>\n",
              "      <th>Member_of_professional_organizations</th>\n",
              "      <th>Dot_Net</th>\n",
              "      <th>SQL_Server</th>\n",
              "      <th>HTML_CSS_Java_Script</th>\n",
              "      <th>PHP_mySQL</th>\n",
              "      <th>Fast_working</th>\n",
              "      <th>Awards</th>\n",
              "      <th>Communicative</th>\n",
              "    </tr>\n",
              "  </thead>\n",
              "  <tbody>\n",
              "    <tr>\n",
              "      <th>0</th>\n",
              "      <td>6723</td>\n",
              "      <td>5</td>\n",
              "      <td>4</td>\n",
              "      <td>0</td>\n",
              "      <td>1</td>\n",
              "      <td>48</td>\n",
              "      <td>1</td>\n",
              "      <td>1</td>\n",
              "      <td>1</td>\n",
              "      <td>0</td>\n",
              "      <td>1</td>\n",
              "      <td>1</td>\n",
              "      <td>0</td>\n",
              "      <td>1</td>\n",
              "    </tr>\n",
              "    <tr>\n",
              "      <th>1</th>\n",
              "      <td>8923</td>\n",
              "      <td>5</td>\n",
              "      <td>3</td>\n",
              "      <td>1</td>\n",
              "      <td>1</td>\n",
              "      <td>26</td>\n",
              "      <td>1</td>\n",
              "      <td>1</td>\n",
              "      <td>0</td>\n",
              "      <td>0</td>\n",
              "      <td>1</td>\n",
              "      <td>1</td>\n",
              "      <td>0</td>\n",
              "      <td>0</td>\n",
              "    </tr>\n",
              "    <tr>\n",
              "      <th>2</th>\n",
              "      <td>2322</td>\n",
              "      <td>11</td>\n",
              "      <td>8</td>\n",
              "      <td>0</td>\n",
              "      <td>0</td>\n",
              "      <td>34</td>\n",
              "      <td>0</td>\n",
              "      <td>0</td>\n",
              "      <td>1</td>\n",
              "      <td>1</td>\n",
              "      <td>0</td>\n",
              "      <td>1</td>\n",
              "      <td>0</td>\n",
              "      <td>1</td>\n",
              "    </tr>\n",
              "    <tr>\n",
              "      <th>3</th>\n",
              "      <td>235</td>\n",
              "      <td>7</td>\n",
              "      <td>5</td>\n",
              "      <td>1</td>\n",
              "      <td>1</td>\n",
              "      <td>27</td>\n",
              "      <td>1</td>\n",
              "      <td>0</td>\n",
              "      <td>1</td>\n",
              "      <td>0</td>\n",
              "      <td>1</td>\n",
              "      <td>1</td>\n",
              "      <td>1</td>\n",
              "      <td>0</td>\n",
              "    </tr>\n",
              "    <tr>\n",
              "      <th>4</th>\n",
              "      <td>9523</td>\n",
              "      <td>18</td>\n",
              "      <td>8</td>\n",
              "      <td>0</td>\n",
              "      <td>0</td>\n",
              "      <td>38</td>\n",
              "      <td>0</td>\n",
              "      <td>0</td>\n",
              "      <td>0</td>\n",
              "      <td>1</td>\n",
              "      <td>1</td>\n",
              "      <td>1</td>\n",
              "      <td>1</td>\n",
              "      <td>1</td>\n",
              "    </tr>\n",
              "  </tbody>\n",
              "</table>\n",
              "</div>"
            ],
            "text/plain": [
              "     ID  Employment_period  ...  Awards  Communicative\n",
              "0  6723                  5  ...       0              1\n",
              "1  8923                  5  ...       0              0\n",
              "2  2322                 11  ...       0              1\n",
              "3   235                  7  ...       1              0\n",
              "4  9523                 18  ...       1              1\n",
              "\n",
              "[5 rows x 14 columns]"
            ]
          },
          "metadata": {
            "tags": []
          },
          "execution_count": 9
        }
      ]
    },
    {
      "cell_type": "markdown",
      "metadata": {
        "id": "18TWZwHJyhce",
        "colab_type": "text"
      },
      "source": [
        "Check the data attributes like shape and give statistics about the data"
      ]
    },
    {
      "cell_type": "code",
      "metadata": {
        "id": "Orb04T3PnwDK",
        "colab_type": "code",
        "colab": {
          "base_uri": "https://localhost:8080/",
          "height": 252
        },
        "outputId": "8f5f2926-3e57-47b5-b994-168e50c5c478"
      },
      "source": [
        "# Check the size of Data\n",
        "Data.describe"
      ],
      "execution_count": 10,
      "outputs": [
        {
          "output_type": "execute_result",
          "data": {
            "text/plain": [
              "<bound method NDFrame.describe of         ID  Employment_period  ...  Awards  Communicative\n",
              "0     6723                  5  ...       0              1\n",
              "1     8923                  5  ...       0              0\n",
              "2     2322                 11  ...       0              1\n",
              "3      235                  7  ...       1              0\n",
              "4     9523                 18  ...       1              1\n",
              "..     ...                ...  ...     ...            ...\n",
              "993   6098                 12  ...       0              1\n",
              "994  12133                 16  ...       1              1\n",
              "995    854                 11  ...       0              0\n",
              "996  13444                  8  ...       1              1\n",
              "997  17170                 16  ...       0              0\n",
              "\n",
              "[998 rows x 14 columns]>"
            ]
          },
          "metadata": {
            "tags": []
          },
          "execution_count": 10
        }
      ]
    },
    {
      "cell_type": "code",
      "metadata": {
        "id": "LtPLlwRwccby",
        "colab_type": "code",
        "colab": {
          "base_uri": "https://localhost:8080/",
          "height": 304
        },
        "outputId": "56bf7d63-ae1e-4b6a-ccd7-6d7b0c54a7f5"
      },
      "source": [
        "# Summarize numerical features\n",
        "# Display the statistical overview of the employees\n",
        "Data.describe()"
      ],
      "execution_count": 11,
      "outputs": [
        {
          "output_type": "execute_result",
          "data": {
            "text/html": [
              "<div>\n",
              "<style scoped>\n",
              "    .dataframe tbody tr th:only-of-type {\n",
              "        vertical-align: middle;\n",
              "    }\n",
              "\n",
              "    .dataframe tbody tr th {\n",
              "        vertical-align: top;\n",
              "    }\n",
              "\n",
              "    .dataframe thead th {\n",
              "        text-align: right;\n",
              "    }\n",
              "</style>\n",
              "<table border=\"1\" class=\"dataframe\">\n",
              "  <thead>\n",
              "    <tr style=\"text-align: right;\">\n",
              "      <th></th>\n",
              "      <th>ID</th>\n",
              "      <th>Employment_period</th>\n",
              "      <th>Time_in_current_department</th>\n",
              "      <th>Gender</th>\n",
              "      <th>Team_leader</th>\n",
              "      <th>Age</th>\n",
              "      <th>Member_of_professional_organizations</th>\n",
              "      <th>Dot_Net</th>\n",
              "      <th>SQL_Server</th>\n",
              "      <th>HTML_CSS_Java_Script</th>\n",
              "      <th>PHP_mySQL</th>\n",
              "      <th>Fast_working</th>\n",
              "      <th>Awards</th>\n",
              "      <th>Communicative</th>\n",
              "    </tr>\n",
              "  </thead>\n",
              "  <tbody>\n",
              "    <tr>\n",
              "      <th>count</th>\n",
              "      <td>998.000000</td>\n",
              "      <td>998.000000</td>\n",
              "      <td>998.000000</td>\n",
              "      <td>998.000000</td>\n",
              "      <td>998.000000</td>\n",
              "      <td>998.000000</td>\n",
              "      <td>998.00000</td>\n",
              "      <td>998.000000</td>\n",
              "      <td>998.000000</td>\n",
              "      <td>998.000000</td>\n",
              "      <td>998.000000</td>\n",
              "      <td>998.000000</td>\n",
              "      <td>998.000000</td>\n",
              "      <td>998.000000</td>\n",
              "    </tr>\n",
              "    <tr>\n",
              "      <th>mean</th>\n",
              "      <td>9710.248497</td>\n",
              "      <td>10.388778</td>\n",
              "      <td>5.660321</td>\n",
              "      <td>0.484970</td>\n",
              "      <td>0.504008</td>\n",
              "      <td>40.441884</td>\n",
              "      <td>0.48998</td>\n",
              "      <td>0.476954</td>\n",
              "      <td>0.475952</td>\n",
              "      <td>0.508016</td>\n",
              "      <td>0.477956</td>\n",
              "      <td>0.503006</td>\n",
              "      <td>0.502004</td>\n",
              "      <td>0.521042</td>\n",
              "    </tr>\n",
              "    <tr>\n",
              "      <th>std</th>\n",
              "      <td>5639.386232</td>\n",
              "      <td>5.787715</td>\n",
              "      <td>3.196953</td>\n",
              "      <td>0.500025</td>\n",
              "      <td>0.500235</td>\n",
              "      <td>8.059964</td>\n",
              "      <td>0.50015</td>\n",
              "      <td>0.499719</td>\n",
              "      <td>0.499672</td>\n",
              "      <td>0.500186</td>\n",
              "      <td>0.499764</td>\n",
              "      <td>0.500242</td>\n",
              "      <td>0.500247</td>\n",
              "      <td>0.499808</td>\n",
              "    </tr>\n",
              "    <tr>\n",
              "      <th>min</th>\n",
              "      <td>235.000000</td>\n",
              "      <td>1.000000</td>\n",
              "      <td>1.000000</td>\n",
              "      <td>0.000000</td>\n",
              "      <td>0.000000</td>\n",
              "      <td>24.000000</td>\n",
              "      <td>0.00000</td>\n",
              "      <td>0.000000</td>\n",
              "      <td>0.000000</td>\n",
              "      <td>0.000000</td>\n",
              "      <td>0.000000</td>\n",
              "      <td>0.000000</td>\n",
              "      <td>0.000000</td>\n",
              "      <td>0.000000</td>\n",
              "    </tr>\n",
              "    <tr>\n",
              "      <th>25%</th>\n",
              "      <td>4878.500000</td>\n",
              "      <td>5.000000</td>\n",
              "      <td>3.000000</td>\n",
              "      <td>0.000000</td>\n",
              "      <td>0.000000</td>\n",
              "      <td>34.000000</td>\n",
              "      <td>0.00000</td>\n",
              "      <td>0.000000</td>\n",
              "      <td>0.000000</td>\n",
              "      <td>0.000000</td>\n",
              "      <td>0.000000</td>\n",
              "      <td>0.000000</td>\n",
              "      <td>0.000000</td>\n",
              "      <td>0.000000</td>\n",
              "    </tr>\n",
              "    <tr>\n",
              "      <th>50%</th>\n",
              "      <td>9413.000000</td>\n",
              "      <td>10.000000</td>\n",
              "      <td>5.000000</td>\n",
              "      <td>0.000000</td>\n",
              "      <td>1.000000</td>\n",
              "      <td>40.000000</td>\n",
              "      <td>0.00000</td>\n",
              "      <td>0.000000</td>\n",
              "      <td>0.000000</td>\n",
              "      <td>1.000000</td>\n",
              "      <td>0.000000</td>\n",
              "      <td>1.000000</td>\n",
              "      <td>1.000000</td>\n",
              "      <td>1.000000</td>\n",
              "    </tr>\n",
              "    <tr>\n",
              "      <th>75%</th>\n",
              "      <td>14619.750000</td>\n",
              "      <td>15.000000</td>\n",
              "      <td>8.000000</td>\n",
              "      <td>1.000000</td>\n",
              "      <td>1.000000</td>\n",
              "      <td>47.000000</td>\n",
              "      <td>1.00000</td>\n",
              "      <td>1.000000</td>\n",
              "      <td>1.000000</td>\n",
              "      <td>1.000000</td>\n",
              "      <td>1.000000</td>\n",
              "      <td>1.000000</td>\n",
              "      <td>1.000000</td>\n",
              "      <td>1.000000</td>\n",
              "    </tr>\n",
              "    <tr>\n",
              "      <th>max</th>\n",
              "      <td>20078.000000</td>\n",
              "      <td>20.000000</td>\n",
              "      <td>12.000000</td>\n",
              "      <td>1.000000</td>\n",
              "      <td>1.000000</td>\n",
              "      <td>55.000000</td>\n",
              "      <td>1.00000</td>\n",
              "      <td>1.000000</td>\n",
              "      <td>1.000000</td>\n",
              "      <td>1.000000</td>\n",
              "      <td>1.000000</td>\n",
              "      <td>1.000000</td>\n",
              "      <td>1.000000</td>\n",
              "      <td>1.000000</td>\n",
              "    </tr>\n",
              "  </tbody>\n",
              "</table>\n",
              "</div>"
            ],
            "text/plain": [
              "                 ID  Employment_period  ...      Awards  Communicative\n",
              "count    998.000000         998.000000  ...  998.000000     998.000000\n",
              "mean    9710.248497          10.388778  ...    0.502004       0.521042\n",
              "std     5639.386232           5.787715  ...    0.500247       0.499808\n",
              "min      235.000000           1.000000  ...    0.000000       0.000000\n",
              "25%     4878.500000           5.000000  ...    0.000000       0.000000\n",
              "50%     9413.000000          10.000000  ...    1.000000       1.000000\n",
              "75%    14619.750000          15.000000  ...    1.000000       1.000000\n",
              "max    20078.000000          20.000000  ...    1.000000       1.000000\n",
              "\n",
              "[8 rows x 14 columns]"
            ]
          },
          "metadata": {
            "tags": []
          },
          "execution_count": 11
        }
      ]
    },
    {
      "cell_type": "markdown",
      "metadata": {
        "id": "gtzkwHgMn8Uv",
        "colab_type": "text"
      },
      "source": [
        "As Part of data preprocessing will check our data quality like what kind of data we have and is there null value or blank which needs to be handled"
      ]
    },
    {
      "cell_type": "code",
      "metadata": {
        "id": "gy90kMJUqwIJ",
        "colab_type": "code",
        "colab": {
          "base_uri": "https://localhost:8080/",
          "height": 269
        },
        "outputId": "4c12784d-ae82-441c-bec5-327c9fd4ea12"
      },
      "source": [
        "# Check if our data has any null values \n",
        "Data.isnull().any()"
      ],
      "execution_count": 12,
      "outputs": [
        {
          "output_type": "execute_result",
          "data": {
            "text/plain": [
              "ID                                      False\n",
              "Employment_period                       False\n",
              "Time_in_current_department              False\n",
              "Gender                                  False\n",
              "Team_leader                             False\n",
              "Age                                     False\n",
              "Member_of_professional_organizations    False\n",
              "Dot_Net                                 False\n",
              "SQL_Server                              False\n",
              "HTML_CSS_Java_Script                    False\n",
              "PHP_mySQL                               False\n",
              "Fast_working                            False\n",
              "Awards                                  False\n",
              "Communicative                           False\n",
              "dtype: bool"
            ]
          },
          "metadata": {
            "tags": []
          },
          "execution_count": 12
        }
      ]
    },
    {
      "cell_type": "markdown",
      "metadata": {
        "id": "HLiC7N9doQEr",
        "colab_type": "text"
      },
      "source": [
        "There is no null value in out data so we don't need any specail handling to fill or remove those tuples"
      ]
    },
    {
      "cell_type": "markdown",
      "metadata": {
        "id": "HN8mezDxoda_",
        "colab_type": "text"
      },
      "source": [
        "We will check what type of data we have"
      ]
    },
    {
      "cell_type": "code",
      "metadata": {
        "id": "bJTGkKVLrDhW",
        "colab_type": "code",
        "colab": {
          "base_uri": "https://localhost:8080/",
          "height": 269
        },
        "outputId": "6369e0cf-c7ab-40d4-9d05-60d268ea4249"
      },
      "source": [
        "# Cecking out the data types for each of our variables. We want to get a sense of whether or not data is numerical (int64, float64) or not (object). \n",
        "Data.dtypes"
      ],
      "execution_count": 13,
      "outputs": [
        {
          "output_type": "execute_result",
          "data": {
            "text/plain": [
              "ID                                      int64\n",
              "Employment_period                       int64\n",
              "Time_in_current_department              int64\n",
              "Gender                                  int64\n",
              "Team_leader                             int64\n",
              "Age                                     int64\n",
              "Member_of_professional_organizations    int64\n",
              "Dot_Net                                 int64\n",
              "SQL_Server                              int64\n",
              "HTML_CSS_Java_Script                    int64\n",
              "PHP_mySQL                               int64\n",
              "Fast_working                            int64\n",
              "Awards                                  int64\n",
              "Communicative                           int64\n",
              "dtype: object"
            ]
          },
          "metadata": {
            "tags": []
          },
          "execution_count": 13
        }
      ]
    },
    {
      "cell_type": "markdown",
      "metadata": {
        "id": "Zo7hZNSCopMl",
        "colab_type": "text"
      },
      "source": [
        "We have all Data of INT64 type\n",
        "\n",
        "Now we will check data size number of rows and coulmns in our data set"
      ]
    },
    {
      "cell_type": "code",
      "metadata": {
        "id": "6VJ9ti0BJTh6",
        "colab_type": "code",
        "colab": {
          "base_uri": "https://localhost:8080/",
          "height": 370
        },
        "outputId": "91ead5af-7b1a-4f37-b3e9-fc164d3b44e9"
      },
      "source": [
        "# Check the information of Data\n",
        "Data.info()"
      ],
      "execution_count": 14,
      "outputs": [
        {
          "output_type": "stream",
          "text": [
            "<class 'pandas.core.frame.DataFrame'>\n",
            "RangeIndex: 998 entries, 0 to 997\n",
            "Data columns (total 14 columns):\n",
            " #   Column                                Non-Null Count  Dtype\n",
            "---  ------                                --------------  -----\n",
            " 0   ID                                    998 non-null    int64\n",
            " 1   Employment_period                     998 non-null    int64\n",
            " 2   Time_in_current_department            998 non-null    int64\n",
            " 3   Gender                                998 non-null    int64\n",
            " 4   Team_leader                           998 non-null    int64\n",
            " 5   Age                                   998 non-null    int64\n",
            " 6   Member_of_professional_organizations  998 non-null    int64\n",
            " 7   Dot_Net                               998 non-null    int64\n",
            " 8   SQL_Server                            998 non-null    int64\n",
            " 9   HTML_CSS_Java_Script                  998 non-null    int64\n",
            " 10  PHP_mySQL                             998 non-null    int64\n",
            " 11  Fast_working                          998 non-null    int64\n",
            " 12  Awards                                998 non-null    int64\n",
            " 13  Communicative                         998 non-null    int64\n",
            "dtypes: int64(14)\n",
            "memory usage: 109.3 KB\n"
          ],
          "name": "stdout"
        }
      ]
    },
    {
      "cell_type": "markdown",
      "metadata": {
        "id": "_JP2eip0o5DC",
        "colab_type": "text"
      },
      "source": [
        "In the given dataset we have 998 row (tuples) and 14 Coulmns( Features)"
      ]
    },
    {
      "cell_type": "markdown",
      "metadata": {
        "id": "_YR8UORPZeuc",
        "colab_type": "text"
      },
      "source": [
        "#•\tPreprocess the data"
      ]
    },
    {
      "cell_type": "markdown",
      "metadata": {
        "id": "OEct2U63pHo3",
        "colab_type": "text"
      },
      "source": [
        "As part of data pre-processing we will check in provided data do we have any duplicate lines are there or not"
      ]
    },
    {
      "cell_type": "code",
      "metadata": {
        "id": "GLwCncFsKHk4",
        "colab_type": "code",
        "colab": {
          "base_uri": "https://localhost:8080/",
          "height": 232
        },
        "outputId": "70ff2c25-9eda-4126-8692-aeff53649c35"
      },
      "source": [
        "# Check if we have any duplicate data based on column ID.\n",
        "duplicate_rows= Data[Data.duplicated(['ID'],keep=False)]\n",
        "\n",
        "print(\"number of duplicate rows- \", sum(Data.duplicated(['ID'])))\n",
        "# Print the number of duplicate rows\n",
        "duplicate_rows.head()"
      ],
      "execution_count": 15,
      "outputs": [
        {
          "output_type": "stream",
          "text": [
            "number of duplicate rows-  24\n"
          ],
          "name": "stdout"
        },
        {
          "output_type": "execute_result",
          "data": {
            "text/html": [
              "<div>\n",
              "<style scoped>\n",
              "    .dataframe tbody tr th:only-of-type {\n",
              "        vertical-align: middle;\n",
              "    }\n",
              "\n",
              "    .dataframe tbody tr th {\n",
              "        vertical-align: top;\n",
              "    }\n",
              "\n",
              "    .dataframe thead th {\n",
              "        text-align: right;\n",
              "    }\n",
              "</style>\n",
              "<table border=\"1\" class=\"dataframe\">\n",
              "  <thead>\n",
              "    <tr style=\"text-align: right;\">\n",
              "      <th></th>\n",
              "      <th>ID</th>\n",
              "      <th>Employment_period</th>\n",
              "      <th>Time_in_current_department</th>\n",
              "      <th>Gender</th>\n",
              "      <th>Team_leader</th>\n",
              "      <th>Age</th>\n",
              "      <th>Member_of_professional_organizations</th>\n",
              "      <th>Dot_Net</th>\n",
              "      <th>SQL_Server</th>\n",
              "      <th>HTML_CSS_Java_Script</th>\n",
              "      <th>PHP_mySQL</th>\n",
              "      <th>Fast_working</th>\n",
              "      <th>Awards</th>\n",
              "      <th>Communicative</th>\n",
              "    </tr>\n",
              "  </thead>\n",
              "  <tbody>\n",
              "    <tr>\n",
              "      <th>21</th>\n",
              "      <td>5170</td>\n",
              "      <td>11</td>\n",
              "      <td>11</td>\n",
              "      <td>0</td>\n",
              "      <td>0</td>\n",
              "      <td>42</td>\n",
              "      <td>1</td>\n",
              "      <td>0</td>\n",
              "      <td>1</td>\n",
              "      <td>1</td>\n",
              "      <td>1</td>\n",
              "      <td>1</td>\n",
              "      <td>1</td>\n",
              "      <td>1</td>\n",
              "    </tr>\n",
              "    <tr>\n",
              "      <th>31</th>\n",
              "      <td>11085</td>\n",
              "      <td>20</td>\n",
              "      <td>2</td>\n",
              "      <td>0</td>\n",
              "      <td>1</td>\n",
              "      <td>50</td>\n",
              "      <td>1</td>\n",
              "      <td>1</td>\n",
              "      <td>1</td>\n",
              "      <td>0</td>\n",
              "      <td>1</td>\n",
              "      <td>0</td>\n",
              "      <td>0</td>\n",
              "      <td>0</td>\n",
              "    </tr>\n",
              "    <tr>\n",
              "      <th>56</th>\n",
              "      <td>15645</td>\n",
              "      <td>2</td>\n",
              "      <td>2</td>\n",
              "      <td>1</td>\n",
              "      <td>0</td>\n",
              "      <td>54</td>\n",
              "      <td>1</td>\n",
              "      <td>1</td>\n",
              "      <td>0</td>\n",
              "      <td>1</td>\n",
              "      <td>1</td>\n",
              "      <td>1</td>\n",
              "      <td>1</td>\n",
              "      <td>0</td>\n",
              "    </tr>\n",
              "    <tr>\n",
              "      <th>72</th>\n",
              "      <td>15645</td>\n",
              "      <td>8</td>\n",
              "      <td>5</td>\n",
              "      <td>0</td>\n",
              "      <td>0</td>\n",
              "      <td>28</td>\n",
              "      <td>0</td>\n",
              "      <td>1</td>\n",
              "      <td>0</td>\n",
              "      <td>1</td>\n",
              "      <td>1</td>\n",
              "      <td>0</td>\n",
              "      <td>1</td>\n",
              "      <td>1</td>\n",
              "    </tr>\n",
              "    <tr>\n",
              "      <th>95</th>\n",
              "      <td>17000</td>\n",
              "      <td>12</td>\n",
              "      <td>12</td>\n",
              "      <td>1</td>\n",
              "      <td>0</td>\n",
              "      <td>43</td>\n",
              "      <td>0</td>\n",
              "      <td>0</td>\n",
              "      <td>0</td>\n",
              "      <td>1</td>\n",
              "      <td>0</td>\n",
              "      <td>0</td>\n",
              "      <td>0</td>\n",
              "      <td>0</td>\n",
              "    </tr>\n",
              "  </tbody>\n",
              "</table>\n",
              "</div>"
            ],
            "text/plain": [
              "       ID  Employment_period  ...  Awards  Communicative\n",
              "21   5170                 11  ...       1              1\n",
              "31  11085                 20  ...       0              0\n",
              "56  15645                  2  ...       1              0\n",
              "72  15645                  8  ...       1              1\n",
              "95  17000                 12  ...       0              0\n",
              "\n",
              "[5 rows x 14 columns]"
            ]
          },
          "metadata": {
            "tags": []
          },
          "execution_count": 15
        }
      ]
    },
    {
      "cell_type": "markdown",
      "metadata": {
        "id": "4z3joj4SZopH",
        "colab_type": "text"
      },
      "source": [
        "# Observations"
      ]
    },
    {
      "cell_type": "markdown",
      "metadata": {
        "id": "fUs6-XTUcnRG",
        "colab_type": "text"
      },
      "source": [
        "1) There are 998 items in the dataset and 14 features.\n",
        "\n",
        "2) There are no empty items\n",
        "\n",
        "3) There are both categorical and numerical value in the given data set.\n",
        "\n",
        "4) ID is a running queue to identify an employee uniquely.\n",
        "\n",
        "5) Employment Period, Time in current department and Age are numerical values.\n",
        "\n",
        "6) Gender, Team leader, Member of professional organizations, .Net, SQL Server, HTML CSS Java Script, PHP mySQL, Fast working, Awards and Communicative are all binary type of data having value either 0 or 1. 0 meaning absence of skill and 1 meaning presence.\n",
        "\n",
        "7) There doesn't seem to be noisy data in this data set as all binary type of columns have either 0 or 1 values. Also Age, Employment period and Time in current department seem to be well within the acceptable range.\n",
        "\n",
        "8) All the numerical columns follow the same scale, i.e., number of years and hence no further scaling may be needed.\n",
        "\n",
        "9) As we can see, for the same employee ID, there are duplicate rows in the dataset. There are 24 ID's having duplicate entries in the table."
      ]
    },
    {
      "cell_type": "markdown",
      "metadata": {
        "id": "TyM2L5prrSOL",
        "colab_type": "text"
      },
      "source": [
        "We will remove the duplicate tuples from data set and while removing we will keep the first entry from the data set and remove other duplicate tuples"
      ]
    },
    {
      "cell_type": "code",
      "metadata": {
        "id": "fhbDB8W7KfNJ",
        "colab_type": "code",
        "colab": {
          "base_uri": "https://localhost:8080/",
          "height": 50
        },
        "outputId": "dca9f9c4-c950-48d7-a464-47e014321405"
      },
      "source": [
        "print(\"Dimension of the table before deleting duplicates - \",Data.shape)\n",
        "\n",
        "# Remove the duplicate Data from Data set as part of cleaning activity.\n",
        "cleanData = Data.drop_duplicates(['ID'],keep='first',inplace=False)\n",
        "print(\"Dimension of the table before after duplicates - \",cleanData.shape)"
      ],
      "execution_count": 16,
      "outputs": [
        {
          "output_type": "stream",
          "text": [
            "Dimension of the table before deleting duplicates -  (998, 14)\n",
            "Dimension of the table before after duplicates -  (974, 14)\n"
          ],
          "name": "stdout"
        }
      ]
    },
    {
      "cell_type": "markdown",
      "metadata": {
        "id": "49OnOx9mrl9q",
        "colab_type": "text"
      },
      "source": [
        "After removing duplicate entries we have now 974 Tuples"
      ]
    },
    {
      "cell_type": "code",
      "metadata": {
        "id": "SM5AR299b9l0",
        "colab_type": "code",
        "colab": {
          "base_uri": "https://localhost:8080/",
          "height": 304
        },
        "outputId": "fb4fe6af-cbe6-48c0-f487-eb6ff27894dc"
      },
      "source": [
        "# Summarize numerical features\n",
        "# Display the statistical overview of the employees\n",
        "cleanData.describe()"
      ],
      "execution_count": 17,
      "outputs": [
        {
          "output_type": "execute_result",
          "data": {
            "text/html": [
              "<div>\n",
              "<style scoped>\n",
              "    .dataframe tbody tr th:only-of-type {\n",
              "        vertical-align: middle;\n",
              "    }\n",
              "\n",
              "    .dataframe tbody tr th {\n",
              "        vertical-align: top;\n",
              "    }\n",
              "\n",
              "    .dataframe thead th {\n",
              "        text-align: right;\n",
              "    }\n",
              "</style>\n",
              "<table border=\"1\" class=\"dataframe\">\n",
              "  <thead>\n",
              "    <tr style=\"text-align: right;\">\n",
              "      <th></th>\n",
              "      <th>ID</th>\n",
              "      <th>Employment_period</th>\n",
              "      <th>Time_in_current_department</th>\n",
              "      <th>Gender</th>\n",
              "      <th>Team_leader</th>\n",
              "      <th>Age</th>\n",
              "      <th>Member_of_professional_organizations</th>\n",
              "      <th>Dot_Net</th>\n",
              "      <th>SQL_Server</th>\n",
              "      <th>HTML_CSS_Java_Script</th>\n",
              "      <th>PHP_mySQL</th>\n",
              "      <th>Fast_working</th>\n",
              "      <th>Awards</th>\n",
              "      <th>Communicative</th>\n",
              "    </tr>\n",
              "  </thead>\n",
              "  <tbody>\n",
              "    <tr>\n",
              "      <th>count</th>\n",
              "      <td>974.000000</td>\n",
              "      <td>974.000000</td>\n",
              "      <td>974.000000</td>\n",
              "      <td>974.00000</td>\n",
              "      <td>974.000000</td>\n",
              "      <td>974.000000</td>\n",
              "      <td>974.000000</td>\n",
              "      <td>974.000000</td>\n",
              "      <td>974.000000</td>\n",
              "      <td>974.000000</td>\n",
              "      <td>974.000000</td>\n",
              "      <td>974.000000</td>\n",
              "      <td>974.000000</td>\n",
              "      <td>974.000000</td>\n",
              "    </tr>\n",
              "    <tr>\n",
              "      <th>mean</th>\n",
              "      <td>9685.273101</td>\n",
              "      <td>10.383984</td>\n",
              "      <td>5.666324</td>\n",
              "      <td>0.48460</td>\n",
              "      <td>0.504107</td>\n",
              "      <td>40.468172</td>\n",
              "      <td>0.492813</td>\n",
              "      <td>0.475359</td>\n",
              "      <td>0.477413</td>\n",
              "      <td>0.510267</td>\n",
              "      <td>0.477413</td>\n",
              "      <td>0.506160</td>\n",
              "      <td>0.503080</td>\n",
              "      <td>0.521561</td>\n",
              "    </tr>\n",
              "    <tr>\n",
              "      <th>std</th>\n",
              "      <td>5644.149190</td>\n",
              "      <td>5.803602</td>\n",
              "      <td>3.206903</td>\n",
              "      <td>0.50002</td>\n",
              "      <td>0.500240</td>\n",
              "      <td>8.080181</td>\n",
              "      <td>0.500205</td>\n",
              "      <td>0.499649</td>\n",
              "      <td>0.499746</td>\n",
              "      <td>0.500151</td>\n",
              "      <td>0.499746</td>\n",
              "      <td>0.500219</td>\n",
              "      <td>0.500247</td>\n",
              "      <td>0.499792</td>\n",
              "    </tr>\n",
              "    <tr>\n",
              "      <th>min</th>\n",
              "      <td>235.000000</td>\n",
              "      <td>1.000000</td>\n",
              "      <td>1.000000</td>\n",
              "      <td>0.00000</td>\n",
              "      <td>0.000000</td>\n",
              "      <td>24.000000</td>\n",
              "      <td>0.000000</td>\n",
              "      <td>0.000000</td>\n",
              "      <td>0.000000</td>\n",
              "      <td>0.000000</td>\n",
              "      <td>0.000000</td>\n",
              "      <td>0.000000</td>\n",
              "      <td>0.000000</td>\n",
              "      <td>0.000000</td>\n",
              "    </tr>\n",
              "    <tr>\n",
              "      <th>25%</th>\n",
              "      <td>4763.250000</td>\n",
              "      <td>5.000000</td>\n",
              "      <td>3.000000</td>\n",
              "      <td>0.00000</td>\n",
              "      <td>0.000000</td>\n",
              "      <td>34.000000</td>\n",
              "      <td>0.000000</td>\n",
              "      <td>0.000000</td>\n",
              "      <td>0.000000</td>\n",
              "      <td>0.000000</td>\n",
              "      <td>0.000000</td>\n",
              "      <td>0.000000</td>\n",
              "      <td>0.000000</td>\n",
              "      <td>0.000000</td>\n",
              "    </tr>\n",
              "    <tr>\n",
              "      <th>50%</th>\n",
              "      <td>9389.000000</td>\n",
              "      <td>10.000000</td>\n",
              "      <td>5.000000</td>\n",
              "      <td>0.00000</td>\n",
              "      <td>1.000000</td>\n",
              "      <td>40.000000</td>\n",
              "      <td>0.000000</td>\n",
              "      <td>0.000000</td>\n",
              "      <td>0.000000</td>\n",
              "      <td>1.000000</td>\n",
              "      <td>0.000000</td>\n",
              "      <td>1.000000</td>\n",
              "      <td>1.000000</td>\n",
              "      <td>1.000000</td>\n",
              "    </tr>\n",
              "    <tr>\n",
              "      <th>75%</th>\n",
              "      <td>14570.500000</td>\n",
              "      <td>15.000000</td>\n",
              "      <td>8.000000</td>\n",
              "      <td>1.00000</td>\n",
              "      <td>1.000000</td>\n",
              "      <td>47.000000</td>\n",
              "      <td>1.000000</td>\n",
              "      <td>1.000000</td>\n",
              "      <td>1.000000</td>\n",
              "      <td>1.000000</td>\n",
              "      <td>1.000000</td>\n",
              "      <td>1.000000</td>\n",
              "      <td>1.000000</td>\n",
              "      <td>1.000000</td>\n",
              "    </tr>\n",
              "    <tr>\n",
              "      <th>max</th>\n",
              "      <td>20078.000000</td>\n",
              "      <td>20.000000</td>\n",
              "      <td>12.000000</td>\n",
              "      <td>1.00000</td>\n",
              "      <td>1.000000</td>\n",
              "      <td>55.000000</td>\n",
              "      <td>1.000000</td>\n",
              "      <td>1.000000</td>\n",
              "      <td>1.000000</td>\n",
              "      <td>1.000000</td>\n",
              "      <td>1.000000</td>\n",
              "      <td>1.000000</td>\n",
              "      <td>1.000000</td>\n",
              "      <td>1.000000</td>\n",
              "    </tr>\n",
              "  </tbody>\n",
              "</table>\n",
              "</div>"
            ],
            "text/plain": [
              "                 ID  Employment_period  ...      Awards  Communicative\n",
              "count    974.000000         974.000000  ...  974.000000     974.000000\n",
              "mean    9685.273101          10.383984  ...    0.503080       0.521561\n",
              "std     5644.149190           5.803602  ...    0.500247       0.499792\n",
              "min      235.000000           1.000000  ...    0.000000       0.000000\n",
              "25%     4763.250000           5.000000  ...    0.000000       0.000000\n",
              "50%     9389.000000          10.000000  ...    1.000000       1.000000\n",
              "75%    14570.500000          15.000000  ...    1.000000       1.000000\n",
              "max    20078.000000          20.000000  ...    1.000000       1.000000\n",
              "\n",
              "[8 rows x 14 columns]"
            ]
          },
          "metadata": {
            "tags": []
          },
          "execution_count": 17
        }
      ]
    },
    {
      "cell_type": "code",
      "metadata": {
        "id": "QBal5uILK2tI",
        "colab_type": "code",
        "colab": {}
      },
      "source": [
        "# Drop the ID as there is no use of while finding association rule\n",
        "# For drop any Column which is not relavant to finding association rule\n",
        "# cleanData.drop('ID',axis=1)"
      ],
      "execution_count": 18,
      "outputs": []
    },
    {
      "cell_type": "markdown",
      "metadata": {
        "id": "fJ3gavUjrtfZ",
        "colab_type": "text"
      },
      "source": [
        "As part of data reduction we will drop the employee ID as while generating association rule using Apriori we don't need the employee ID"
      ]
    },
    {
      "cell_type": "code",
      "metadata": {
        "id": "G9TK2oGiK29P",
        "colab_type": "code",
        "colab": {}
      },
      "source": [
        "# Check Data shape after droping ID column as that will not be used for finding any Association rules\n",
        "cleanData.shape\n",
        "cleanData.head()\n",
        "df = cleanData.drop('ID',axis=1)"
      ],
      "execution_count": 19,
      "outputs": []
    },
    {
      "cell_type": "markdown",
      "metadata": {
        "id": "-zMmcukisBOt",
        "colab_type": "text"
      },
      "source": [
        "Check the data after droping Employee ID"
      ]
    },
    {
      "cell_type": "code",
      "metadata": {
        "id": "Qdiz5xkZLL_h",
        "colab_type": "code",
        "colab": {
          "base_uri": "https://localhost:8080/",
          "height": 215
        },
        "outputId": "067e65ed-410e-4d48-977e-fa0bf59e53f9"
      },
      "source": [
        "df.head()"
      ],
      "execution_count": 20,
      "outputs": [
        {
          "output_type": "execute_result",
          "data": {
            "text/html": [
              "<div>\n",
              "<style scoped>\n",
              "    .dataframe tbody tr th:only-of-type {\n",
              "        vertical-align: middle;\n",
              "    }\n",
              "\n",
              "    .dataframe tbody tr th {\n",
              "        vertical-align: top;\n",
              "    }\n",
              "\n",
              "    .dataframe thead th {\n",
              "        text-align: right;\n",
              "    }\n",
              "</style>\n",
              "<table border=\"1\" class=\"dataframe\">\n",
              "  <thead>\n",
              "    <tr style=\"text-align: right;\">\n",
              "      <th></th>\n",
              "      <th>Employment_period</th>\n",
              "      <th>Time_in_current_department</th>\n",
              "      <th>Gender</th>\n",
              "      <th>Team_leader</th>\n",
              "      <th>Age</th>\n",
              "      <th>Member_of_professional_organizations</th>\n",
              "      <th>Dot_Net</th>\n",
              "      <th>SQL_Server</th>\n",
              "      <th>HTML_CSS_Java_Script</th>\n",
              "      <th>PHP_mySQL</th>\n",
              "      <th>Fast_working</th>\n",
              "      <th>Awards</th>\n",
              "      <th>Communicative</th>\n",
              "    </tr>\n",
              "  </thead>\n",
              "  <tbody>\n",
              "    <tr>\n",
              "      <th>0</th>\n",
              "      <td>5</td>\n",
              "      <td>4</td>\n",
              "      <td>0</td>\n",
              "      <td>1</td>\n",
              "      <td>48</td>\n",
              "      <td>1</td>\n",
              "      <td>1</td>\n",
              "      <td>1</td>\n",
              "      <td>0</td>\n",
              "      <td>1</td>\n",
              "      <td>1</td>\n",
              "      <td>0</td>\n",
              "      <td>1</td>\n",
              "    </tr>\n",
              "    <tr>\n",
              "      <th>1</th>\n",
              "      <td>5</td>\n",
              "      <td>3</td>\n",
              "      <td>1</td>\n",
              "      <td>1</td>\n",
              "      <td>26</td>\n",
              "      <td>1</td>\n",
              "      <td>1</td>\n",
              "      <td>0</td>\n",
              "      <td>0</td>\n",
              "      <td>1</td>\n",
              "      <td>1</td>\n",
              "      <td>0</td>\n",
              "      <td>0</td>\n",
              "    </tr>\n",
              "    <tr>\n",
              "      <th>2</th>\n",
              "      <td>11</td>\n",
              "      <td>8</td>\n",
              "      <td>0</td>\n",
              "      <td>0</td>\n",
              "      <td>34</td>\n",
              "      <td>0</td>\n",
              "      <td>0</td>\n",
              "      <td>1</td>\n",
              "      <td>1</td>\n",
              "      <td>0</td>\n",
              "      <td>1</td>\n",
              "      <td>0</td>\n",
              "      <td>1</td>\n",
              "    </tr>\n",
              "    <tr>\n",
              "      <th>3</th>\n",
              "      <td>7</td>\n",
              "      <td>5</td>\n",
              "      <td>1</td>\n",
              "      <td>1</td>\n",
              "      <td>27</td>\n",
              "      <td>1</td>\n",
              "      <td>0</td>\n",
              "      <td>1</td>\n",
              "      <td>0</td>\n",
              "      <td>1</td>\n",
              "      <td>1</td>\n",
              "      <td>1</td>\n",
              "      <td>0</td>\n",
              "    </tr>\n",
              "    <tr>\n",
              "      <th>4</th>\n",
              "      <td>18</td>\n",
              "      <td>8</td>\n",
              "      <td>0</td>\n",
              "      <td>0</td>\n",
              "      <td>38</td>\n",
              "      <td>0</td>\n",
              "      <td>0</td>\n",
              "      <td>0</td>\n",
              "      <td>1</td>\n",
              "      <td>1</td>\n",
              "      <td>1</td>\n",
              "      <td>1</td>\n",
              "      <td>1</td>\n",
              "    </tr>\n",
              "  </tbody>\n",
              "</table>\n",
              "</div>"
            ],
            "text/plain": [
              "   Employment_period  Time_in_current_department  ...  Awards  Communicative\n",
              "0                  5                           4  ...       0              1\n",
              "1                  5                           3  ...       0              0\n",
              "2                 11                           8  ...       0              1\n",
              "3                  7                           5  ...       1              0\n",
              "4                 18                           8  ...       1              1\n",
              "\n",
              "[5 rows x 13 columns]"
            ]
          },
          "metadata": {
            "tags": []
          },
          "execution_count": 20
        }
      ]
    },
    {
      "cell_type": "code",
      "metadata": {
        "id": "CT8h-1Fdc0xU",
        "colab_type": "code",
        "colab": {}
      },
      "source": [
        "#Extracting categorical features\n",
        "categorical_features = [col for col in cleanData if np.isin(cleanData[col].unique(), range(0,21)).all()]"
      ],
      "execution_count": 21,
      "outputs": []
    },
    {
      "cell_type": "code",
      "metadata": {
        "id": "t73q5l0TdDQK",
        "colab_type": "code",
        "colab": {
          "base_uri": "https://localhost:8080/",
          "height": 218
        },
        "outputId": "d42bbe1f-2d4f-48f7-f771-17d6c97d8938"
      },
      "source": [
        "categorical_features"
      ],
      "execution_count": 22,
      "outputs": [
        {
          "output_type": "execute_result",
          "data": {
            "text/plain": [
              "['Employment_period',\n",
              " 'Time_in_current_department',\n",
              " 'Gender',\n",
              " 'Team_leader',\n",
              " 'Member_of_professional_organizations',\n",
              " 'Dot_Net',\n",
              " 'SQL_Server',\n",
              " 'HTML_CSS_Java_Script',\n",
              " 'PHP_mySQL',\n",
              " 'Fast_working',\n",
              " 'Awards',\n",
              " 'Communicative']"
            ]
          },
          "metadata": {
            "tags": []
          },
          "execution_count": 22
        }
      ]
    },
    {
      "cell_type": "markdown",
      "metadata": {
        "id": "Kly3V4ZAdIfb",
        "colab_type": "text"
      },
      "source": [
        "We have total 12 categorical features"
      ]
    },
    {
      "cell_type": "code",
      "metadata": {
        "id": "HlgJ8ARXd3J1",
        "colab_type": "code",
        "colab": {}
      },
      "source": [
        "#extracting all the continuous features\n",
        "continuous_features = [col for col in cleanData if not np.isin(cleanData[col].unique(),range(0,21)).all()]"
      ],
      "execution_count": 23,
      "outputs": []
    },
    {
      "cell_type": "code",
      "metadata": {
        "id": "gNYF4HCAd3Ow",
        "colab_type": "code",
        "colab": {
          "base_uri": "https://localhost:8080/",
          "height": 34
        },
        "outputId": "9254a8f1-c028-4da2-8fb0-df6e073a5d34"
      },
      "source": [
        "continuous_features"
      ],
      "execution_count": 24,
      "outputs": [
        {
          "output_type": "execute_result",
          "data": {
            "text/plain": [
              "['ID', 'Age']"
            ]
          },
          "metadata": {
            "tags": []
          },
          "execution_count": 24
        }
      ]
    },
    {
      "cell_type": "code",
      "metadata": {
        "id": "M1NBKQOcd25s",
        "colab_type": "code",
        "colab": {
          "base_uri": "https://localhost:8080/",
          "height": 627
        },
        "outputId": "862c22f5-caf8-4250-fcd4-e6bdf43fa514"
      },
      "source": [
        "# Plot histogram grid on continuous features\n",
        "cleanData[continuous_features].hist(figsize=(20,10), xrot=-45, edgecolor='black')\n",
        "\n",
        "# Clear the text \"residue\"\n",
        "plt.show()"
      ],
      "execution_count": 25,
      "outputs": [
        {
          "output_type": "display_data",
          "data": {
            "image/png": "[encoded data removed]",
            "text/plain": [
              "<Figure size 1440x720 with 2 Axes>"
            ]
          },
          "metadata": {
            "tags": [],
            "needs_background": "light"
          }
        }
      ]
    },
    {
      "cell_type": "code",
      "metadata": {
        "id": "MOtbU7ySfEt4",
        "colab_type": "code",
        "colab": {}
      },
      "source": [
        "\n"
      ],
      "execution_count": 25,
      "outputs": []
    },
    {
      "cell_type": "code",
      "metadata": {
        "id": "Qa0ir-2IeKDO",
        "colab_type": "code",
        "colab": {
          "base_uri": "https://localhost:8080/",
          "height": 1000
        },
        "outputId": "1f7142f5-7d07-44f5-c378-c068cee0001c"
      },
      "source": [
        "# Segment satisfaction by status and plot distributions\n",
        "for cat_feat in categorical_features:\n",
        "    sns.boxplot(y='Age', x = cat_feat, data=df)\n",
        "    plt.show()"
      ],
      "execution_count": 26,
      "outputs": [
        {
          "output_type": "display_data",
          "data": {
            "image/png": "[encoded data removed]",
            "text/plain": [
              "<Figure size 432x288 with 1 Axes>"
            ]
          },
          "metadata": {
            "tags": [],
            "needs_background": "light"
          }
        },
        {
          "output_type": "display_data",
          "data": {
            "image/png": "[encoded data removed]",
            "text/plain": [
              "<Figure size 432x288 with 1 Axes>"
            ]
          },
          "metadata": {
            "tags": [],
            "needs_background": "light"
          }
        },
        {
          "output_type": "display_data",
          "data": {
            "image/png": "[encoded data removed]",
            "text/plain": [
              "<Figure size 432x288 with 1 Axes>"
            ]
          },
          "metadata": {
            "tags": [],
            "needs_background": "light"
          }
        },
        {
          "output_type": "display_data",
          "data": {
            "image/png": "[encoded data removed]",
            "text/plain": [
              "<Figure size 432x288 with 1 Axes>"
            ]
          },
          "metadata": {
            "tags": [],
            "needs_background": "light"
          }
        },
        {
          "output_type": "display_data",
          "data": {
            "image/png": "[encoded data removed]",
            "text/plain": [
              "<Figure size 432x288 with 1 Axes>"
            ]
          },
          "metadata": {
            "tags": [],
            "needs_background": "light"
          }
        },
        {
          "output_type": "display_data",
          "data": {
            "image/png": "[encoded data removed]",
            "text/plain": [
              "<Figure size 432x288 with 1 Axes>"
            ]
          },
          "metadata": {
            "tags": [],
            "needs_background": "light"
          }
        },
        {
          "output_type": "display_data",
          "data": {
            "image/png": "[encoded data removed]",
            "text/plain": [
              "<Figure size 432x288 with 1 Axes>"
            ]
          },
          "metadata": {
            "tags": [],
            "needs_background": "light"
          }
        },
        {
          "output_type": "display_data",
          "data": {
            "image/png": "[encoded data removed]",
            "text/plain": [
              "<Figure size 432x288 with 1 Axes>"
            ]
          },
          "metadata": {
            "tags": [],
            "needs_background": "light"
          }
        },
        {
          "output_type": "display_data",
          "data": {
            "image/png": "[encoded data removed]",
            "text/plain": [
              "<Figure size 432x288 with 1 Axes>"
            ]
          },
          "metadata": {
            "tags": [],
            "needs_background": "light"
          }
        },
        {
          "output_type": "display_data",
          "data": {
            "image/png": "[encoded data removed]",
            "text/plain": [
              "<Figure size 432x288 with 1 Axes>"
            ]
          },
          "metadata": {
            "tags": [],
            "needs_background": "light"
          }
        },
        {
          "output_type": "display_data",
          "data": {
            "image/png": "[encoded data removed]",
            "text/plain": [
              "<Figure size 432x288 with 1 Axes>"
            ]
          },
          "metadata": {
            "tags": [],
            "needs_background": "light"
          }
        },
        {
          "output_type": "display_data",
          "data": {
            "image/png": "[encoded data removed]",
            "text/plain": [
              "<Figure size 432x288 with 1 Axes>"
            ]
          },
          "metadata": {
            "tags": [],
            "needs_background": "light"
          }
        }
      ]
    },
    {
      "cell_type": "markdown",
      "metadata": {
        "id": "RtInW8pAZ2GW",
        "colab_type": "text"
      },
      "source": [
        "# Now will convert continues values into Bins"
      ]
    },
    {
      "cell_type": "markdown",
      "metadata": {
        "id": "J-nKrY-WsG5L",
        "colab_type": "text"
      },
      "source": [
        "As part of Data analysis we will check mean, standard deviation and min, max and 5-Point of Employment period"
      ]
    },
    {
      "cell_type": "code",
      "metadata": {
        "id": "sWx-GuNrLMF7",
        "colab_type": "code",
        "colab": {
          "base_uri": "https://localhost:8080/",
          "height": 168
        },
        "outputId": "682e4aee-c0b1-4aea-acf9-5642710dded4"
      },
      "source": [
        "# Get the attribute/ Details of Employment period.\n",
        "df['Employment_period'].describe()"
      ],
      "execution_count": 27,
      "outputs": [
        {
          "output_type": "execute_result",
          "data": {
            "text/plain": [
              "count    974.000000\n",
              "mean      10.383984\n",
              "std        5.803602\n",
              "min        1.000000\n",
              "25%        5.000000\n",
              "50%       10.000000\n",
              "75%       15.000000\n",
              "max       20.000000\n",
              "Name: Employment_period, dtype: float64"
            ]
          },
          "metadata": {
            "tags": []
          },
          "execution_count": 27
        }
      ]
    },
    {
      "cell_type": "markdown",
      "metadata": {
        "id": "ClXY9tr0srkn",
        "colab_type": "text"
      },
      "source": [
        "As Employement period is numerical data and we will perform equi-width binning on data and data new column representing bins\n",
        "Based on above ananlysis we will convert in to 4 bins and width of 5"
      ]
    },
    {
      "cell_type": "code",
      "metadata": {
        "id": "GX0nBgXJLMEH",
        "colab_type": "code",
        "colab": {}
      },
      "source": [
        "# Convert the employment period in to bins and add new colmns\n",
        "employment_period_bin_label = ['0-5', '6-10', '11-15', '16-20']\n",
        "cut_bins = [0, 5, 10, 15, 20]\n",
        "df['employment_period_bin'] = pd.cut(df['Employment_period'], bins=cut_bins, labels=employment_period_bin_label)"
      ],
      "execution_count": 28,
      "outputs": []
    },
    {
      "cell_type": "markdown",
      "metadata": {
        "id": "75ihVQbttu9T",
        "colab_type": "text"
      },
      "source": [
        "After Binning each tuple will be assigned there particulare bin"
      ]
    },
    {
      "cell_type": "code",
      "metadata": {
        "id": "iySL6XlLLL7q",
        "colab_type": "code",
        "colab": {
          "base_uri": "https://localhost:8080/",
          "height": 215
        },
        "outputId": "bafb8929-f1a6-49b6-af38-f9a46d016b72"
      },
      "source": [
        "#  Check if new column of Employment range(Bins) are created\n",
        "df.head()"
      ],
      "execution_count": 29,
      "outputs": [
        {
          "output_type": "execute_result",
          "data": {
            "text/html": [
              "<div>\n",
              "<style scoped>\n",
              "    .dataframe tbody tr th:only-of-type {\n",
              "        vertical-align: middle;\n",
              "    }\n",
              "\n",
              "    .dataframe tbody tr th {\n",
              "        vertical-align: top;\n",
              "    }\n",
              "\n",
              "    .dataframe thead th {\n",
              "        text-align: right;\n",
              "    }\n",
              "</style>\n",
              "<table border=\"1\" class=\"dataframe\">\n",
              "  <thead>\n",
              "    <tr style=\"text-align: right;\">\n",
              "      <th></th>\n",
              "      <th>Employment_period</th>\n",
              "      <th>Time_in_current_department</th>\n",
              "      <th>Gender</th>\n",
              "      <th>Team_leader</th>\n",
              "      <th>Age</th>\n",
              "      <th>Member_of_professional_organizations</th>\n",
              "      <th>Dot_Net</th>\n",
              "      <th>SQL_Server</th>\n",
              "      <th>HTML_CSS_Java_Script</th>\n",
              "      <th>PHP_mySQL</th>\n",
              "      <th>Fast_working</th>\n",
              "      <th>Awards</th>\n",
              "      <th>Communicative</th>\n",
              "      <th>employment_period_bin</th>\n",
              "    </tr>\n",
              "  </thead>\n",
              "  <tbody>\n",
              "    <tr>\n",
              "      <th>0</th>\n",
              "      <td>5</td>\n",
              "      <td>4</td>\n",
              "      <td>0</td>\n",
              "      <td>1</td>\n",
              "      <td>48</td>\n",
              "      <td>1</td>\n",
              "      <td>1</td>\n",
              "      <td>1</td>\n",
              "      <td>0</td>\n",
              "      <td>1</td>\n",
              "      <td>1</td>\n",
              "      <td>0</td>\n",
              "      <td>1</td>\n",
              "      <td>0-5</td>\n",
              "    </tr>\n",
              "    <tr>\n",
              "      <th>1</th>\n",
              "      <td>5</td>\n",
              "      <td>3</td>\n",
              "      <td>1</td>\n",
              "      <td>1</td>\n",
              "      <td>26</td>\n",
              "      <td>1</td>\n",
              "      <td>1</td>\n",
              "      <td>0</td>\n",
              "      <td>0</td>\n",
              "      <td>1</td>\n",
              "      <td>1</td>\n",
              "      <td>0</td>\n",
              "      <td>0</td>\n",
              "      <td>0-5</td>\n",
              "    </tr>\n",
              "    <tr>\n",
              "      <th>2</th>\n",
              "      <td>11</td>\n",
              "      <td>8</td>\n",
              "      <td>0</td>\n",
              "      <td>0</td>\n",
              "      <td>34</td>\n",
              "      <td>0</td>\n",
              "      <td>0</td>\n",
              "      <td>1</td>\n",
              "      <td>1</td>\n",
              "      <td>0</td>\n",
              "      <td>1</td>\n",
              "      <td>0</td>\n",
              "      <td>1</td>\n",
              "      <td>11-15</td>\n",
              "    </tr>\n",
              "    <tr>\n",
              "      <th>3</th>\n",
              "      <td>7</td>\n",
              "      <td>5</td>\n",
              "      <td>1</td>\n",
              "      <td>1</td>\n",
              "      <td>27</td>\n",
              "      <td>1</td>\n",
              "      <td>0</td>\n",
              "      <td>1</td>\n",
              "      <td>0</td>\n",
              "      <td>1</td>\n",
              "      <td>1</td>\n",
              "      <td>1</td>\n",
              "      <td>0</td>\n",
              "      <td>6-10</td>\n",
              "    </tr>\n",
              "    <tr>\n",
              "      <th>4</th>\n",
              "      <td>18</td>\n",
              "      <td>8</td>\n",
              "      <td>0</td>\n",
              "      <td>0</td>\n",
              "      <td>38</td>\n",
              "      <td>0</td>\n",
              "      <td>0</td>\n",
              "      <td>0</td>\n",
              "      <td>1</td>\n",
              "      <td>1</td>\n",
              "      <td>1</td>\n",
              "      <td>1</td>\n",
              "      <td>1</td>\n",
              "      <td>16-20</td>\n",
              "    </tr>\n",
              "  </tbody>\n",
              "</table>\n",
              "</div>"
            ],
            "text/plain": [
              "   Employment_period  ...  employment_period_bin\n",
              "0                  5  ...                    0-5\n",
              "1                  5  ...                    0-5\n",
              "2                 11  ...                  11-15\n",
              "3                  7  ...                   6-10\n",
              "4                 18  ...                  16-20\n",
              "\n",
              "[5 rows x 14 columns]"
            ]
          },
          "metadata": {
            "tags": []
          },
          "execution_count": 29
        }
      ]
    },
    {
      "cell_type": "markdown",
      "metadata": {
        "id": "Y9VtwjtuuiG0",
        "colab_type": "text"
      },
      "source": [
        "As part of Data analysis we will check mean, standard deviation and min, max and 5-Point of age also similar to Employement period"
      ]
    },
    {
      "cell_type": "code",
      "metadata": {
        "id": "jF1Eri51uBNW",
        "colab_type": "code",
        "colab": {
          "base_uri": "https://localhost:8080/",
          "height": 168
        },
        "outputId": "f675db00-00fd-498f-e4ab-05f03c03ceef"
      },
      "source": [
        "# Similar to employement period convert Age into range (Bins) and Check Head for the same\n",
        "df['Age'].describe()"
      ],
      "execution_count": 30,
      "outputs": [
        {
          "output_type": "execute_result",
          "data": {
            "text/plain": [
              "count    974.000000\n",
              "mean      40.468172\n",
              "std        8.080181\n",
              "min       24.000000\n",
              "25%       34.000000\n",
              "50%       40.000000\n",
              "75%       47.000000\n",
              "max       55.000000\n",
              "Name: Age, dtype: float64"
            ]
          },
          "metadata": {
            "tags": []
          },
          "execution_count": 30
        }
      ]
    },
    {
      "cell_type": "markdown",
      "metadata": {
        "id": "730xZSX7t5HN",
        "colab_type": "text"
      },
      "source": [
        "As Age is numerical data and we will perform equi-width binning on data and data new column representing bins Based on above ananlysis we will convert in to 4 bins and width of 10"
      ]
    },
    {
      "cell_type": "code",
      "metadata": {
        "id": "RM_n1YNhMWg3",
        "colab_type": "code",
        "colab": {
          "base_uri": "https://localhost:8080/",
          "height": 215
        },
        "outputId": "3401fe42-4272-4aea-9627-4bae9360f687"
      },
      "source": [
        "\n",
        "age_bin_label = ['20-30', '31-40', '41-50', '51-60']\n",
        "cut_bins_age = [20, 30, 40, 50, 60]\n",
        "df['age_bin'] = pd.cut(df['Age'], bins=cut_bins_age, labels=age_bin_label)\n",
        "df.head()"
      ],
      "execution_count": 31,
      "outputs": [
        {
          "output_type": "execute_result",
          "data": {
            "text/html": [
              "<div>\n",
              "<style scoped>\n",
              "    .dataframe tbody tr th:only-of-type {\n",
              "        vertical-align: middle;\n",
              "    }\n",
              "\n",
              "    .dataframe tbody tr th {\n",
              "        vertical-align: top;\n",
              "    }\n",
              "\n",
              "    .dataframe thead th {\n",
              "        text-align: right;\n",
              "    }\n",
              "</style>\n",
              "<table border=\"1\" class=\"dataframe\">\n",
              "  <thead>\n",
              "    <tr style=\"text-align: right;\">\n",
              "      <th></th>\n",
              "      <th>Employment_period</th>\n",
              "      <th>Time_in_current_department</th>\n",
              "      <th>Gender</th>\n",
              "      <th>Team_leader</th>\n",
              "      <th>Age</th>\n",
              "      <th>Member_of_professional_organizations</th>\n",
              "      <th>Dot_Net</th>\n",
              "      <th>SQL_Server</th>\n",
              "      <th>HTML_CSS_Java_Script</th>\n",
              "      <th>PHP_mySQL</th>\n",
              "      <th>Fast_working</th>\n",
              "      <th>Awards</th>\n",
              "      <th>Communicative</th>\n",
              "      <th>employment_period_bin</th>\n",
              "      <th>age_bin</th>\n",
              "    </tr>\n",
              "  </thead>\n",
              "  <tbody>\n",
              "    <tr>\n",
              "      <th>0</th>\n",
              "      <td>5</td>\n",
              "      <td>4</td>\n",
              "      <td>0</td>\n",
              "      <td>1</td>\n",
              "      <td>48</td>\n",
              "      <td>1</td>\n",
              "      <td>1</td>\n",
              "      <td>1</td>\n",
              "      <td>0</td>\n",
              "      <td>1</td>\n",
              "      <td>1</td>\n",
              "      <td>0</td>\n",
              "      <td>1</td>\n",
              "      <td>0-5</td>\n",
              "      <td>41-50</td>\n",
              "    </tr>\n",
              "    <tr>\n",
              "      <th>1</th>\n",
              "      <td>5</td>\n",
              "      <td>3</td>\n",
              "      <td>1</td>\n",
              "      <td>1</td>\n",
              "      <td>26</td>\n",
              "      <td>1</td>\n",
              "      <td>1</td>\n",
              "      <td>0</td>\n",
              "      <td>0</td>\n",
              "      <td>1</td>\n",
              "      <td>1</td>\n",
              "      <td>0</td>\n",
              "      <td>0</td>\n",
              "      <td>0-5</td>\n",
              "      <td>20-30</td>\n",
              "    </tr>\n",
              "    <tr>\n",
              "      <th>2</th>\n",
              "      <td>11</td>\n",
              "      <td>8</td>\n",
              "      <td>0</td>\n",
              "      <td>0</td>\n",
              "      <td>34</td>\n",
              "      <td>0</td>\n",
              "      <td>0</td>\n",
              "      <td>1</td>\n",
              "      <td>1</td>\n",
              "      <td>0</td>\n",
              "      <td>1</td>\n",
              "      <td>0</td>\n",
              "      <td>1</td>\n",
              "      <td>11-15</td>\n",
              "      <td>31-40</td>\n",
              "    </tr>\n",
              "    <tr>\n",
              "      <th>3</th>\n",
              "      <td>7</td>\n",
              "      <td>5</td>\n",
              "      <td>1</td>\n",
              "      <td>1</td>\n",
              "      <td>27</td>\n",
              "      <td>1</td>\n",
              "      <td>0</td>\n",
              "      <td>1</td>\n",
              "      <td>0</td>\n",
              "      <td>1</td>\n",
              "      <td>1</td>\n",
              "      <td>1</td>\n",
              "      <td>0</td>\n",
              "      <td>6-10</td>\n",
              "      <td>20-30</td>\n",
              "    </tr>\n",
              "    <tr>\n",
              "      <th>4</th>\n",
              "      <td>18</td>\n",
              "      <td>8</td>\n",
              "      <td>0</td>\n",
              "      <td>0</td>\n",
              "      <td>38</td>\n",
              "      <td>0</td>\n",
              "      <td>0</td>\n",
              "      <td>0</td>\n",
              "      <td>1</td>\n",
              "      <td>1</td>\n",
              "      <td>1</td>\n",
              "      <td>1</td>\n",
              "      <td>1</td>\n",
              "      <td>16-20</td>\n",
              "      <td>31-40</td>\n",
              "    </tr>\n",
              "  </tbody>\n",
              "</table>\n",
              "</div>"
            ],
            "text/plain": [
              "   Employment_period  Time_in_current_department  ...  employment_period_bin  age_bin\n",
              "0                  5                           4  ...                    0-5    41-50\n",
              "1                  5                           3  ...                    0-5    20-30\n",
              "2                 11                           8  ...                  11-15    31-40\n",
              "3                  7                           5  ...                   6-10    20-30\n",
              "4                 18                           8  ...                  16-20    31-40\n",
              "\n",
              "[5 rows x 15 columns]"
            ]
          },
          "metadata": {
            "tags": []
          },
          "execution_count": 31
        }
      ]
    },
    {
      "cell_type": "markdown",
      "metadata": {
        "id": "Oab7QARLu0g5",
        "colab_type": "text"
      },
      "source": [
        "After Binning each tuple will be assigned there particulare ageing bin under new column"
      ]
    },
    {
      "cell_type": "markdown",
      "metadata": {
        "id": "CMeBVXChvAtq",
        "colab_type": "text"
      },
      "source": [
        "As part of Data analysis we will check mean, standard deviation and min, max and 5-Point of Time in currrent department also similar to age and Employement period"
      ]
    },
    {
      "cell_type": "code",
      "metadata": {
        "id": "lrZJXS4xMWrr",
        "colab_type": "code",
        "colab": {
          "base_uri": "https://localhost:8080/",
          "height": 168
        },
        "outputId": "66ba04ab-147d-4a6e-a1c4-bc76747adde4"
      },
      "source": [
        "# Check Time in current department\n",
        "df['Time_in_current_department'].describe()"
      ],
      "execution_count": 32,
      "outputs": [
        {
          "output_type": "execute_result",
          "data": {
            "text/plain": [
              "count    974.000000\n",
              "mean       5.666324\n",
              "std        3.206903\n",
              "min        1.000000\n",
              "25%        3.000000\n",
              "50%        5.000000\n",
              "75%        8.000000\n",
              "max       12.000000\n",
              "Name: Time_in_current_department, dtype: float64"
            ]
          },
          "metadata": {
            "tags": []
          },
          "execution_count": 32
        }
      ]
    },
    {
      "cell_type": "markdown",
      "metadata": {
        "id": "VWzgXZflvOMM",
        "colab_type": "text"
      },
      "source": [
        "We will perform equi-width binning on data and data new column representing bins Based on above ananlysis we will convert in to 4 bins and width of 3 "
      ]
    },
    {
      "cell_type": "code",
      "metadata": {
        "id": "HcVL32JDMW2B",
        "colab_type": "code",
        "colab": {
          "base_uri": "https://localhost:8080/",
          "height": 215
        },
        "outputId": "b8760ea3-98f7-4db3-bf85-289d9145f169"
      },
      "source": [
        "# Convert this also into bins so that it will be helpful for analsizing\n",
        "current_department_bin_label = ['0-3', '4-6', '7-9', '10-12']\n",
        "cut_bins_curr_dept = [0, 3, 6, 9, 12]\n",
        "df['age_curr_dept_bin'] = pd.cut(df['Time_in_current_department'], bins=cut_bins_curr_dept, labels=current_department_bin_label)\n",
        "df.head()"
      ],
      "execution_count": 33,
      "outputs": [
        {
          "output_type": "execute_result",
          "data": {
            "text/html": [
              "<div>\n",
              "<style scoped>\n",
              "    .dataframe tbody tr th:only-of-type {\n",
              "        vertical-align: middle;\n",
              "    }\n",
              "\n",
              "    .dataframe tbody tr th {\n",
              "        vertical-align: top;\n",
              "    }\n",
              "\n",
              "    .dataframe thead th {\n",
              "        text-align: right;\n",
              "    }\n",
              "</style>\n",
              "<table border=\"1\" class=\"dataframe\">\n",
              "  <thead>\n",
              "    <tr style=\"text-align: right;\">\n",
              "      <th></th>\n",
              "      <th>Employment_period</th>\n",
              "      <th>Time_in_current_department</th>\n",
              "      <th>Gender</th>\n",
              "      <th>Team_leader</th>\n",
              "      <th>Age</th>\n",
              "      <th>Member_of_professional_organizations</th>\n",
              "      <th>Dot_Net</th>\n",
              "      <th>SQL_Server</th>\n",
              "      <th>HTML_CSS_Java_Script</th>\n",
              "      <th>PHP_mySQL</th>\n",
              "      <th>Fast_working</th>\n",
              "      <th>Awards</th>\n",
              "      <th>Communicative</th>\n",
              "      <th>employment_period_bin</th>\n",
              "      <th>age_bin</th>\n",
              "      <th>age_curr_dept_bin</th>\n",
              "    </tr>\n",
              "  </thead>\n",
              "  <tbody>\n",
              "    <tr>\n",
              "      <th>0</th>\n",
              "      <td>5</td>\n",
              "      <td>4</td>\n",
              "      <td>0</td>\n",
              "      <td>1</td>\n",
              "      <td>48</td>\n",
              "      <td>1</td>\n",
              "      <td>1</td>\n",
              "      <td>1</td>\n",
              "      <td>0</td>\n",
              "      <td>1</td>\n",
              "      <td>1</td>\n",
              "      <td>0</td>\n",
              "      <td>1</td>\n",
              "      <td>0-5</td>\n",
              "      <td>41-50</td>\n",
              "      <td>4-6</td>\n",
              "    </tr>\n",
              "    <tr>\n",
              "      <th>1</th>\n",
              "      <td>5</td>\n",
              "      <td>3</td>\n",
              "      <td>1</td>\n",
              "      <td>1</td>\n",
              "      <td>26</td>\n",
              "      <td>1</td>\n",
              "      <td>1</td>\n",
              "      <td>0</td>\n",
              "      <td>0</td>\n",
              "      <td>1</td>\n",
              "      <td>1</td>\n",
              "      <td>0</td>\n",
              "      <td>0</td>\n",
              "      <td>0-5</td>\n",
              "      <td>20-30</td>\n",
              "      <td>0-3</td>\n",
              "    </tr>\n",
              "    <tr>\n",
              "      <th>2</th>\n",
              "      <td>11</td>\n",
              "      <td>8</td>\n",
              "      <td>0</td>\n",
              "      <td>0</td>\n",
              "      <td>34</td>\n",
              "      <td>0</td>\n",
              "      <td>0</td>\n",
              "      <td>1</td>\n",
              "      <td>1</td>\n",
              "      <td>0</td>\n",
              "      <td>1</td>\n",
              "      <td>0</td>\n",
              "      <td>1</td>\n",
              "      <td>11-15</td>\n",
              "      <td>31-40</td>\n",
              "      <td>7-9</td>\n",
              "    </tr>\n",
              "    <tr>\n",
              "      <th>3</th>\n",
              "      <td>7</td>\n",
              "      <td>5</td>\n",
              "      <td>1</td>\n",
              "      <td>1</td>\n",
              "      <td>27</td>\n",
              "      <td>1</td>\n",
              "      <td>0</td>\n",
              "      <td>1</td>\n",
              "      <td>0</td>\n",
              "      <td>1</td>\n",
              "      <td>1</td>\n",
              "      <td>1</td>\n",
              "      <td>0</td>\n",
              "      <td>6-10</td>\n",
              "      <td>20-30</td>\n",
              "      <td>4-6</td>\n",
              "    </tr>\n",
              "    <tr>\n",
              "      <th>4</th>\n",
              "      <td>18</td>\n",
              "      <td>8</td>\n",
              "      <td>0</td>\n",
              "      <td>0</td>\n",
              "      <td>38</td>\n",
              "      <td>0</td>\n",
              "      <td>0</td>\n",
              "      <td>0</td>\n",
              "      <td>1</td>\n",
              "      <td>1</td>\n",
              "      <td>1</td>\n",
              "      <td>1</td>\n",
              "      <td>1</td>\n",
              "      <td>16-20</td>\n",
              "      <td>31-40</td>\n",
              "      <td>7-9</td>\n",
              "    </tr>\n",
              "  </tbody>\n",
              "</table>\n",
              "</div>"
            ],
            "text/plain": [
              "   Employment_period  Time_in_current_department  ...  age_bin  age_curr_dept_bin\n",
              "0                  5                           4  ...    41-50                4-6\n",
              "1                  5                           3  ...    20-30                0-3\n",
              "2                 11                           8  ...    31-40                7-9\n",
              "3                  7                           5  ...    20-30                4-6\n",
              "4                 18                           8  ...    31-40                7-9\n",
              "\n",
              "[5 rows x 16 columns]"
            ]
          },
          "metadata": {
            "tags": []
          },
          "execution_count": 33
        }
      ]
    },
    {
      "cell_type": "markdown",
      "metadata": {
        "id": "mSvgktsZaPxR",
        "colab_type": "text"
      },
      "source": [
        "# Data reduction"
      ]
    },
    {
      "cell_type": "markdown",
      "metadata": {
        "id": "ZxN1onusvbZq",
        "colab_type": "text"
      },
      "source": [
        "As part of data reduction we can drop the original coulmns from Data set "
      ]
    },
    {
      "cell_type": "code",
      "metadata": {
        "id": "wF05hoQ7MXIv",
        "colab_type": "code",
        "colab": {}
      },
      "source": [
        "# Drop the original columns and Keep the new colums created\n",
        "binnedData = df.drop(columns=['Age','Time_in_current_department', 'Employment_period'])"
      ],
      "execution_count": 34,
      "outputs": []
    },
    {
      "cell_type": "markdown",
      "metadata": {
        "id": "vhG3ygGZv_hJ",
        "colab_type": "text"
      },
      "source": [
        "Check Header after droping extra colmns"
      ]
    },
    {
      "cell_type": "code",
      "metadata": {
        "id": "kwkt-iJ5MW_X",
        "colab_type": "code",
        "colab": {
          "base_uri": "https://localhost:8080/",
          "height": 215
        },
        "outputId": "022270b9-da2d-4888-d508-1c7b5ce53a3f"
      },
      "source": [
        "binnedData.head()\n"
      ],
      "execution_count": 35,
      "outputs": [
        {
          "output_type": "execute_result",
          "data": {
            "text/html": [
              "<div>\n",
              "<style scoped>\n",
              "    .dataframe tbody tr th:only-of-type {\n",
              "        vertical-align: middle;\n",
              "    }\n",
              "\n",
              "    .dataframe tbody tr th {\n",
              "        vertical-align: top;\n",
              "    }\n",
              "\n",
              "    .dataframe thead th {\n",
              "        text-align: right;\n",
              "    }\n",
              "</style>\n",
              "<table border=\"1\" class=\"dataframe\">\n",
              "  <thead>\n",
              "    <tr style=\"text-align: right;\">\n",
              "      <th></th>\n",
              "      <th>Gender</th>\n",
              "      <th>Team_leader</th>\n",
              "      <th>Member_of_professional_organizations</th>\n",
              "      <th>Dot_Net</th>\n",
              "      <th>SQL_Server</th>\n",
              "      <th>HTML_CSS_Java_Script</th>\n",
              "      <th>PHP_mySQL</th>\n",
              "      <th>Fast_working</th>\n",
              "      <th>Awards</th>\n",
              "      <th>Communicative</th>\n",
              "      <th>employment_period_bin</th>\n",
              "      <th>age_bin</th>\n",
              "      <th>age_curr_dept_bin</th>\n",
              "    </tr>\n",
              "  </thead>\n",
              "  <tbody>\n",
              "    <tr>\n",
              "      <th>0</th>\n",
              "      <td>0</td>\n",
              "      <td>1</td>\n",
              "      <td>1</td>\n",
              "      <td>1</td>\n",
              "      <td>1</td>\n",
              "      <td>0</td>\n",
              "      <td>1</td>\n",
              "      <td>1</td>\n",
              "      <td>0</td>\n",
              "      <td>1</td>\n",
              "      <td>0-5</td>\n",
              "      <td>41-50</td>\n",
              "      <td>4-6</td>\n",
              "    </tr>\n",
              "    <tr>\n",
              "      <th>1</th>\n",
              "      <td>1</td>\n",
              "      <td>1</td>\n",
              "      <td>1</td>\n",
              "      <td>1</td>\n",
              "      <td>0</td>\n",
              "      <td>0</td>\n",
              "      <td>1</td>\n",
              "      <td>1</td>\n",
              "      <td>0</td>\n",
              "      <td>0</td>\n",
              "      <td>0-5</td>\n",
              "      <td>20-30</td>\n",
              "      <td>0-3</td>\n",
              "    </tr>\n",
              "    <tr>\n",
              "      <th>2</th>\n",
              "      <td>0</td>\n",
              "      <td>0</td>\n",
              "      <td>0</td>\n",
              "      <td>0</td>\n",
              "      <td>1</td>\n",
              "      <td>1</td>\n",
              "      <td>0</td>\n",
              "      <td>1</td>\n",
              "      <td>0</td>\n",
              "      <td>1</td>\n",
              "      <td>11-15</td>\n",
              "      <td>31-40</td>\n",
              "      <td>7-9</td>\n",
              "    </tr>\n",
              "    <tr>\n",
              "      <th>3</th>\n",
              "      <td>1</td>\n",
              "      <td>1</td>\n",
              "      <td>1</td>\n",
              "      <td>0</td>\n",
              "      <td>1</td>\n",
              "      <td>0</td>\n",
              "      <td>1</td>\n",
              "      <td>1</td>\n",
              "      <td>1</td>\n",
              "      <td>0</td>\n",
              "      <td>6-10</td>\n",
              "      <td>20-30</td>\n",
              "      <td>4-6</td>\n",
              "    </tr>\n",
              "    <tr>\n",
              "      <th>4</th>\n",
              "      <td>0</td>\n",
              "      <td>0</td>\n",
              "      <td>0</td>\n",
              "      <td>0</td>\n",
              "      <td>0</td>\n",
              "      <td>1</td>\n",
              "      <td>1</td>\n",
              "      <td>1</td>\n",
              "      <td>1</td>\n",
              "      <td>1</td>\n",
              "      <td>16-20</td>\n",
              "      <td>31-40</td>\n",
              "      <td>7-9</td>\n",
              "    </tr>\n",
              "  </tbody>\n",
              "</table>\n",
              "</div>"
            ],
            "text/plain": [
              "   Gender  Team_leader  ...  age_bin  age_curr_dept_bin\n",
              "0       0            1  ...    41-50                4-6\n",
              "1       1            1  ...    20-30                0-3\n",
              "2       0            0  ...    31-40                7-9\n",
              "3       1            1  ...    20-30                4-6\n",
              "4       0            0  ...    31-40                7-9\n",
              "\n",
              "[5 rows x 13 columns]"
            ]
          },
          "metadata": {
            "tags": []
          },
          "execution_count": 35
        }
      ]
    },
    {
      "cell_type": "markdown",
      "metadata": {
        "id": "gExJhRSFwG1P",
        "colab_type": "text"
      },
      "source": [
        "Get the name of columns available in data set"
      ]
    },
    {
      "cell_type": "code",
      "metadata": {
        "id": "1JZiEK89v62D",
        "colab_type": "code",
        "colab": {
          "base_uri": "https://localhost:8080/",
          "height": 101
        },
        "outputId": "a3a8c87d-79a3-45b9-8e20-c7fc24d3a5cc"
      },
      "source": [
        "binnedData.columns"
      ],
      "execution_count": 36,
      "outputs": [
        {
          "output_type": "execute_result",
          "data": {
            "text/plain": [
              "Index(['Gender', 'Team_leader', 'Member_of_professional_organizations',\n",
              "       'Dot_Net', 'SQL_Server', 'HTML_CSS_Java_Script', 'PHP_mySQL',\n",
              "       'Fast_working', 'Awards', 'Communicative', 'employment_period_bin',\n",
              "       'age_bin', 'age_curr_dept_bin'],\n",
              "      dtype='object')"
            ]
          },
          "metadata": {
            "tags": []
          },
          "execution_count": 36
        }
      ]
    },
    {
      "cell_type": "markdown",
      "metadata": {
        "id": "cerEn-54wRCe",
        "colab_type": "text"
      },
      "source": [
        "Now will make a column of each bin so that we can conver binned data into binary data"
      ]
    },
    {
      "cell_type": "code",
      "metadata": {
        "id": "N-ZhydcQMWye",
        "colab_type": "code",
        "colab": {
          "base_uri": "https://localhost:8080/",
          "height": 232
        },
        "outputId": "bfd79648-c6dc-45c2-f8f8-74f918ed350e"
      },
      "source": [
        "# Make BIN into columns and represent with binary values against that bin.\n",
        "dummy_cols= ['employment_period_bin','age_bin','age_curr_dept_bin']\n",
        "binnedDummyData = pd.get_dummies(binnedData, columns=dummy_cols)\n",
        "binnedDummyData.head()"
      ],
      "execution_count": 37,
      "outputs": [
        {
          "output_type": "execute_result",
          "data": {
            "text/html": [
              "<div>\n",
              "<style scoped>\n",
              "    .dataframe tbody tr th:only-of-type {\n",
              "        vertical-align: middle;\n",
              "    }\n",
              "\n",
              "    .dataframe tbody tr th {\n",
              "        vertical-align: top;\n",
              "    }\n",
              "\n",
              "    .dataframe thead th {\n",
              "        text-align: right;\n",
              "    }\n",
              "</style>\n",
              "<table border=\"1\" class=\"dataframe\">\n",
              "  <thead>\n",
              "    <tr style=\"text-align: right;\">\n",
              "      <th></th>\n",
              "      <th>Gender</th>\n",
              "      <th>Team_leader</th>\n",
              "      <th>Member_of_professional_organizations</th>\n",
              "      <th>Dot_Net</th>\n",
              "      <th>SQL_Server</th>\n",
              "      <th>HTML_CSS_Java_Script</th>\n",
              "      <th>PHP_mySQL</th>\n",
              "      <th>Fast_working</th>\n",
              "      <th>Awards</th>\n",
              "      <th>Communicative</th>\n",
              "      <th>employment_period_bin_0-5</th>\n",
              "      <th>employment_period_bin_6-10</th>\n",
              "      <th>employment_period_bin_11-15</th>\n",
              "      <th>employment_period_bin_16-20</th>\n",
              "      <th>age_bin_20-30</th>\n",
              "      <th>age_bin_31-40</th>\n",
              "      <th>age_bin_41-50</th>\n",
              "      <th>age_bin_51-60</th>\n",
              "      <th>age_curr_dept_bin_0-3</th>\n",
              "      <th>age_curr_dept_bin_4-6</th>\n",
              "      <th>age_curr_dept_bin_7-9</th>\n",
              "      <th>age_curr_dept_bin_10-12</th>\n",
              "    </tr>\n",
              "  </thead>\n",
              "  <tbody>\n",
              "    <tr>\n",
              "      <th>0</th>\n",
              "      <td>0</td>\n",
              "      <td>1</td>\n",
              "      <td>1</td>\n",
              "      <td>1</td>\n",
              "      <td>1</td>\n",
              "      <td>0</td>\n",
              "      <td>1</td>\n",
              "      <td>1</td>\n",
              "      <td>0</td>\n",
              "      <td>1</td>\n",
              "      <td>1</td>\n",
              "      <td>0</td>\n",
              "      <td>0</td>\n",
              "      <td>0</td>\n",
              "      <td>0</td>\n",
              "      <td>0</td>\n",
              "      <td>1</td>\n",
              "      <td>0</td>\n",
              "      <td>0</td>\n",
              "      <td>1</td>\n",
              "      <td>0</td>\n",
              "      <td>0</td>\n",
              "    </tr>\n",
              "    <tr>\n",
              "      <th>1</th>\n",
              "      <td>1</td>\n",
              "      <td>1</td>\n",
              "      <td>1</td>\n",
              "      <td>1</td>\n",
              "      <td>0</td>\n",
              "      <td>0</td>\n",
              "      <td>1</td>\n",
              "      <td>1</td>\n",
              "      <td>0</td>\n",
              "      <td>0</td>\n",
              "      <td>1</td>\n",
              "      <td>0</td>\n",
              "      <td>0</td>\n",
              "      <td>0</td>\n",
              "      <td>1</td>\n",
              "      <td>0</td>\n",
              "      <td>0</td>\n",
              "      <td>0</td>\n",
              "      <td>1</td>\n",
              "      <td>0</td>\n",
              "      <td>0</td>\n",
              "      <td>0</td>\n",
              "    </tr>\n",
              "    <tr>\n",
              "      <th>2</th>\n",
              "      <td>0</td>\n",
              "      <td>0</td>\n",
              "      <td>0</td>\n",
              "      <td>0</td>\n",
              "      <td>1</td>\n",
              "      <td>1</td>\n",
              "      <td>0</td>\n",
              "      <td>1</td>\n",
              "      <td>0</td>\n",
              "      <td>1</td>\n",
              "      <td>0</td>\n",
              "      <td>0</td>\n",
              "      <td>1</td>\n",
              "      <td>0</td>\n",
              "      <td>0</td>\n",
              "      <td>1</td>\n",
              "      <td>0</td>\n",
              "      <td>0</td>\n",
              "      <td>0</td>\n",
              "      <td>0</td>\n",
              "      <td>1</td>\n",
              "      <td>0</td>\n",
              "    </tr>\n",
              "    <tr>\n",
              "      <th>3</th>\n",
              "      <td>1</td>\n",
              "      <td>1</td>\n",
              "      <td>1</td>\n",
              "      <td>0</td>\n",
              "      <td>1</td>\n",
              "      <td>0</td>\n",
              "      <td>1</td>\n",
              "      <td>1</td>\n",
              "      <td>1</td>\n",
              "      <td>0</td>\n",
              "      <td>0</td>\n",
              "      <td>1</td>\n",
              "      <td>0</td>\n",
              "      <td>0</td>\n",
              "      <td>1</td>\n",
              "      <td>0</td>\n",
              "      <td>0</td>\n",
              "      <td>0</td>\n",
              "      <td>0</td>\n",
              "      <td>1</td>\n",
              "      <td>0</td>\n",
              "      <td>0</td>\n",
              "    </tr>\n",
              "    <tr>\n",
              "      <th>4</th>\n",
              "      <td>0</td>\n",
              "      <td>0</td>\n",
              "      <td>0</td>\n",
              "      <td>0</td>\n",
              "      <td>0</td>\n",
              "      <td>1</td>\n",
              "      <td>1</td>\n",
              "      <td>1</td>\n",
              "      <td>1</td>\n",
              "      <td>1</td>\n",
              "      <td>0</td>\n",
              "      <td>0</td>\n",
              "      <td>0</td>\n",
              "      <td>1</td>\n",
              "      <td>0</td>\n",
              "      <td>1</td>\n",
              "      <td>0</td>\n",
              "      <td>0</td>\n",
              "      <td>0</td>\n",
              "      <td>0</td>\n",
              "      <td>1</td>\n",
              "      <td>0</td>\n",
              "    </tr>\n",
              "  </tbody>\n",
              "</table>\n",
              "</div>"
            ],
            "text/plain": [
              "   Gender  Team_leader  ...  age_curr_dept_bin_7-9  age_curr_dept_bin_10-12\n",
              "0       0            1  ...                      0                        0\n",
              "1       1            1  ...                      0                        0\n",
              "2       0            0  ...                      1                        0\n",
              "3       1            1  ...                      0                        0\n",
              "4       0            0  ...                      1                        0\n",
              "\n",
              "[5 rows x 22 columns]"
            ]
          },
          "metadata": {
            "tags": []
          },
          "execution_count": 37
        }
      ]
    },
    {
      "cell_type": "markdown",
      "metadata": {
        "id": "maMA13uuwmKt",
        "colab_type": "text"
      },
      "source": [
        "After adding new columns check the number of columns and row available in data set"
      ]
    },
    {
      "cell_type": "code",
      "metadata": {
        "id": "YOvAOH7TOBKG",
        "colab_type": "code",
        "colab": {
          "base_uri": "https://localhost:8080/",
          "height": 34
        },
        "outputId": "36f49794-a19c-4cad-b4b1-7229568ec644"
      },
      "source": [
        "binnedDummyData.shape"
      ],
      "execution_count": 38,
      "outputs": [
        {
          "output_type": "execute_result",
          "data": {
            "text/plain": [
              "(974, 22)"
            ]
          },
          "metadata": {
            "tags": []
          },
          "execution_count": 38
        }
      ]
    },
    {
      "cell_type": "code",
      "metadata": {
        "id": "xeBbdhSUVLLO",
        "colab_type": "code",
        "colab": {
          "base_uri": "https://localhost:8080/",
          "height": 504
        },
        "outputId": "f84a7c8d-32ee-4e8b-aa7d-f4d126a2d6af"
      },
      "source": [
        "binnedDummyData.info()"
      ],
      "execution_count": 39,
      "outputs": [
        {
          "output_type": "stream",
          "text": [
            "<class 'pandas.core.frame.DataFrame'>\n",
            "Int64Index: 974 entries, 0 to 997\n",
            "Data columns (total 22 columns):\n",
            " #   Column                                Non-Null Count  Dtype\n",
            "---  ------                                --------------  -----\n",
            " 0   Gender                                974 non-null    int64\n",
            " 1   Team_leader                           974 non-null    int64\n",
            " 2   Member_of_professional_organizations  974 non-null    int64\n",
            " 3   Dot_Net                               974 non-null    int64\n",
            " 4   SQL_Server                            974 non-null    int64\n",
            " 5   HTML_CSS_Java_Script                  974 non-null    int64\n",
            " 6   PHP_mySQL                             974 non-null    int64\n",
            " 7   Fast_working                          974 non-null    int64\n",
            " 8   Awards                                974 non-null    int64\n",
            " 9   Communicative                         974 non-null    int64\n",
            " 10  employment_period_bin_0-5             974 non-null    uint8\n",
            " 11  employment_period_bin_6-10            974 non-null    uint8\n",
            " 12  employment_period_bin_11-15           974 non-null    uint8\n",
            " 13  employment_period_bin_16-20           974 non-null    uint8\n",
            " 14  age_bin_20-30                         974 non-null    uint8\n",
            " 15  age_bin_31-40                         974 non-null    uint8\n",
            " 16  age_bin_41-50                         974 non-null    uint8\n",
            " 17  age_bin_51-60                         974 non-null    uint8\n",
            " 18  age_curr_dept_bin_0-3                 974 non-null    uint8\n",
            " 19  age_curr_dept_bin_4-6                 974 non-null    uint8\n",
            " 20  age_curr_dept_bin_7-9                 974 non-null    uint8\n",
            " 21  age_curr_dept_bin_10-12               974 non-null    uint8\n",
            "dtypes: int64(10), uint8(12)\n",
            "memory usage: 135.1 KB\n"
          ],
          "name": "stdout"
        }
      ]
    },
    {
      "cell_type": "markdown",
      "metadata": {
        "id": "OdFAO634avV6",
        "colab_type": "text"
      },
      "source": [
        "#Association Rule Mining"
      ]
    },
    {
      "cell_type": "markdown",
      "metadata": {
        "id": "Cu32YC1Pa2CI",
        "colab_type": "text"
      },
      "source": [
        "Now we will Discover frequent patterns using Apriori Library"
      ]
    },
    {
      "cell_type": "markdown",
      "metadata": {
        "id": "MuCN7qBCd7XM",
        "colab_type": "text"
      },
      "source": [
        "# 1st Iteration"
      ]
    },
    {
      "cell_type": "code",
      "metadata": {
        "id": "q6SOLZkJhNzf",
        "colab_type": "code",
        "colab": {}
      },
      "source": [
        "df_frequent_data = apriori(binnedDummyData, min_support=0.1, use_colnames=True)"
      ],
      "execution_count": 55,
      "outputs": []
    },
    {
      "cell_type": "code",
      "metadata": {
        "id": "XHrRICIngz_A",
        "colab_type": "code",
        "colab": {
          "base_uri": "https://localhost:8080/",
          "height": 402
        },
        "outputId": "d1db8320-37f5-408b-f11e-0375b2e7c9ab"
      },
      "source": [
        "df_frequent_data"
      ],
      "execution_count": 56,
      "outputs": [
        {
          "output_type": "execute_result",
          "data": {
            "text/html": [
              "<div>\n",
              "<style scoped>\n",
              "    .dataframe tbody tr th:only-of-type {\n",
              "        vertical-align: middle;\n",
              "    }\n",
              "\n",
              "    .dataframe tbody tr th {\n",
              "        vertical-align: top;\n",
              "    }\n",
              "\n",
              "    .dataframe thead th {\n",
              "        text-align: right;\n",
              "    }\n",
              "</style>\n",
              "<table border=\"1\" class=\"dataframe\">\n",
              "  <thead>\n",
              "    <tr style=\"text-align: right;\">\n",
              "      <th></th>\n",
              "      <th>support</th>\n",
              "      <th>itemsets</th>\n",
              "    </tr>\n",
              "  </thead>\n",
              "  <tbody>\n",
              "    <tr>\n",
              "      <th>0</th>\n",
              "      <td>0.484600</td>\n",
              "      <td>(Gender)</td>\n",
              "    </tr>\n",
              "    <tr>\n",
              "      <th>1</th>\n",
              "      <td>0.504107</td>\n",
              "      <td>(Team_leader)</td>\n",
              "    </tr>\n",
              "    <tr>\n",
              "      <th>2</th>\n",
              "      <td>0.492813</td>\n",
              "      <td>(Member_of_professional_organizations)</td>\n",
              "    </tr>\n",
              "    <tr>\n",
              "      <th>3</th>\n",
              "      <td>0.475359</td>\n",
              "      <td>(Dot_Net)</td>\n",
              "    </tr>\n",
              "    <tr>\n",
              "      <th>4</th>\n",
              "      <td>0.477413</td>\n",
              "      <td>(SQL_Server)</td>\n",
              "    </tr>\n",
              "    <tr>\n",
              "      <th>...</th>\n",
              "      <td>...</td>\n",
              "      <td>...</td>\n",
              "    </tr>\n",
              "    <tr>\n",
              "      <th>305</th>\n",
              "      <td>0.127310</td>\n",
              "      <td>(Awards, Communicative, PHP_mySQL)</td>\n",
              "    </tr>\n",
              "    <tr>\n",
              "      <th>306</th>\n",
              "      <td>0.105749</td>\n",
              "      <td>(age_bin_31-40, Communicative, PHP_mySQL)</td>\n",
              "    </tr>\n",
              "    <tr>\n",
              "      <th>307</th>\n",
              "      <td>0.129363</td>\n",
              "      <td>(Fast_working, Awards, Communicative)</td>\n",
              "    </tr>\n",
              "    <tr>\n",
              "      <th>308</th>\n",
              "      <td>0.102669</td>\n",
              "      <td>(Fast_working, age_bin_31-40, Awards)</td>\n",
              "    </tr>\n",
              "    <tr>\n",
              "      <th>309</th>\n",
              "      <td>0.109856</td>\n",
              "      <td>(Fast_working, age_bin_31-40, Communicative)</td>\n",
              "    </tr>\n",
              "  </tbody>\n",
              "</table>\n",
              "<p>310 rows × 2 columns</p>\n",
              "</div>"
            ],
            "text/plain": [
              "      support                                      itemsets\n",
              "0    0.484600                                      (Gender)\n",
              "1    0.504107                                 (Team_leader)\n",
              "2    0.492813        (Member_of_professional_organizations)\n",
              "3    0.475359                                     (Dot_Net)\n",
              "4    0.477413                                  (SQL_Server)\n",
              "..        ...                                           ...\n",
              "305  0.127310            (Awards, Communicative, PHP_mySQL)\n",
              "306  0.105749     (age_bin_31-40, Communicative, PHP_mySQL)\n",
              "307  0.129363         (Fast_working, Awards, Communicative)\n",
              "308  0.102669         (Fast_working, age_bin_31-40, Awards)\n",
              "309  0.109856  (Fast_working, age_bin_31-40, Communicative)\n",
              "\n",
              "[310 rows x 2 columns]"
            ]
          },
          "metadata": {
            "tags": []
          },
          "execution_count": 56
        }
      ]
    },
    {
      "cell_type": "code",
      "metadata": {
        "id": "iHPRM0p4WfHh",
        "colab_type": "code",
        "colab": {}
      },
      "source": [
        "df_rules = association_rules(df_frequent_data, metric=\"lift\", min_threshold=1)"
      ],
      "execution_count": 57,
      "outputs": []
    },
    {
      "cell_type": "code",
      "metadata": {
        "id": "FpCroO_IXjH4",
        "colab_type": "code",
        "colab": {
          "base_uri": "https://localhost:8080/",
          "height": 195
        },
        "outputId": "ca12f61c-8608-41af-d82c-0658ad0387f5"
      },
      "source": [
        "df_rules.head()"
      ],
      "execution_count": 58,
      "outputs": [
        {
          "output_type": "execute_result",
          "data": {
            "text/html": [
              "<div>\n",
              "<style scoped>\n",
              "    .dataframe tbody tr th:only-of-type {\n",
              "        vertical-align: middle;\n",
              "    }\n",
              "\n",
              "    .dataframe tbody tr th {\n",
              "        vertical-align: top;\n",
              "    }\n",
              "\n",
              "    .dataframe thead th {\n",
              "        text-align: right;\n",
              "    }\n",
              "</style>\n",
              "<table border=\"1\" class=\"dataframe\">\n",
              "  <thead>\n",
              "    <tr style=\"text-align: right;\">\n",
              "      <th></th>\n",
              "      <th>antecedents</th>\n",
              "      <th>consequents</th>\n",
              "      <th>antecedent support</th>\n",
              "      <th>consequent support</th>\n",
              "      <th>support</th>\n",
              "      <th>confidence</th>\n",
              "      <th>lift</th>\n",
              "      <th>leverage</th>\n",
              "      <th>conviction</th>\n",
              "    </tr>\n",
              "  </thead>\n",
              "  <tbody>\n",
              "    <tr>\n",
              "      <th>0</th>\n",
              "      <td>(Gender)</td>\n",
              "      <td>(Team_leader)</td>\n",
              "      <td>0.484600</td>\n",
              "      <td>0.504107</td>\n",
              "      <td>0.249487</td>\n",
              "      <td>0.514831</td>\n",
              "      <td>1.021273</td>\n",
              "      <td>0.005197</td>\n",
              "      <td>1.022103</td>\n",
              "    </tr>\n",
              "    <tr>\n",
              "      <th>1</th>\n",
              "      <td>(Team_leader)</td>\n",
              "      <td>(Gender)</td>\n",
              "      <td>0.504107</td>\n",
              "      <td>0.484600</td>\n",
              "      <td>0.249487</td>\n",
              "      <td>0.494908</td>\n",
              "      <td>1.021273</td>\n",
              "      <td>0.005197</td>\n",
              "      <td>1.020410</td>\n",
              "    </tr>\n",
              "    <tr>\n",
              "      <th>2</th>\n",
              "      <td>(Gender)</td>\n",
              "      <td>(HTML_CSS_Java_Script)</td>\n",
              "      <td>0.484600</td>\n",
              "      <td>0.510267</td>\n",
              "      <td>0.248460</td>\n",
              "      <td>0.512712</td>\n",
              "      <td>1.004791</td>\n",
              "      <td>0.001185</td>\n",
              "      <td>1.005017</td>\n",
              "    </tr>\n",
              "    <tr>\n",
              "      <th>3</th>\n",
              "      <td>(HTML_CSS_Java_Script)</td>\n",
              "      <td>(Gender)</td>\n",
              "      <td>0.510267</td>\n",
              "      <td>0.484600</td>\n",
              "      <td>0.248460</td>\n",
              "      <td>0.486922</td>\n",
              "      <td>1.004791</td>\n",
              "      <td>0.001185</td>\n",
              "      <td>1.004526</td>\n",
              "    </tr>\n",
              "    <tr>\n",
              "      <th>4</th>\n",
              "      <td>(Gender)</td>\n",
              "      <td>(PHP_mySQL)</td>\n",
              "      <td>0.484600</td>\n",
              "      <td>0.477413</td>\n",
              "      <td>0.248460</td>\n",
              "      <td>0.512712</td>\n",
              "      <td>1.073938</td>\n",
              "      <td>0.017106</td>\n",
              "      <td>1.072440</td>\n",
              "    </tr>\n",
              "  </tbody>\n",
              "</table>\n",
              "</div>"
            ],
            "text/plain": [
              "              antecedents             consequents  ...  leverage  conviction\n",
              "0                (Gender)           (Team_leader)  ...  0.005197    1.022103\n",
              "1           (Team_leader)                (Gender)  ...  0.005197    1.020410\n",
              "2                (Gender)  (HTML_CSS_Java_Script)  ...  0.001185    1.005017\n",
              "3  (HTML_CSS_Java_Script)                (Gender)  ...  0.001185    1.004526\n",
              "4                (Gender)             (PHP_mySQL)  ...  0.017106    1.072440\n",
              "\n",
              "[5 rows x 9 columns]"
            ]
          },
          "metadata": {
            "tags": []
          },
          "execution_count": 58
        }
      ]
    },
    {
      "cell_type": "code",
      "metadata": {
        "id": "id5PyXJKXzb5",
        "colab_type": "code",
        "colab": {
          "base_uri": "https://localhost:8080/",
          "height": 252
        },
        "outputId": "eb77600e-6075-4b8d-e827-58055760ecc5"
      },
      "source": [
        "df_rules.describe"
      ],
      "execution_count": 59,
      "outputs": [
        {
          "output_type": "execute_result",
          "data": {
            "text/plain": [
              "<bound method NDFrame.describe of                         antecedents  ... conviction\n",
              "0                          (Gender)  ...   1.022103\n",
              "1                     (Team_leader)  ...   1.020410\n",
              "2                          (Gender)  ...   1.005017\n",
              "3            (HTML_CSS_Java_Script)  ...   1.004526\n",
              "4                          (Gender)  ...   1.072440\n",
              "..                              ...  ...        ...\n",
              "595      (age_bin_31-40, PHP_mySQL)  ...   1.002687\n",
              "596                 (Communicative)  ...   1.000624\n",
              "597                     (PHP_mySQL)  ...   1.016810\n",
              "598  (age_bin_31-40, Communicative)  ...   1.044265\n",
              "599                  (Fast_working)  ...   1.011009\n",
              "\n",
              "[600 rows x 9 columns]>"
            ]
          },
          "metadata": {
            "tags": []
          },
          "execution_count": 59
        }
      ]
    },
    {
      "cell_type": "markdown",
      "metadata": {
        "id": "eqsc96gonBKN",
        "colab_type": "text"
      },
      "source": [
        "Based on Minimun support of 0.1 we have 300 frequent datasets and we have got 600 association rules"
      ]
    },
    {
      "cell_type": "markdown",
      "metadata": {
        "id": "6lbyP_cenYLa",
        "colab_type": "text"
      },
      "source": [
        "Now will increase the min support to 0.175 and see how many frequent dataset will be formed and association rules"
      ]
    },
    {
      "cell_type": "markdown",
      "metadata": {
        "id": "VzCeCNfffUWO",
        "colab_type": "text"
      },
      "source": [
        "We will try to find interesting rule from all generated assocation rule have confidence more than 0.55 and Support more than 0.15"
      ]
    },
    {
      "cell_type": "code",
      "metadata": {
        "id": "4vMXSQHse_al",
        "colab_type": "code",
        "colab": {
          "base_uri": "https://localhost:8080/",
          "height": 360
        },
        "outputId": "26f17dd6-d048-4de4-e2e6-434d9f8c1340"
      },
      "source": [
        "important_business_rules = df_rules[ (df_rules['confidence'] >= 0.55) & (df_rules['lift'] >= 1) & (df_rules['support'] >= 0.15)]\n",
        "print(important_business_rules.shape)\n",
        "important_business_rules.sort_values(by='confidence',ascending=False)\n"
      ],
      "execution_count": 60,
      "outputs": [
        {
          "output_type": "stream",
          "text": [
            "(10, 9)\n"
          ],
          "name": "stdout"
        },
        {
          "output_type": "execute_result",
          "data": {
            "text/html": [
              "<div>\n",
              "<style scoped>\n",
              "    .dataframe tbody tr th:only-of-type {\n",
              "        vertical-align: middle;\n",
              "    }\n",
              "\n",
              "    .dataframe tbody tr th {\n",
              "        vertical-align: top;\n",
              "    }\n",
              "\n",
              "    .dataframe thead th {\n",
              "        text-align: right;\n",
              "    }\n",
              "</style>\n",
              "<table border=\"1\" class=\"dataframe\">\n",
              "  <thead>\n",
              "    <tr style=\"text-align: right;\">\n",
              "      <th></th>\n",
              "      <th>antecedents</th>\n",
              "      <th>consequents</th>\n",
              "      <th>antecedent support</th>\n",
              "      <th>consequent support</th>\n",
              "      <th>support</th>\n",
              "      <th>confidence</th>\n",
              "      <th>lift</th>\n",
              "      <th>leverage</th>\n",
              "      <th>conviction</th>\n",
              "    </tr>\n",
              "  </thead>\n",
              "  <tbody>\n",
              "    <tr>\n",
              "      <th>138</th>\n",
              "      <td>(employment_period_bin_0-5)</td>\n",
              "      <td>(age_curr_dept_bin_0-3)</td>\n",
              "      <td>0.262834</td>\n",
              "      <td>0.324435</td>\n",
              "      <td>0.178645</td>\n",
              "      <td>0.679688</td>\n",
              "      <td>2.094986</td>\n",
              "      <td>0.093372</td>\n",
              "      <td>2.109080</td>\n",
              "    </tr>\n",
              "    <tr>\n",
              "      <th>380</th>\n",
              "      <td>(Awards, Team_leader)</td>\n",
              "      <td>(Communicative)</td>\n",
              "      <td>0.252567</td>\n",
              "      <td>0.521561</td>\n",
              "      <td>0.152977</td>\n",
              "      <td>0.605691</td>\n",
              "      <td>1.161305</td>\n",
              "      <td>0.021249</td>\n",
              "      <td>1.213362</td>\n",
              "    </tr>\n",
              "    <tr>\n",
              "      <th>381</th>\n",
              "      <td>(Awards, Communicative)</td>\n",
              "      <td>(Team_leader)</td>\n",
              "      <td>0.255647</td>\n",
              "      <td>0.504107</td>\n",
              "      <td>0.152977</td>\n",
              "      <td>0.598394</td>\n",
              "      <td>1.187037</td>\n",
              "      <td>0.024104</td>\n",
              "      <td>1.234774</td>\n",
              "    </tr>\n",
              "    <tr>\n",
              "      <th>374</th>\n",
              "      <td>(Fast_working, Team_leader)</td>\n",
              "      <td>(Communicative)</td>\n",
              "      <td>0.259754</td>\n",
              "      <td>0.521561</td>\n",
              "      <td>0.154004</td>\n",
              "      <td>0.592885</td>\n",
              "      <td>1.136753</td>\n",
              "      <td>0.018527</td>\n",
              "      <td>1.175196</td>\n",
              "    </tr>\n",
              "    <tr>\n",
              "      <th>375</th>\n",
              "      <td>(Fast_working, Communicative)</td>\n",
              "      <td>(Team_leader)</td>\n",
              "      <td>0.263860</td>\n",
              "      <td>0.504107</td>\n",
              "      <td>0.154004</td>\n",
              "      <td>0.583658</td>\n",
              "      <td>1.157805</td>\n",
              "      <td>0.020990</td>\n",
              "      <td>1.191071</td>\n",
              "    </tr>\n",
              "    <tr>\n",
              "      <th>22</th>\n",
              "      <td>(Team_leader)</td>\n",
              "      <td>(Communicative)</td>\n",
              "      <td>0.504107</td>\n",
              "      <td>0.521561</td>\n",
              "      <td>0.291581</td>\n",
              "      <td>0.578411</td>\n",
              "      <td>1.109001</td>\n",
              "      <td>0.028659</td>\n",
              "      <td>1.134849</td>\n",
              "    </tr>\n",
              "    <tr>\n",
              "      <th>130</th>\n",
              "      <td>(employment_period_bin_0-5)</td>\n",
              "      <td>(Communicative)</td>\n",
              "      <td>0.262834</td>\n",
              "      <td>0.521561</td>\n",
              "      <td>0.151951</td>\n",
              "      <td>0.578125</td>\n",
              "      <td>1.108452</td>\n",
              "      <td>0.014867</td>\n",
              "      <td>1.134079</td>\n",
              "    </tr>\n",
              "    <tr>\n",
              "      <th>23</th>\n",
              "      <td>(Communicative)</td>\n",
              "      <td>(Team_leader)</td>\n",
              "      <td>0.521561</td>\n",
              "      <td>0.504107</td>\n",
              "      <td>0.291581</td>\n",
              "      <td>0.559055</td>\n",
              "      <td>1.109001</td>\n",
              "      <td>0.028659</td>\n",
              "      <td>1.124615</td>\n",
              "    </tr>\n",
              "    <tr>\n",
              "      <th>117</th>\n",
              "      <td>(age_curr_dept_bin_4-6)</td>\n",
              "      <td>(Fast_working)</td>\n",
              "      <td>0.294661</td>\n",
              "      <td>0.506160</td>\n",
              "      <td>0.163244</td>\n",
              "      <td>0.554007</td>\n",
              "      <td>1.094529</td>\n",
              "      <td>0.014099</td>\n",
              "      <td>1.107282</td>\n",
              "    </tr>\n",
              "    <tr>\n",
              "      <th>139</th>\n",
              "      <td>(age_curr_dept_bin_0-3)</td>\n",
              "      <td>(employment_period_bin_0-5)</td>\n",
              "      <td>0.324435</td>\n",
              "      <td>0.262834</td>\n",
              "      <td>0.178645</td>\n",
              "      <td>0.550633</td>\n",
              "      <td>2.094986</td>\n",
              "      <td>0.093372</td>\n",
              "      <td>1.640455</td>\n",
              "    </tr>\n",
              "  </tbody>\n",
              "</table>\n",
              "</div>"
            ],
            "text/plain": [
              "                       antecedents  ... conviction\n",
              "138    (employment_period_bin_0-5)  ...   2.109080\n",
              "380          (Awards, Team_leader)  ...   1.213362\n",
              "381        (Awards, Communicative)  ...   1.234774\n",
              "374    (Fast_working, Team_leader)  ...   1.175196\n",
              "375  (Fast_working, Communicative)  ...   1.191071\n",
              "22                   (Team_leader)  ...   1.134849\n",
              "130    (employment_period_bin_0-5)  ...   1.134079\n",
              "23                 (Communicative)  ...   1.124615\n",
              "117        (age_curr_dept_bin_4-6)  ...   1.107282\n",
              "139        (age_curr_dept_bin_0-3)  ...   1.640455\n",
              "\n",
              "[10 rows x 9 columns]"
            ]
          },
          "metadata": {
            "tags": []
          },
          "execution_count": 60
        }
      ]
    },
    {
      "cell_type": "markdown",
      "metadata": {
        "id": "fQwe-BLOgLhh",
        "colab_type": "text"
      },
      "source": [
        "From above rule what we can see the if someone is getting award and a team leader then we will have better communication (Rule 380)"
      ]
    },
    {
      "cell_type": "markdown",
      "metadata": {
        "id": "wDKwHW23d_Lh",
        "colab_type": "text"
      },
      "source": [
        "#2nd Iteration"
      ]
    },
    {
      "cell_type": "code",
      "metadata": {
        "id": "yuVWCaIEnp5A",
        "colab_type": "code",
        "colab": {
          "base_uri": "https://localhost:8080/",
          "height": 402
        },
        "outputId": "db2da20a-5f9c-4fb0-815d-332f71fcda88"
      },
      "source": [
        "df_frequent_data = apriori(binnedDummyData, min_support=0.175, use_colnames=True)\n",
        "df_frequent_data"
      ],
      "execution_count": 61,
      "outputs": [
        {
          "output_type": "execute_result",
          "data": {
            "text/html": [
              "<div>\n",
              "<style scoped>\n",
              "    .dataframe tbody tr th:only-of-type {\n",
              "        vertical-align: middle;\n",
              "    }\n",
              "\n",
              "    .dataframe tbody tr th {\n",
              "        vertical-align: top;\n",
              "    }\n",
              "\n",
              "    .dataframe thead th {\n",
              "        text-align: right;\n",
              "    }\n",
              "</style>\n",
              "<table border=\"1\" class=\"dataframe\">\n",
              "  <thead>\n",
              "    <tr style=\"text-align: right;\">\n",
              "      <th></th>\n",
              "      <th>support</th>\n",
              "      <th>itemsets</th>\n",
              "    </tr>\n",
              "  </thead>\n",
              "  <tbody>\n",
              "    <tr>\n",
              "      <th>0</th>\n",
              "      <td>0.484600</td>\n",
              "      <td>(Gender)</td>\n",
              "    </tr>\n",
              "    <tr>\n",
              "      <th>1</th>\n",
              "      <td>0.504107</td>\n",
              "      <td>(Team_leader)</td>\n",
              "    </tr>\n",
              "    <tr>\n",
              "      <th>2</th>\n",
              "      <td>0.492813</td>\n",
              "      <td>(Member_of_professional_organizations)</td>\n",
              "    </tr>\n",
              "    <tr>\n",
              "      <th>3</th>\n",
              "      <td>0.475359</td>\n",
              "      <td>(Dot_Net)</td>\n",
              "    </tr>\n",
              "    <tr>\n",
              "      <th>4</th>\n",
              "      <td>0.477413</td>\n",
              "      <td>(SQL_Server)</td>\n",
              "    </tr>\n",
              "    <tr>\n",
              "      <th>...</th>\n",
              "      <td>...</td>\n",
              "      <td>...</td>\n",
              "    </tr>\n",
              "    <tr>\n",
              "      <th>70</th>\n",
              "      <td>0.222793</td>\n",
              "      <td>(Fast_working, age_bin_31-40)</td>\n",
              "    </tr>\n",
              "    <tr>\n",
              "      <th>71</th>\n",
              "      <td>0.255647</td>\n",
              "      <td>(Awards, Communicative)</td>\n",
              "    </tr>\n",
              "    <tr>\n",
              "      <th>72</th>\n",
              "      <td>0.205339</td>\n",
              "      <td>(age_bin_31-40, Awards)</td>\n",
              "    </tr>\n",
              "    <tr>\n",
              "      <th>73</th>\n",
              "      <td>0.208419</td>\n",
              "      <td>(age_bin_31-40, Communicative)</td>\n",
              "    </tr>\n",
              "    <tr>\n",
              "      <th>74</th>\n",
              "      <td>0.178645</td>\n",
              "      <td>(employment_period_bin_0-5, age_curr_dept_bin_...</td>\n",
              "    </tr>\n",
              "  </tbody>\n",
              "</table>\n",
              "<p>75 rows × 2 columns</p>\n",
              "</div>"
            ],
            "text/plain": [
              "     support                                           itemsets\n",
              "0   0.484600                                           (Gender)\n",
              "1   0.504107                                      (Team_leader)\n",
              "2   0.492813             (Member_of_professional_organizations)\n",
              "3   0.475359                                          (Dot_Net)\n",
              "4   0.477413                                       (SQL_Server)\n",
              "..       ...                                                ...\n",
              "70  0.222793                      (Fast_working, age_bin_31-40)\n",
              "71  0.255647                            (Awards, Communicative)\n",
              "72  0.205339                            (age_bin_31-40, Awards)\n",
              "73  0.208419                     (age_bin_31-40, Communicative)\n",
              "74  0.178645  (employment_period_bin_0-5, age_curr_dept_bin_...\n",
              "\n",
              "[75 rows x 2 columns]"
            ]
          },
          "metadata": {
            "tags": []
          },
          "execution_count": 61
        }
      ]
    },
    {
      "cell_type": "code",
      "metadata": {
        "id": "C_gC5xUZY7Yg",
        "colab_type": "code",
        "colab": {
          "base_uri": "https://localhost:8080/",
          "height": 941
        },
        "outputId": "34347d23-9eec-4dcf-b80b-3d05c191a68d"
      },
      "source": [
        "df_rules = association_rules(df_frequent_data, metric=\"lift\", min_threshold=1)\n",
        "df_rules.describe"
      ],
      "execution_count": 62,
      "outputs": [
        {
          "output_type": "execute_result",
          "data": {
            "text/plain": [
              "<bound method NDFrame.describe of                                antecedents  ... conviction\n",
              "0                                 (Gender)  ...   1.022103\n",
              "1                            (Team_leader)  ...   1.020410\n",
              "2                                 (Gender)  ...   1.005017\n",
              "3                   (HTML_CSS_Java_Script)  ...   1.004526\n",
              "4                                 (Gender)  ...   1.072440\n",
              "5                              (PHP_mySQL)  ...   1.074714\n",
              "6                                 (Awards)  ...   1.030801\n",
              "7                                 (Gender)  ...   1.033243\n",
              "8                          (age_bin_31-40)  ...   1.008817\n",
              "9                                 (Gender)  ...   1.006890\n",
              "10                           (Team_leader)  ...   1.030394\n",
              "11                               (Dot_Net)  ...   1.034228\n",
              "12                           (Team_leader)  ...   1.006237\n",
              "13                             (PHP_mySQL)  ...   1.006945\n",
              "14                          (Fast_working)  ...   1.018647\n",
              "15                           (Team_leader)  ...   1.018804\n",
              "16                           (Team_leader)  ...   1.134849\n",
              "17                         (Communicative)  ...   1.124615\n",
              "18                         (age_bin_31-40)  ...   1.034363\n",
              "19                           (Team_leader)  ...   1.024652\n",
              "20                            (SQL_Server)  ...   1.016560\n",
              "21  (Member_of_professional_organizations)  ...   1.015554\n",
              "22                                (Awards)  ...   1.006160\n",
              "23  (Member_of_professional_organizations)  ...   1.006420\n",
              "24                         (Communicative)  ...   1.006449\n",
              "25  (Member_of_professional_organizations)  ...   1.007241\n",
              "26                            (SQL_Server)  ...   1.047030\n",
              "27                               (Dot_Net)  ...   1.047437\n",
              "28                  (HTML_CSS_Java_Script)  ...   1.006743\n",
              "29                               (Dot_Net)  ...   1.007762\n",
              "30                          (Fast_working)  ...   1.002511\n",
              "31                               (Dot_Net)  ...   1.002841\n",
              "32                            (SQL_Server)  ...   1.039844\n",
              "33                  (HTML_CSS_Java_Script)  ...   1.034764\n",
              "34                            (SQL_Server)  ...   1.002775\n",
              "35                          (Fast_working)  ...   1.002473\n",
              "36                            (SQL_Server)  ...   1.045555\n",
              "37                                (Awards)  ...   1.040926\n",
              "38                          (Fast_working)  ...   1.005993\n",
              "39                  (HTML_CSS_Java_Script)  ...   1.005895\n",
              "40                                (Awards)  ...   1.004055\n",
              "41                  (HTML_CSS_Java_Script)  ...   1.003940\n",
              "42                  (HTML_CSS_Java_Script)  ...   1.007561\n",
              "43                         (Communicative)  ...   1.007224\n",
              "44                          (Fast_working)  ...   1.038853\n",
              "45                             (PHP_mySQL)  ...   1.043798\n",
              "46                         (Communicative)  ...   1.021055\n",
              "47                             (PHP_mySQL)  ...   1.025227\n",
              "48                          (Fast_working)  ...   1.028826\n",
              "49                         (age_bin_31-40)  ...   1.040591\n",
              "50             (employment_period_bin_0-5)  ...   2.109080\n",
              "51                 (age_curr_dept_bin_0-3)  ...   1.640455\n",
              "\n",
              "[52 rows x 9 columns]>"
            ]
          },
          "metadata": {
            "tags": []
          },
          "execution_count": 62
        }
      ]
    },
    {
      "cell_type": "markdown",
      "metadata": {
        "id": "QlA7M2Z2nwTI",
        "colab_type": "text"
      },
      "source": [
        "We have got 75 frequent data set and generated 52 assocaition rules"
      ]
    },
    {
      "cell_type": "code",
      "metadata": {
        "id": "L216c3Q3ZMYp",
        "colab_type": "code",
        "colab": {
          "base_uri": "https://localhost:8080/",
          "height": 195
        },
        "outputId": "2d7e9962-40c1-4fea-b246-0fcea45f8d08"
      },
      "source": [
        "df_rules.head()"
      ],
      "execution_count": 63,
      "outputs": [
        {
          "output_type": "execute_result",
          "data": {
            "text/html": [
              "<div>\n",
              "<style scoped>\n",
              "    .dataframe tbody tr th:only-of-type {\n",
              "        vertical-align: middle;\n",
              "    }\n",
              "\n",
              "    .dataframe tbody tr th {\n",
              "        vertical-align: top;\n",
              "    }\n",
              "\n",
              "    .dataframe thead th {\n",
              "        text-align: right;\n",
              "    }\n",
              "</style>\n",
              "<table border=\"1\" class=\"dataframe\">\n",
              "  <thead>\n",
              "    <tr style=\"text-align: right;\">\n",
              "      <th></th>\n",
              "      <th>antecedents</th>\n",
              "      <th>consequents</th>\n",
              "      <th>antecedent support</th>\n",
              "      <th>consequent support</th>\n",
              "      <th>support</th>\n",
              "      <th>confidence</th>\n",
              "      <th>lift</th>\n",
              "      <th>leverage</th>\n",
              "      <th>conviction</th>\n",
              "    </tr>\n",
              "  </thead>\n",
              "  <tbody>\n",
              "    <tr>\n",
              "      <th>0</th>\n",
              "      <td>(Gender)</td>\n",
              "      <td>(Team_leader)</td>\n",
              "      <td>0.484600</td>\n",
              "      <td>0.504107</td>\n",
              "      <td>0.249487</td>\n",
              "      <td>0.514831</td>\n",
              "      <td>1.021273</td>\n",
              "      <td>0.005197</td>\n",
              "      <td>1.022103</td>\n",
              "    </tr>\n",
              "    <tr>\n",
              "      <th>1</th>\n",
              "      <td>(Team_leader)</td>\n",
              "      <td>(Gender)</td>\n",
              "      <td>0.504107</td>\n",
              "      <td>0.484600</td>\n",
              "      <td>0.249487</td>\n",
              "      <td>0.494908</td>\n",
              "      <td>1.021273</td>\n",
              "      <td>0.005197</td>\n",
              "      <td>1.020410</td>\n",
              "    </tr>\n",
              "    <tr>\n",
              "      <th>2</th>\n",
              "      <td>(Gender)</td>\n",
              "      <td>(HTML_CSS_Java_Script)</td>\n",
              "      <td>0.484600</td>\n",
              "      <td>0.510267</td>\n",
              "      <td>0.248460</td>\n",
              "      <td>0.512712</td>\n",
              "      <td>1.004791</td>\n",
              "      <td>0.001185</td>\n",
              "      <td>1.005017</td>\n",
              "    </tr>\n",
              "    <tr>\n",
              "      <th>3</th>\n",
              "      <td>(HTML_CSS_Java_Script)</td>\n",
              "      <td>(Gender)</td>\n",
              "      <td>0.510267</td>\n",
              "      <td>0.484600</td>\n",
              "      <td>0.248460</td>\n",
              "      <td>0.486922</td>\n",
              "      <td>1.004791</td>\n",
              "      <td>0.001185</td>\n",
              "      <td>1.004526</td>\n",
              "    </tr>\n",
              "    <tr>\n",
              "      <th>4</th>\n",
              "      <td>(Gender)</td>\n",
              "      <td>(PHP_mySQL)</td>\n",
              "      <td>0.484600</td>\n",
              "      <td>0.477413</td>\n",
              "      <td>0.248460</td>\n",
              "      <td>0.512712</td>\n",
              "      <td>1.073938</td>\n",
              "      <td>0.017106</td>\n",
              "      <td>1.072440</td>\n",
              "    </tr>\n",
              "  </tbody>\n",
              "</table>\n",
              "</div>"
            ],
            "text/plain": [
              "              antecedents             consequents  ...  leverage  conviction\n",
              "0                (Gender)           (Team_leader)  ...  0.005197    1.022103\n",
              "1           (Team_leader)                (Gender)  ...  0.005197    1.020410\n",
              "2                (Gender)  (HTML_CSS_Java_Script)  ...  0.001185    1.005017\n",
              "3  (HTML_CSS_Java_Script)                (Gender)  ...  0.001185    1.004526\n",
              "4                (Gender)             (PHP_mySQL)  ...  0.017106    1.072440\n",
              "\n",
              "[5 rows x 9 columns]"
            ]
          },
          "metadata": {
            "tags": []
          },
          "execution_count": 63
        }
      ]
    },
    {
      "cell_type": "markdown",
      "metadata": {
        "id": "jrRwbXEgfSBj",
        "colab_type": "text"
      },
      "source": [
        "We will try to find interesting rule from all generated assocation rule have confidence more than 0.55 and Support more than 0.15"
      ]
    },
    {
      "cell_type": "code",
      "metadata": {
        "id": "90yXkz12e3AK",
        "colab_type": "code",
        "colab": {
          "base_uri": "https://localhost:8080/",
          "height": 182
        },
        "outputId": "34b8e5be-a8ce-4b4a-b9c0-6d1314613525"
      },
      "source": [
        "important_business_rules = df_rules[ (df_rules['confidence'] >= 0.55) & (df_rules['lift'] >= 1) & (df_rules['support'] >= 0.15)]\n",
        "print(important_business_rules.shape)\n",
        "important_business_rules.sort_values(by='confidence',ascending=False)\n"
      ],
      "execution_count": 64,
      "outputs": [
        {
          "output_type": "stream",
          "text": [
            "(4, 9)\n"
          ],
          "name": "stdout"
        },
        {
          "output_type": "execute_result",
          "data": {
            "text/html": [
              "<div>\n",
              "<style scoped>\n",
              "    .dataframe tbody tr th:only-of-type {\n",
              "        vertical-align: middle;\n",
              "    }\n",
              "\n",
              "    .dataframe tbody tr th {\n",
              "        vertical-align: top;\n",
              "    }\n",
              "\n",
              "    .dataframe thead th {\n",
              "        text-align: right;\n",
              "    }\n",
              "</style>\n",
              "<table border=\"1\" class=\"dataframe\">\n",
              "  <thead>\n",
              "    <tr style=\"text-align: right;\">\n",
              "      <th></th>\n",
              "      <th>antecedents</th>\n",
              "      <th>consequents</th>\n",
              "      <th>antecedent support</th>\n",
              "      <th>consequent support</th>\n",
              "      <th>support</th>\n",
              "      <th>confidence</th>\n",
              "      <th>lift</th>\n",
              "      <th>leverage</th>\n",
              "      <th>conviction</th>\n",
              "    </tr>\n",
              "  </thead>\n",
              "  <tbody>\n",
              "    <tr>\n",
              "      <th>50</th>\n",
              "      <td>(employment_period_bin_0-5)</td>\n",
              "      <td>(age_curr_dept_bin_0-3)</td>\n",
              "      <td>0.262834</td>\n",
              "      <td>0.324435</td>\n",
              "      <td>0.178645</td>\n",
              "      <td>0.679688</td>\n",
              "      <td>2.094986</td>\n",
              "      <td>0.093372</td>\n",
              "      <td>2.109080</td>\n",
              "    </tr>\n",
              "    <tr>\n",
              "      <th>16</th>\n",
              "      <td>(Team_leader)</td>\n",
              "      <td>(Communicative)</td>\n",
              "      <td>0.504107</td>\n",
              "      <td>0.521561</td>\n",
              "      <td>0.291581</td>\n",
              "      <td>0.578411</td>\n",
              "      <td>1.109001</td>\n",
              "      <td>0.028659</td>\n",
              "      <td>1.134849</td>\n",
              "    </tr>\n",
              "    <tr>\n",
              "      <th>17</th>\n",
              "      <td>(Communicative)</td>\n",
              "      <td>(Team_leader)</td>\n",
              "      <td>0.521561</td>\n",
              "      <td>0.504107</td>\n",
              "      <td>0.291581</td>\n",
              "      <td>0.559055</td>\n",
              "      <td>1.109001</td>\n",
              "      <td>0.028659</td>\n",
              "      <td>1.124615</td>\n",
              "    </tr>\n",
              "    <tr>\n",
              "      <th>51</th>\n",
              "      <td>(age_curr_dept_bin_0-3)</td>\n",
              "      <td>(employment_period_bin_0-5)</td>\n",
              "      <td>0.324435</td>\n",
              "      <td>0.262834</td>\n",
              "      <td>0.178645</td>\n",
              "      <td>0.550633</td>\n",
              "      <td>2.094986</td>\n",
              "      <td>0.093372</td>\n",
              "      <td>1.640455</td>\n",
              "    </tr>\n",
              "  </tbody>\n",
              "</table>\n",
              "</div>"
            ],
            "text/plain": [
              "                    antecedents  ... conviction\n",
              "50  (employment_period_bin_0-5)  ...   2.109080\n",
              "16                (Team_leader)  ...   1.134849\n",
              "17              (Communicative)  ...   1.124615\n",
              "51      (age_curr_dept_bin_0-3)  ...   1.640455\n",
              "\n",
              "[4 rows x 9 columns]"
            ]
          },
          "metadata": {
            "tags": []
          },
          "execution_count": 64
        }
      ]
    },
    {
      "cell_type": "markdown",
      "metadata": {
        "id": "mor9-gOLgmZf",
        "colab_type": "text"
      },
      "source": [
        "In an employee is a team leader then he has good communincation skill and vice-versa"
      ]
    },
    {
      "cell_type": "markdown",
      "metadata": {
        "id": "RC831TlZeIPE",
        "colab_type": "text"
      },
      "source": [
        "#3rd Iteration"
      ]
    },
    {
      "cell_type": "markdown",
      "metadata": {
        "id": "LCjwd99KoCV2",
        "colab_type": "text"
      },
      "source": [
        "Now will increase the min support to 0.25 and see how many frequent dataset will be formed and association rules"
      ]
    },
    {
      "cell_type": "code",
      "metadata": {
        "id": "2VmX8wH1oNe_",
        "colab_type": "code",
        "colab": {
          "base_uri": "https://localhost:8080/",
          "height": 965
        },
        "outputId": "6b9072be-24d9-4688-9a73-1b958bcdd7ec"
      },
      "source": [
        "df_frequent_data = apriori(binnedDummyData, min_support=0.25, use_colnames=True)\n",
        "df_frequent_data"
      ],
      "execution_count": 65,
      "outputs": [
        {
          "output_type": "execute_result",
          "data": {
            "text/html": [
              "<div>\n",
              "<style scoped>\n",
              "    .dataframe tbody tr th:only-of-type {\n",
              "        vertical-align: middle;\n",
              "    }\n",
              "\n",
              "    .dataframe tbody tr th {\n",
              "        vertical-align: top;\n",
              "    }\n",
              "\n",
              "    .dataframe thead th {\n",
              "        text-align: right;\n",
              "    }\n",
              "</style>\n",
              "<table border=\"1\" class=\"dataframe\">\n",
              "  <thead>\n",
              "    <tr style=\"text-align: right;\">\n",
              "      <th></th>\n",
              "      <th>support</th>\n",
              "      <th>itemsets</th>\n",
              "    </tr>\n",
              "  </thead>\n",
              "  <tbody>\n",
              "    <tr>\n",
              "      <th>0</th>\n",
              "      <td>0.484600</td>\n",
              "      <td>(Gender)</td>\n",
              "    </tr>\n",
              "    <tr>\n",
              "      <th>1</th>\n",
              "      <td>0.504107</td>\n",
              "      <td>(Team_leader)</td>\n",
              "    </tr>\n",
              "    <tr>\n",
              "      <th>2</th>\n",
              "      <td>0.492813</td>\n",
              "      <td>(Member_of_professional_organizations)</td>\n",
              "    </tr>\n",
              "    <tr>\n",
              "      <th>3</th>\n",
              "      <td>0.475359</td>\n",
              "      <td>(Dot_Net)</td>\n",
              "    </tr>\n",
              "    <tr>\n",
              "      <th>4</th>\n",
              "      <td>0.477413</td>\n",
              "      <td>(SQL_Server)</td>\n",
              "    </tr>\n",
              "    <tr>\n",
              "      <th>5</th>\n",
              "      <td>0.510267</td>\n",
              "      <td>(HTML_CSS_Java_Script)</td>\n",
              "    </tr>\n",
              "    <tr>\n",
              "      <th>6</th>\n",
              "      <td>0.477413</td>\n",
              "      <td>(PHP_mySQL)</td>\n",
              "    </tr>\n",
              "    <tr>\n",
              "      <th>7</th>\n",
              "      <td>0.506160</td>\n",
              "      <td>(Fast_working)</td>\n",
              "    </tr>\n",
              "    <tr>\n",
              "      <th>8</th>\n",
              "      <td>0.503080</td>\n",
              "      <td>(Awards)</td>\n",
              "    </tr>\n",
              "    <tr>\n",
              "      <th>9</th>\n",
              "      <td>0.521561</td>\n",
              "      <td>(Communicative)</td>\n",
              "    </tr>\n",
              "    <tr>\n",
              "      <th>10</th>\n",
              "      <td>0.262834</td>\n",
              "      <td>(employment_period_bin_0-5)</td>\n",
              "    </tr>\n",
              "    <tr>\n",
              "      <th>11</th>\n",
              "      <td>0.424025</td>\n",
              "      <td>(age_bin_31-40)</td>\n",
              "    </tr>\n",
              "    <tr>\n",
              "      <th>12</th>\n",
              "      <td>0.301848</td>\n",
              "      <td>(age_bin_41-50)</td>\n",
              "    </tr>\n",
              "    <tr>\n",
              "      <th>13</th>\n",
              "      <td>0.324435</td>\n",
              "      <td>(age_curr_dept_bin_0-3)</td>\n",
              "    </tr>\n",
              "    <tr>\n",
              "      <th>14</th>\n",
              "      <td>0.294661</td>\n",
              "      <td>(age_curr_dept_bin_4-6)</td>\n",
              "    </tr>\n",
              "    <tr>\n",
              "      <th>15</th>\n",
              "      <td>0.251540</td>\n",
              "      <td>(Awards, Gender)</td>\n",
              "    </tr>\n",
              "    <tr>\n",
              "      <th>16</th>\n",
              "      <td>0.250513</td>\n",
              "      <td>(Team_leader, HTML_CSS_Java_Script)</td>\n",
              "    </tr>\n",
              "    <tr>\n",
              "      <th>17</th>\n",
              "      <td>0.259754</td>\n",
              "      <td>(Fast_working, Team_leader)</td>\n",
              "    </tr>\n",
              "    <tr>\n",
              "      <th>18</th>\n",
              "      <td>0.252567</td>\n",
              "      <td>(Awards, Team_leader)</td>\n",
              "    </tr>\n",
              "    <tr>\n",
              "      <th>19</th>\n",
              "      <td>0.291581</td>\n",
              "      <td>(Team_leader, Communicative)</td>\n",
              "    </tr>\n",
              "    <tr>\n",
              "      <th>20</th>\n",
              "      <td>0.258727</td>\n",
              "      <td>(Communicative, Member_of_professional_organiz...</td>\n",
              "    </tr>\n",
              "    <tr>\n",
              "      <th>21</th>\n",
              "      <td>0.252567</td>\n",
              "      <td>(SQL_Server, HTML_CSS_Java_Script)</td>\n",
              "    </tr>\n",
              "    <tr>\n",
              "      <th>22</th>\n",
              "      <td>0.250513</td>\n",
              "      <td>(SQL_Server, Awards)</td>\n",
              "    </tr>\n",
              "    <tr>\n",
              "      <th>23</th>\n",
              "      <td>0.259754</td>\n",
              "      <td>(Fast_working, HTML_CSS_Java_Script)</td>\n",
              "    </tr>\n",
              "    <tr>\n",
              "      <th>24</th>\n",
              "      <td>0.257700</td>\n",
              "      <td>(Awards, HTML_CSS_Java_Script)</td>\n",
              "    </tr>\n",
              "    <tr>\n",
              "      <th>25</th>\n",
              "      <td>0.267967</td>\n",
              "      <td>(HTML_CSS_Java_Script, Communicative)</td>\n",
              "    </tr>\n",
              "    <tr>\n",
              "      <th>26</th>\n",
              "      <td>0.251540</td>\n",
              "      <td>(Fast_working, PHP_mySQL)</td>\n",
              "    </tr>\n",
              "    <tr>\n",
              "      <th>27</th>\n",
              "      <td>0.254620</td>\n",
              "      <td>(Communicative, PHP_mySQL)</td>\n",
              "    </tr>\n",
              "    <tr>\n",
              "      <th>28</th>\n",
              "      <td>0.250513</td>\n",
              "      <td>(Fast_working, Awards)</td>\n",
              "    </tr>\n",
              "    <tr>\n",
              "      <th>29</th>\n",
              "      <td>0.263860</td>\n",
              "      <td>(Fast_working, Communicative)</td>\n",
              "    </tr>\n",
              "    <tr>\n",
              "      <th>30</th>\n",
              "      <td>0.255647</td>\n",
              "      <td>(Awards, Communicative)</td>\n",
              "    </tr>\n",
              "  </tbody>\n",
              "</table>\n",
              "</div>"
            ],
            "text/plain": [
              "     support                                           itemsets\n",
              "0   0.484600                                           (Gender)\n",
              "1   0.504107                                      (Team_leader)\n",
              "2   0.492813             (Member_of_professional_organizations)\n",
              "3   0.475359                                          (Dot_Net)\n",
              "4   0.477413                                       (SQL_Server)\n",
              "5   0.510267                             (HTML_CSS_Java_Script)\n",
              "6   0.477413                                        (PHP_mySQL)\n",
              "7   0.506160                                     (Fast_working)\n",
              "8   0.503080                                           (Awards)\n",
              "9   0.521561                                    (Communicative)\n",
              "10  0.262834                        (employment_period_bin_0-5)\n",
              "11  0.424025                                    (age_bin_31-40)\n",
              "12  0.301848                                    (age_bin_41-50)\n",
              "13  0.324435                            (age_curr_dept_bin_0-3)\n",
              "14  0.294661                            (age_curr_dept_bin_4-6)\n",
              "15  0.251540                                   (Awards, Gender)\n",
              "16  0.250513                (Team_leader, HTML_CSS_Java_Script)\n",
              "17  0.259754                        (Fast_working, Team_leader)\n",
              "18  0.252567                              (Awards, Team_leader)\n",
              "19  0.291581                       (Team_leader, Communicative)\n",
              "20  0.258727  (Communicative, Member_of_professional_organiz...\n",
              "21  0.252567                 (SQL_Server, HTML_CSS_Java_Script)\n",
              "22  0.250513                               (SQL_Server, Awards)\n",
              "23  0.259754               (Fast_working, HTML_CSS_Java_Script)\n",
              "24  0.257700                     (Awards, HTML_CSS_Java_Script)\n",
              "25  0.267967              (HTML_CSS_Java_Script, Communicative)\n",
              "26  0.251540                          (Fast_working, PHP_mySQL)\n",
              "27  0.254620                         (Communicative, PHP_mySQL)\n",
              "28  0.250513                             (Fast_working, Awards)\n",
              "29  0.263860                      (Fast_working, Communicative)\n",
              "30  0.255647                            (Awards, Communicative)"
            ]
          },
          "metadata": {
            "tags": []
          },
          "execution_count": 65
        }
      ]
    },
    {
      "cell_type": "code",
      "metadata": {
        "id": "y39VijvPa7AZ",
        "colab_type": "code",
        "colab": {
          "base_uri": "https://localhost:8080/",
          "height": 437
        },
        "outputId": "ea824aa9-9959-4e07-fe89-d792f1a83ea7"
      },
      "source": [
        "df_rules = association_rules(df_frequent_data, metric=\"lift\", min_threshold=1)\n",
        "df_rules.describe"
      ],
      "execution_count": 66,
      "outputs": [
        {
          "output_type": "execute_result",
          "data": {
            "text/plain": [
              "<bound method NDFrame.describe of                                antecedents  ... conviction\n",
              "0                                 (Awards)  ...   1.030801\n",
              "1                                 (Gender)  ...   1.033243\n",
              "2                           (Fast_working)  ...   1.018647\n",
              "3                            (Team_leader)  ...   1.018804\n",
              "4                            (Team_leader)  ...   1.134849\n",
              "5                          (Communicative)  ...   1.124615\n",
              "6                          (Communicative)  ...   1.006449\n",
              "7   (Member_of_professional_organizations)  ...   1.007241\n",
              "8                             (SQL_Server)  ...   1.039844\n",
              "9                   (HTML_CSS_Java_Script)  ...   1.034764\n",
              "10                            (SQL_Server)  ...   1.045555\n",
              "11                                (Awards)  ...   1.040926\n",
              "12                          (Fast_working)  ...   1.005993\n",
              "13                  (HTML_CSS_Java_Script)  ...   1.005895\n",
              "14                                (Awards)  ...   1.004055\n",
              "15                  (HTML_CSS_Java_Script)  ...   1.003940\n",
              "16                  (HTML_CSS_Java_Script)  ...   1.007561\n",
              "17                         (Communicative)  ...   1.007224\n",
              "18                          (Fast_working)  ...   1.038853\n",
              "19                             (PHP_mySQL)  ...   1.043798\n",
              "20                         (Communicative)  ...   1.021055\n",
              "21                             (PHP_mySQL)  ...   1.025227\n",
              "\n",
              "[22 rows x 9 columns]>"
            ]
          },
          "metadata": {
            "tags": []
          },
          "execution_count": 66
        }
      ]
    },
    {
      "cell_type": "markdown",
      "metadata": {
        "id": "fzkNDzhyowYE",
        "colab_type": "text"
      },
      "source": [
        "We have got 30 frquent item set and 22 association_rules"
      ]
    },
    {
      "cell_type": "code",
      "metadata": {
        "id": "TmMlA9gka-k0",
        "colab_type": "code",
        "colab": {
          "base_uri": "https://localhost:8080/",
          "height": 698
        },
        "outputId": "bf20e622-414b-46ff-d29c-092667562552"
      },
      "source": [
        "df_rules"
      ],
      "execution_count": 67,
      "outputs": [
        {
          "output_type": "execute_result",
          "data": {
            "text/html": [
              "<div>\n",
              "<style scoped>\n",
              "    .dataframe tbody tr th:only-of-type {\n",
              "        vertical-align: middle;\n",
              "    }\n",
              "\n",
              "    .dataframe tbody tr th {\n",
              "        vertical-align: top;\n",
              "    }\n",
              "\n",
              "    .dataframe thead th {\n",
              "        text-align: right;\n",
              "    }\n",
              "</style>\n",
              "<table border=\"1\" class=\"dataframe\">\n",
              "  <thead>\n",
              "    <tr style=\"text-align: right;\">\n",
              "      <th></th>\n",
              "      <th>antecedents</th>\n",
              "      <th>consequents</th>\n",
              "      <th>antecedent support</th>\n",
              "      <th>consequent support</th>\n",
              "      <th>support</th>\n",
              "      <th>confidence</th>\n",
              "      <th>lift</th>\n",
              "      <th>leverage</th>\n",
              "      <th>conviction</th>\n",
              "    </tr>\n",
              "  </thead>\n",
              "  <tbody>\n",
              "    <tr>\n",
              "      <th>0</th>\n",
              "      <td>(Awards)</td>\n",
              "      <td>(Gender)</td>\n",
              "      <td>0.503080</td>\n",
              "      <td>0.484600</td>\n",
              "      <td>0.251540</td>\n",
              "      <td>0.500000</td>\n",
              "      <td>1.031780</td>\n",
              "      <td>0.007748</td>\n",
              "      <td>1.030801</td>\n",
              "    </tr>\n",
              "    <tr>\n",
              "      <th>1</th>\n",
              "      <td>(Gender)</td>\n",
              "      <td>(Awards)</td>\n",
              "      <td>0.484600</td>\n",
              "      <td>0.503080</td>\n",
              "      <td>0.251540</td>\n",
              "      <td>0.519068</td>\n",
              "      <td>1.031780</td>\n",
              "      <td>0.007748</td>\n",
              "      <td>1.033243</td>\n",
              "    </tr>\n",
              "    <tr>\n",
              "      <th>2</th>\n",
              "      <td>(Fast_working)</td>\n",
              "      <td>(Team_leader)</td>\n",
              "      <td>0.506160</td>\n",
              "      <td>0.504107</td>\n",
              "      <td>0.259754</td>\n",
              "      <td>0.513185</td>\n",
              "      <td>1.018008</td>\n",
              "      <td>0.004595</td>\n",
              "      <td>1.018647</td>\n",
              "    </tr>\n",
              "    <tr>\n",
              "      <th>3</th>\n",
              "      <td>(Team_leader)</td>\n",
              "      <td>(Fast_working)</td>\n",
              "      <td>0.504107</td>\n",
              "      <td>0.506160</td>\n",
              "      <td>0.259754</td>\n",
              "      <td>0.515275</td>\n",
              "      <td>1.018008</td>\n",
              "      <td>0.004595</td>\n",
              "      <td>1.018804</td>\n",
              "    </tr>\n",
              "    <tr>\n",
              "      <th>4</th>\n",
              "      <td>(Team_leader)</td>\n",
              "      <td>(Communicative)</td>\n",
              "      <td>0.504107</td>\n",
              "      <td>0.521561</td>\n",
              "      <td>0.291581</td>\n",
              "      <td>0.578411</td>\n",
              "      <td>1.109001</td>\n",
              "      <td>0.028659</td>\n",
              "      <td>1.134849</td>\n",
              "    </tr>\n",
              "    <tr>\n",
              "      <th>5</th>\n",
              "      <td>(Communicative)</td>\n",
              "      <td>(Team_leader)</td>\n",
              "      <td>0.521561</td>\n",
              "      <td>0.504107</td>\n",
              "      <td>0.291581</td>\n",
              "      <td>0.559055</td>\n",
              "      <td>1.109001</td>\n",
              "      <td>0.028659</td>\n",
              "      <td>1.124615</td>\n",
              "    </tr>\n",
              "    <tr>\n",
              "      <th>6</th>\n",
              "      <td>(Communicative)</td>\n",
              "      <td>(Member_of_professional_organizations)</td>\n",
              "      <td>0.521561</td>\n",
              "      <td>0.492813</td>\n",
              "      <td>0.258727</td>\n",
              "      <td>0.496063</td>\n",
              "      <td>1.006594</td>\n",
              "      <td>0.001695</td>\n",
              "      <td>1.006449</td>\n",
              "    </tr>\n",
              "    <tr>\n",
              "      <th>7</th>\n",
              "      <td>(Member_of_professional_organizations)</td>\n",
              "      <td>(Communicative)</td>\n",
              "      <td>0.492813</td>\n",
              "      <td>0.521561</td>\n",
              "      <td>0.258727</td>\n",
              "      <td>0.525000</td>\n",
              "      <td>1.006594</td>\n",
              "      <td>0.001695</td>\n",
              "      <td>1.007241</td>\n",
              "    </tr>\n",
              "    <tr>\n",
              "      <th>8</th>\n",
              "      <td>(SQL_Server)</td>\n",
              "      <td>(HTML_CSS_Java_Script)</td>\n",
              "      <td>0.477413</td>\n",
              "      <td>0.510267</td>\n",
              "      <td>0.252567</td>\n",
              "      <td>0.529032</td>\n",
              "      <td>1.036775</td>\n",
              "      <td>0.008959</td>\n",
              "      <td>1.039844</td>\n",
              "    </tr>\n",
              "    <tr>\n",
              "      <th>9</th>\n",
              "      <td>(HTML_CSS_Java_Script)</td>\n",
              "      <td>(SQL_Server)</td>\n",
              "      <td>0.510267</td>\n",
              "      <td>0.477413</td>\n",
              "      <td>0.252567</td>\n",
              "      <td>0.494970</td>\n",
              "      <td>1.036775</td>\n",
              "      <td>0.008959</td>\n",
              "      <td>1.034764</td>\n",
              "    </tr>\n",
              "    <tr>\n",
              "      <th>10</th>\n",
              "      <td>(SQL_Server)</td>\n",
              "      <td>(Awards)</td>\n",
              "      <td>0.477413</td>\n",
              "      <td>0.503080</td>\n",
              "      <td>0.250513</td>\n",
              "      <td>0.524731</td>\n",
              "      <td>1.043037</td>\n",
              "      <td>0.010337</td>\n",
              "      <td>1.045555</td>\n",
              "    </tr>\n",
              "    <tr>\n",
              "      <th>11</th>\n",
              "      <td>(Awards)</td>\n",
              "      <td>(SQL_Server)</td>\n",
              "      <td>0.503080</td>\n",
              "      <td>0.477413</td>\n",
              "      <td>0.250513</td>\n",
              "      <td>0.497959</td>\n",
              "      <td>1.043037</td>\n",
              "      <td>0.010337</td>\n",
              "      <td>1.040926</td>\n",
              "    </tr>\n",
              "    <tr>\n",
              "      <th>12</th>\n",
              "      <td>(Fast_working)</td>\n",
              "      <td>(HTML_CSS_Java_Script)</td>\n",
              "      <td>0.506160</td>\n",
              "      <td>0.510267</td>\n",
              "      <td>0.259754</td>\n",
              "      <td>0.513185</td>\n",
              "      <td>1.005718</td>\n",
              "      <td>0.001477</td>\n",
              "      <td>1.005993</td>\n",
              "    </tr>\n",
              "    <tr>\n",
              "      <th>13</th>\n",
              "      <td>(HTML_CSS_Java_Script)</td>\n",
              "      <td>(Fast_working)</td>\n",
              "      <td>0.510267</td>\n",
              "      <td>0.506160</td>\n",
              "      <td>0.259754</td>\n",
              "      <td>0.509054</td>\n",
              "      <td>1.005718</td>\n",
              "      <td>0.001477</td>\n",
              "      <td>1.005895</td>\n",
              "    </tr>\n",
              "    <tr>\n",
              "      <th>14</th>\n",
              "      <td>(Awards)</td>\n",
              "      <td>(HTML_CSS_Java_Script)</td>\n",
              "      <td>0.503080</td>\n",
              "      <td>0.510267</td>\n",
              "      <td>0.257700</td>\n",
              "      <td>0.512245</td>\n",
              "      <td>1.003876</td>\n",
              "      <td>0.000995</td>\n",
              "      <td>1.004055</td>\n",
              "    </tr>\n",
              "    <tr>\n",
              "      <th>15</th>\n",
              "      <td>(HTML_CSS_Java_Script)</td>\n",
              "      <td>(Awards)</td>\n",
              "      <td>0.510267</td>\n",
              "      <td>0.503080</td>\n",
              "      <td>0.257700</td>\n",
              "      <td>0.505030</td>\n",
              "      <td>1.003876</td>\n",
              "      <td>0.000995</td>\n",
              "      <td>1.003940</td>\n",
              "    </tr>\n",
              "    <tr>\n",
              "      <th>16</th>\n",
              "      <td>(HTML_CSS_Java_Script)</td>\n",
              "      <td>(Communicative)</td>\n",
              "      <td>0.510267</td>\n",
              "      <td>0.521561</td>\n",
              "      <td>0.267967</td>\n",
              "      <td>0.525151</td>\n",
              "      <td>1.006884</td>\n",
              "      <td>0.001832</td>\n",
              "      <td>1.007561</td>\n",
              "    </tr>\n",
              "    <tr>\n",
              "      <th>17</th>\n",
              "      <td>(Communicative)</td>\n",
              "      <td>(HTML_CSS_Java_Script)</td>\n",
              "      <td>0.521561</td>\n",
              "      <td>0.510267</td>\n",
              "      <td>0.267967</td>\n",
              "      <td>0.513780</td>\n",
              "      <td>1.006884</td>\n",
              "      <td>0.001832</td>\n",
              "      <td>1.007224</td>\n",
              "    </tr>\n",
              "    <tr>\n",
              "      <th>18</th>\n",
              "      <td>(Fast_working)</td>\n",
              "      <td>(PHP_mySQL)</td>\n",
              "      <td>0.506160</td>\n",
              "      <td>0.477413</td>\n",
              "      <td>0.251540</td>\n",
              "      <td>0.496957</td>\n",
              "      <td>1.040939</td>\n",
              "      <td>0.009893</td>\n",
              "      <td>1.038853</td>\n",
              "    </tr>\n",
              "    <tr>\n",
              "      <th>19</th>\n",
              "      <td>(PHP_mySQL)</td>\n",
              "      <td>(Fast_working)</td>\n",
              "      <td>0.477413</td>\n",
              "      <td>0.506160</td>\n",
              "      <td>0.251540</td>\n",
              "      <td>0.526882</td>\n",
              "      <td>1.040939</td>\n",
              "      <td>0.009893</td>\n",
              "      <td>1.043798</td>\n",
              "    </tr>\n",
              "    <tr>\n",
              "      <th>20</th>\n",
              "      <td>(Communicative)</td>\n",
              "      <td>(PHP_mySQL)</td>\n",
              "      <td>0.521561</td>\n",
              "      <td>0.477413</td>\n",
              "      <td>0.254620</td>\n",
              "      <td>0.488189</td>\n",
              "      <td>1.022572</td>\n",
              "      <td>0.005620</td>\n",
              "      <td>1.021055</td>\n",
              "    </tr>\n",
              "    <tr>\n",
              "      <th>21</th>\n",
              "      <td>(PHP_mySQL)</td>\n",
              "      <td>(Communicative)</td>\n",
              "      <td>0.477413</td>\n",
              "      <td>0.521561</td>\n",
              "      <td>0.254620</td>\n",
              "      <td>0.533333</td>\n",
              "      <td>1.022572</td>\n",
              "      <td>0.005620</td>\n",
              "      <td>1.025227</td>\n",
              "    </tr>\n",
              "  </tbody>\n",
              "</table>\n",
              "</div>"
            ],
            "text/plain": [
              "                               antecedents  ... conviction\n",
              "0                                 (Awards)  ...   1.030801\n",
              "1                                 (Gender)  ...   1.033243\n",
              "2                           (Fast_working)  ...   1.018647\n",
              "3                            (Team_leader)  ...   1.018804\n",
              "4                            (Team_leader)  ...   1.134849\n",
              "5                          (Communicative)  ...   1.124615\n",
              "6                          (Communicative)  ...   1.006449\n",
              "7   (Member_of_professional_organizations)  ...   1.007241\n",
              "8                             (SQL_Server)  ...   1.039844\n",
              "9                   (HTML_CSS_Java_Script)  ...   1.034764\n",
              "10                            (SQL_Server)  ...   1.045555\n",
              "11                                (Awards)  ...   1.040926\n",
              "12                          (Fast_working)  ...   1.005993\n",
              "13                  (HTML_CSS_Java_Script)  ...   1.005895\n",
              "14                                (Awards)  ...   1.004055\n",
              "15                  (HTML_CSS_Java_Script)  ...   1.003940\n",
              "16                  (HTML_CSS_Java_Script)  ...   1.007561\n",
              "17                         (Communicative)  ...   1.007224\n",
              "18                          (Fast_working)  ...   1.038853\n",
              "19                             (PHP_mySQL)  ...   1.043798\n",
              "20                         (Communicative)  ...   1.021055\n",
              "21                             (PHP_mySQL)  ...   1.025227\n",
              "\n",
              "[22 rows x 9 columns]"
            ]
          },
          "metadata": {
            "tags": []
          },
          "execution_count": 67
        }
      ]
    },
    {
      "cell_type": "markdown",
      "metadata": {
        "id": "qFj9hmsieitL",
        "colab_type": "text"
      },
      "source": [
        "We will try to find interesting rule from all generated assocation rule have confidence more than 0.55 and Support more than 0.15"
      ]
    },
    {
      "cell_type": "code",
      "metadata": {
        "id": "SXqxSG6xo06U",
        "colab_type": "code",
        "colab": {}
      },
      "source": [
        "important_business_rules = df_rules[ (df_rules['confidence'] >= 0.55) & (df_rules['lift'] >= 1) & (df_rules['support'] >= 0.15)]\n"
      ],
      "execution_count": 68,
      "outputs": []
    },
    {
      "cell_type": "code",
      "metadata": {
        "id": "WuBYxj4_eaGk",
        "colab_type": "code",
        "colab": {
          "base_uri": "https://localhost:8080/",
          "height": 123
        },
        "outputId": "03c09fe0-4af1-4e91-c564-1ad63e5d3faf"
      },
      "source": [
        "print(important_business_rules.shape)\n",
        "important_business_rules.sort_values(by='confidence',ascending=False)\n"
      ],
      "execution_count": 69,
      "outputs": [
        {
          "output_type": "stream",
          "text": [
            "(2, 9)\n"
          ],
          "name": "stdout"
        },
        {
          "output_type": "execute_result",
          "data": {
            "text/html": [
              "<div>\n",
              "<style scoped>\n",
              "    .dataframe tbody tr th:only-of-type {\n",
              "        vertical-align: middle;\n",
              "    }\n",
              "\n",
              "    .dataframe tbody tr th {\n",
              "        vertical-align: top;\n",
              "    }\n",
              "\n",
              "    .dataframe thead th {\n",
              "        text-align: right;\n",
              "    }\n",
              "</style>\n",
              "<table border=\"1\" class=\"dataframe\">\n",
              "  <thead>\n",
              "    <tr style=\"text-align: right;\">\n",
              "      <th></th>\n",
              "      <th>antecedents</th>\n",
              "      <th>consequents</th>\n",
              "      <th>antecedent support</th>\n",
              "      <th>consequent support</th>\n",
              "      <th>support</th>\n",
              "      <th>confidence</th>\n",
              "      <th>lift</th>\n",
              "      <th>leverage</th>\n",
              "      <th>conviction</th>\n",
              "    </tr>\n",
              "  </thead>\n",
              "  <tbody>\n",
              "    <tr>\n",
              "      <th>4</th>\n",
              "      <td>(Team_leader)</td>\n",
              "      <td>(Communicative)</td>\n",
              "      <td>0.504107</td>\n",
              "      <td>0.521561</td>\n",
              "      <td>0.291581</td>\n",
              "      <td>0.578411</td>\n",
              "      <td>1.109001</td>\n",
              "      <td>0.028659</td>\n",
              "      <td>1.134849</td>\n",
              "    </tr>\n",
              "    <tr>\n",
              "      <th>5</th>\n",
              "      <td>(Communicative)</td>\n",
              "      <td>(Team_leader)</td>\n",
              "      <td>0.521561</td>\n",
              "      <td>0.504107</td>\n",
              "      <td>0.291581</td>\n",
              "      <td>0.559055</td>\n",
              "      <td>1.109001</td>\n",
              "      <td>0.028659</td>\n",
              "      <td>1.124615</td>\n",
              "    </tr>\n",
              "  </tbody>\n",
              "</table>\n",
              "</div>"
            ],
            "text/plain": [
              "       antecedents      consequents  ...  leverage  conviction\n",
              "4    (Team_leader)  (Communicative)  ...  0.028659    1.134849\n",
              "5  (Communicative)    (Team_leader)  ...  0.028659    1.124615\n",
              "\n",
              "[2 rows x 9 columns]"
            ]
          },
          "metadata": {
            "tags": []
          },
          "execution_count": 69
        }
      ]
    },
    {
      "cell_type": "markdown",
      "metadata": {
        "id": "ijLAkC-Rg9gi",
        "colab_type": "text"
      },
      "source": [
        "In an employee is a team leader then he has good communincation skill and vice-versa"
      ]
    },
    {
      "cell_type": "markdown",
      "metadata": {
        "id": "SYUYt5_1fnWG",
        "colab_type": "text"
      },
      "source": [
        "# When we increase the min support threshold,  the number of frequent itemset and association rule is decreased "
      ]
    },
    {
      "cell_type": "code",
      "metadata": {
        "id": "_I4bd84qhG0d",
        "colab_type": "code",
        "colab": {}
      },
      "source": [
        ""
      ],
      "execution_count": null,
      "outputs": []
    }
  ]
}