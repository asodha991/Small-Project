{
  "nbformat": 4,
  "nbformat_minor": 0,
  "metadata": {
    "colab": {
      "name": "ML_LOGSTIC.ipynb",
      "provenance": [],
      "collapsed_sections": []
    },
    "kernelspec": {
      "name": "python3",
      "display_name": "Python 3"
    }
  },
  "cells": [
    {
      "cell_type": "markdown",
      "metadata": {
        "id": "0S28QkcaoBej"
      },
      "source": [
        "#**Question 1**"
      ]
    },
    {
      "cell_type": "markdown",
      "metadata": {
        "id": "XQQEDq9rbkUs"
      },
      "source": [
        "\r\n",
        "# Importing required library"
      ]
    },
    {
      "cell_type": "code",
      "metadata": {
        "id": "jravSsQ2k9va"
      },
      "source": [
        "#  Import Libraries such as Numpy, Panda and Matplotlib \r\n",
        "from google.colab import files\r\n",
        "import numpy as np\r\n",
        "import matplotlib.pyplot as plt\r\n",
        "import pandas as pd\r\n",
        "import seaborn as sns\r\n",
        "from sklearn.metrics import accuracy_score\r\n",
        "from sklearn.linear_model import LogisticRegression\r\n",
        "from sklearn.model_selection import train_test_split\r\n",
        "from sklearn.metrics import confusion_matrix,  classification_report"
      ],
      "execution_count": 1,
      "outputs": []
    },
    {
      "cell_type": "markdown",
      "metadata": {
        "id": "zeewjjE6b1ed"
      },
      "source": [
        "#**Loading the dataset**"
      ]
    },
    {
      "cell_type": "code",
      "metadata": {
        "colab": {
          "resources": {
            "http://localhost:8080/nbextensions/google.colab/files.js": {
              "data": "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",
              "ok": true,
              "headers": [
                [
                  "content-type",
                  "application/javascript"
                ]
              ],
              "status": 200,
              "status_text": ""
            }
          },
          "base_uri": "https://localhost:8080/",
          "height": 73
        },
        "id": "BRK5D9cNlCoV",
        "outputId": "54366bbe-535a-4f1c-dd17-81125826250a"
      },
      "source": [
        "# Read Input file from Desktop using File Library of Google collab.\r\n",
        "Inp_data = files.upload()"
      ],
      "execution_count": 2,
      "outputs": [
        {
          "output_type": "display_data",
          "data": {
            "text/html": [
              "\n",
              "     <input type=\"file\" id=\"files-30cc4294-00c5-4c18-803c-33c78a8e591a\" name=\"files[]\" multiple disabled\n",
              "        style=\"border:none\" />\n",
              "     <output id=\"result-30cc4294-00c5-4c18-803c-33c78a8e591a\">\n",
              "      Upload widget is only available when the cell has been executed in the\n",
              "      current browser session. Please rerun this cell to enable.\n",
              "      </output>\n",
              "      <script src=\"/nbextensions/google.colab/files.js\"></script> "
            ],
            "text/plain": [
              "<IPython.core.display.HTML object>"
            ]
          },
          "metadata": {
            "tags": []
          }
        },
        {
          "output_type": "stream",
          "text": [
            "Saving leukemia_remission.csv to leukemia_remission.csv\n"
          ],
          "name": "stdout"
        }
      ]
    },
    {
      "cell_type": "markdown",
      "metadata": {
        "id": "ghOnQKtncHnx"
      },
      "source": [
        "Read csv data uding panda's library"
      ]
    },
    {
      "cell_type": "code",
      "metadata": {
        "id": "K6mKYUVilFCq"
      },
      "source": [
        "# Get into Data frames from file\r\n",
        "Data = pd.read_csv('leukemia_remission.csv')"
      ],
      "execution_count": 2,
      "outputs": []
    },
    {
      "cell_type": "markdown",
      "metadata": {
        "id": "RL5hK3kbcPz9"
      },
      "source": [
        "Check header of data"
      ]
    },
    {
      "cell_type": "code",
      "metadata": {
        "colab": {
          "base_uri": "https://localhost:8080/",
          "height": 195
        },
        "id": "sqet5hx6lKnW",
        "outputId": "b048f10c-f82c-4cc3-cc8f-e2a91948194c"
      },
      "source": [
        "#Display Header of Data\r\n",
        "Data.head()"
      ],
      "execution_count": 3,
      "outputs": [
        {
          "output_type": "execute_result",
          "data": {
            "text/html": [
              "<div>\n",
              "<style scoped>\n",
              "    .dataframe tbody tr th:only-of-type {\n",
              "        vertical-align: middle;\n",
              "    }\n",
              "\n",
              "    .dataframe tbody tr th {\n",
              "        vertical-align: top;\n",
              "    }\n",
              "\n",
              "    .dataframe thead th {\n",
              "        text-align: right;\n",
              "    }\n",
              "</style>\n",
              "<table border=\"1\" class=\"dataframe\">\n",
              "  <thead>\n",
              "    <tr style=\"text-align: right;\">\n",
              "      <th></th>\n",
              "      <th>REMISS</th>\n",
              "      <th>CELL</th>\n",
              "      <th>SMEAR</th>\n",
              "      <th>INFIL</th>\n",
              "      <th>LI</th>\n",
              "      <th>BLAST</th>\n",
              "      <th>TEMP</th>\n",
              "    </tr>\n",
              "  </thead>\n",
              "  <tbody>\n",
              "    <tr>\n",
              "      <th>0</th>\n",
              "      <td>1</td>\n",
              "      <td>0.8</td>\n",
              "      <td>0.83</td>\n",
              "      <td>0.66</td>\n",
              "      <td>1.9</td>\n",
              "      <td>1.10</td>\n",
              "      <td>1.00</td>\n",
              "    </tr>\n",
              "    <tr>\n",
              "      <th>1</th>\n",
              "      <td>1</td>\n",
              "      <td>0.9</td>\n",
              "      <td>0.36</td>\n",
              "      <td>0.32</td>\n",
              "      <td>1.4</td>\n",
              "      <td>0.74</td>\n",
              "      <td>0.99</td>\n",
              "    </tr>\n",
              "    <tr>\n",
              "      <th>2</th>\n",
              "      <td>0</td>\n",
              "      <td>0.8</td>\n",
              "      <td>0.88</td>\n",
              "      <td>0.70</td>\n",
              "      <td>0.8</td>\n",
              "      <td>0.18</td>\n",
              "      <td>0.98</td>\n",
              "    </tr>\n",
              "    <tr>\n",
              "      <th>3</th>\n",
              "      <td>0</td>\n",
              "      <td>1.0</td>\n",
              "      <td>0.87</td>\n",
              "      <td>0.87</td>\n",
              "      <td>0.7</td>\n",
              "      <td>1.05</td>\n",
              "      <td>0.99</td>\n",
              "    </tr>\n",
              "    <tr>\n",
              "      <th>4</th>\n",
              "      <td>1</td>\n",
              "      <td>0.9</td>\n",
              "      <td>0.75</td>\n",
              "      <td>0.68</td>\n",
              "      <td>1.3</td>\n",
              "      <td>0.52</td>\n",
              "      <td>0.98</td>\n",
              "    </tr>\n",
              "  </tbody>\n",
              "</table>\n",
              "</div>"
            ],
            "text/plain": [
              "   REMISS  CELL  SMEAR  INFIL   LI  BLAST  TEMP\n",
              "0       1   0.8   0.83   0.66  1.9   1.10  1.00\n",
              "1       1   0.9   0.36   0.32  1.4   0.74  0.99\n",
              "2       0   0.8   0.88   0.70  0.8   0.18  0.98\n",
              "3       0   1.0   0.87   0.87  0.7   1.05  0.99\n",
              "4       1   0.9   0.75   0.68  1.3   0.52  0.98"
            ]
          },
          "metadata": {
            "tags": []
          },
          "execution_count": 3
        }
      ]
    },
    {
      "cell_type": "code",
      "metadata": {
        "colab": {
          "base_uri": "https://localhost:8080/",
          "height": 284
        },
        "id": "sTkURq7S6db0",
        "outputId": "d7dc0345-3a90-44ce-86af-5e64a0b9aef6"
      },
      "source": [
        "# Check the size of Data\r\n",
        "Data.describe()"
      ],
      "execution_count": 4,
      "outputs": [
        {
          "output_type": "execute_result",
          "data": {
            "text/html": [
              "<div>\n",
              "<style scoped>\n",
              "    .dataframe tbody tr th:only-of-type {\n",
              "        vertical-align: middle;\n",
              "    }\n",
              "\n",
              "    .dataframe tbody tr th {\n",
              "        vertical-align: top;\n",
              "    }\n",
              "\n",
              "    .dataframe thead th {\n",
              "        text-align: right;\n",
              "    }\n",
              "</style>\n",
              "<table border=\"1\" class=\"dataframe\">\n",
              "  <thead>\n",
              "    <tr style=\"text-align: right;\">\n",
              "      <th></th>\n",
              "      <th>REMISS</th>\n",
              "      <th>CELL</th>\n",
              "      <th>SMEAR</th>\n",
              "      <th>INFIL</th>\n",
              "      <th>LI</th>\n",
              "      <th>BLAST</th>\n",
              "      <th>TEMP</th>\n",
              "    </tr>\n",
              "  </thead>\n",
              "  <tbody>\n",
              "    <tr>\n",
              "      <th>count</th>\n",
              "      <td>27.000000</td>\n",
              "      <td>27.000000</td>\n",
              "      <td>27.000000</td>\n",
              "      <td>27.000000</td>\n",
              "      <td>27.000000</td>\n",
              "      <td>27.000000</td>\n",
              "      <td>27.000000</td>\n",
              "    </tr>\n",
              "    <tr>\n",
              "      <th>mean</th>\n",
              "      <td>0.333333</td>\n",
              "      <td>0.881481</td>\n",
              "      <td>0.635185</td>\n",
              "      <td>0.570741</td>\n",
              "      <td>1.003704</td>\n",
              "      <td>0.688519</td>\n",
              "      <td>0.997407</td>\n",
              "    </tr>\n",
              "    <tr>\n",
              "      <th>std</th>\n",
              "      <td>0.480384</td>\n",
              "      <td>0.186645</td>\n",
              "      <td>0.214052</td>\n",
              "      <td>0.237567</td>\n",
              "      <td>0.467795</td>\n",
              "      <td>0.534960</td>\n",
              "      <td>0.014830</td>\n",
              "    </tr>\n",
              "    <tr>\n",
              "      <th>min</th>\n",
              "      <td>0.000000</td>\n",
              "      <td>0.200000</td>\n",
              "      <td>0.320000</td>\n",
              "      <td>0.080000</td>\n",
              "      <td>0.400000</td>\n",
              "      <td>0.000000</td>\n",
              "      <td>0.980000</td>\n",
              "    </tr>\n",
              "    <tr>\n",
              "      <th>25%</th>\n",
              "      <td>0.000000</td>\n",
              "      <td>0.825000</td>\n",
              "      <td>0.430000</td>\n",
              "      <td>0.335000</td>\n",
              "      <td>0.650000</td>\n",
              "      <td>0.230000</td>\n",
              "      <td>0.990000</td>\n",
              "    </tr>\n",
              "    <tr>\n",
              "      <th>50%</th>\n",
              "      <td>0.000000</td>\n",
              "      <td>0.950000</td>\n",
              "      <td>0.650000</td>\n",
              "      <td>0.630000</td>\n",
              "      <td>0.900000</td>\n",
              "      <td>0.520000</td>\n",
              "      <td>0.990000</td>\n",
              "    </tr>\n",
              "    <tr>\n",
              "      <th>75%</th>\n",
              "      <td>1.000000</td>\n",
              "      <td>1.000000</td>\n",
              "      <td>0.835000</td>\n",
              "      <td>0.740000</td>\n",
              "      <td>1.250000</td>\n",
              "      <td>1.060000</td>\n",
              "      <td>1.005000</td>\n",
              "    </tr>\n",
              "    <tr>\n",
              "      <th>max</th>\n",
              "      <td>1.000000</td>\n",
              "      <td>1.000000</td>\n",
              "      <td>0.970000</td>\n",
              "      <td>0.920000</td>\n",
              "      <td>1.900000</td>\n",
              "      <td>2.060000</td>\n",
              "      <td>1.040000</td>\n",
              "    </tr>\n",
              "  </tbody>\n",
              "</table>\n",
              "</div>"
            ],
            "text/plain": [
              "          REMISS       CELL      SMEAR  ...         LI      BLAST       TEMP\n",
              "count  27.000000  27.000000  27.000000  ...  27.000000  27.000000  27.000000\n",
              "mean    0.333333   0.881481   0.635185  ...   1.003704   0.688519   0.997407\n",
              "std     0.480384   0.186645   0.214052  ...   0.467795   0.534960   0.014830\n",
              "min     0.000000   0.200000   0.320000  ...   0.400000   0.000000   0.980000\n",
              "25%     0.000000   0.825000   0.430000  ...   0.650000   0.230000   0.990000\n",
              "50%     0.000000   0.950000   0.650000  ...   0.900000   0.520000   0.990000\n",
              "75%     1.000000   1.000000   0.835000  ...   1.250000   1.060000   1.005000\n",
              "max     1.000000   1.000000   0.970000  ...   1.900000   2.060000   1.040000\n",
              "\n",
              "[8 rows x 7 columns]"
            ]
          },
          "metadata": {
            "tags": []
          },
          "execution_count": 4
        }
      ]
    },
    {
      "cell_type": "markdown",
      "metadata": {
        "id": "lSmUWx7mcrQl"
      },
      "source": [
        "Check data has any missing values"
      ]
    },
    {
      "cell_type": "code",
      "metadata": {
        "colab": {
          "base_uri": "https://localhost:8080/"
        },
        "id": "fZLoHELv68pp",
        "outputId": "335a66bf-bf8b-4743-eaac-c2d35df011f7"
      },
      "source": [
        "# Check if our data has any null values \r\n",
        "Data.isnull().any()"
      ],
      "execution_count": 5,
      "outputs": [
        {
          "output_type": "execute_result",
          "data": {
            "text/plain": [
              "REMISS    False\n",
              "CELL      False\n",
              "SMEAR     False\n",
              "INFIL     False\n",
              "LI        False\n",
              "BLAST     False\n",
              "TEMP      False\n",
              "dtype: bool"
            ]
          },
          "metadata": {
            "tags": []
          },
          "execution_count": 5
        }
      ]
    },
    {
      "cell_type": "markdown",
      "metadata": {
        "id": "UrYNlqUdcvaO"
      },
      "source": [
        "There is no missing values in provided data set"
      ]
    },
    {
      "cell_type": "markdown",
      "metadata": {
        "id": "8EmI8iIKc2dI"
      },
      "source": [
        "We have checked data type of dataset"
      ]
    },
    {
      "cell_type": "code",
      "metadata": {
        "colab": {
          "base_uri": "https://localhost:8080/"
        },
        "id": "QCVKIF_A68mG",
        "outputId": "45d8e52d-73b2-4238-c8c4-d7948e47fa07"
      },
      "source": [
        "# Cecking out the data types for each of our variables. We want to get a sense of whether or not data is numerical (int64, float64) or not (object). \r\n",
        "Data.dtypes"
      ],
      "execution_count": 6,
      "outputs": [
        {
          "output_type": "execute_result",
          "data": {
            "text/plain": [
              "REMISS      int64\n",
              "CELL      float64\n",
              "SMEAR     float64\n",
              "INFIL     float64\n",
              "LI        float64\n",
              "BLAST     float64\n",
              "TEMP      float64\n",
              "dtype: object"
            ]
          },
          "metadata": {
            "tags": []
          },
          "execution_count": 6
        }
      ]
    },
    {
      "cell_type": "markdown",
      "metadata": {
        "id": "ZIfkvIU_c79I"
      },
      "source": [
        "We have checked the data size( Rows and columns)"
      ]
    },
    {
      "cell_type": "code",
      "metadata": {
        "colab": {
          "base_uri": "https://localhost:8080/"
        },
        "id": "1OZ7FhCLcma6",
        "outputId": "a49a1c78-3264-42aa-9187-0dfb1d6f6960"
      },
      "source": [
        "print (\"Number of observations :: \", len(Data.index))\r\n",
        "print (\"Number of columns :: \", len(Data.columns))"
      ],
      "execution_count": 7,
      "outputs": [
        {
          "output_type": "stream",
          "text": [
            "Number of observations ::  27\n",
            "Number of columns ::  7\n"
          ],
          "name": "stdout"
        }
      ]
    },
    {
      "cell_type": "markdown",
      "metadata": {
        "id": "MUpLjtcb-dcd"
      },
      "source": [
        "**Box Plot**"
      ]
    },
    {
      "cell_type": "markdown",
      "metadata": {
        "id": "aaCdcWSped1e"
      },
      "source": [
        "General box plot is created to understand data"
      ]
    },
    {
      "cell_type": "code",
      "metadata": {
        "colab": {
          "base_uri": "https://localhost:8080/",
          "height": 265
        },
        "id": "u3hHw1PBd6kc",
        "outputId": "b097d421-731a-4d94-f8c1-cedf4819c9f1"
      },
      "source": [
        "pd.set_option('max_columns', 10)\r\n",
        "Data.boxplot()\r\n",
        "plt.show()\r\n"
      ],
      "execution_count": 8,
      "outputs": [
        {
          "output_type": "display_data",
          "data": {
            "image/png": "[encoded data removed]",
            "text/plain": [
              "<Figure size 432x288 with 1 Axes>"
            ]
          },
          "metadata": {
            "tags": [],
            "needs_background": "light"
          }
        }
      ]
    },
    {
      "cell_type": "markdown",
      "metadata": {
        "id": "iBfZ1Cwzek0n"
      },
      "source": [
        "We have created box plot of each indepent feature with respect to dependent feature with each output type"
      ]
    },
    {
      "cell_type": "code",
      "metadata": {
        "colab": {
          "base_uri": "https://localhost:8080/",
          "height": 296
        },
        "id": "4QUS2OOy888V",
        "outputId": "6ce18e86-b2c8-4a62-d08f-cb6ed4ed5ca1"
      },
      "source": [
        "sns.boxplot(y='CELL', x='REMISS', data=Data)\r\n"
      ],
      "execution_count": 9,
      "outputs": [
        {
          "output_type": "execute_result",
          "data": {
            "text/plain": [
              "<matplotlib.axes._subplots.AxesSubplot at 0x7fec832a4590>"
            ]
          },
          "metadata": {
            "tags": []
          },
          "execution_count": 9
        },
        {
          "output_type": "display_data",
          "data": {
            "image/png": "[encoded data removed]",
            "text/plain": [
              "<Figure size 432x288 with 1 Axes>"
            ]
          },
          "metadata": {
            "tags": [],
            "needs_background": "light"
          }
        }
      ]
    },
    {
      "cell_type": "code",
      "metadata": {
        "colab": {
          "base_uri": "https://localhost:8080/",
          "height": 300
        },
        "id": "dzz32CqZ-MRZ",
        "outputId": "62e470e2-2484-491a-d869-c05da4eb4f9b"
      },
      "source": [
        "sns.boxplot(y='SMEAR', x='REMISS', data=Data)"
      ],
      "execution_count": 10,
      "outputs": [
        {
          "output_type": "execute_result",
          "data": {
            "text/plain": [
              "<matplotlib.axes._subplots.AxesSubplot at 0x7fec82ca43d0>"
            ]
          },
          "metadata": {
            "tags": []
          },
          "execution_count": 10
        },
        {
          "output_type": "display_data",
          "data": {
            "image/png": "[encoded data removed]",
            "text/plain": [
              "<Figure size 432x288 with 1 Axes>"
            ]
          },
          "metadata": {
            "tags": [],
            "needs_background": "light"
          }
        }
      ]
    },
    {
      "cell_type": "code",
      "metadata": {
        "colab": {
          "base_uri": "https://localhost:8080/",
          "height": 296
        },
        "id": "TgIUU6mT-MN2",
        "outputId": "8dc110f3-d626-4df8-b4b7-6c02179fc6bf"
      },
      "source": [
        "sns.boxplot(y='INFIL', x='REMISS', data=Data)"
      ],
      "execution_count": 11,
      "outputs": [
        {
          "output_type": "execute_result",
          "data": {
            "text/plain": [
              "<matplotlib.axes._subplots.AxesSubplot at 0x7fec82c293d0>"
            ]
          },
          "metadata": {
            "tags": []
          },
          "execution_count": 11
        },
        {
          "output_type": "display_data",
          "data": {
            "image/png": "[encoded data removed]",
            "text/plain": [
              "<Figure size 432x288 with 1 Axes>"
            ]
          },
          "metadata": {
            "tags": [],
            "needs_background": "light"
          }
        }
      ]
    },
    {
      "cell_type": "code",
      "metadata": {
        "colab": {
          "base_uri": "https://localhost:8080/",
          "height": 296
        },
        "id": "92XchRxf-Q2J",
        "outputId": "812d6ad2-e03b-4ee2-9777-b7f69cc95e49"
      },
      "source": [
        "sns.boxplot(y='LI',x='REMISS', data=Data)"
      ],
      "execution_count": 12,
      "outputs": [
        {
          "output_type": "execute_result",
          "data": {
            "text/plain": [
              "<matplotlib.axes._subplots.AxesSubplot at 0x7fec82ba0ad0>"
            ]
          },
          "metadata": {
            "tags": []
          },
          "execution_count": 12
        },
        {
          "output_type": "display_data",
          "data": {
            "image/png": "[encoded data removed]",
            "text/plain": [
              "<Figure size 432x288 with 1 Axes>"
            ]
          },
          "metadata": {
            "tags": [],
            "needs_background": "light"
          }
        }
      ]
    },
    {
      "cell_type": "code",
      "metadata": {
        "colab": {
          "base_uri": "https://localhost:8080/",
          "height": 296
        },
        "id": "S526dY6g-Qy5",
        "outputId": "80342453-8882-45fc-ac46-6656d86791c8"
      },
      "source": [
        "sns.boxplot(y='BLAST',x='REMISS', data=Data)"
      ],
      "execution_count": 13,
      "outputs": [
        {
          "output_type": "execute_result",
          "data": {
            "text/plain": [
              "<matplotlib.axes._subplots.AxesSubplot at 0x7fec82b2d490>"
            ]
          },
          "metadata": {
            "tags": []
          },
          "execution_count": 13
        },
        {
          "output_type": "display_data",
          "data": {
            "image/png": "[encoded data removed]",
            "text/plain": [
              "<Figure size 432x288 with 1 Axes>"
            ]
          },
          "metadata": {
            "tags": [],
            "needs_background": "light"
          }
        }
      ]
    },
    {
      "cell_type": "code",
      "metadata": {
        "colab": {
          "base_uri": "https://localhost:8080/",
          "height": 296
        },
        "id": "EGJhay7L-Qwf",
        "outputId": "1652dc9a-86ef-42e1-9941-98dafa44758e"
      },
      "source": [
        "\r\n",
        "sns.boxplot(y='TEMP',x='REMISS', data=Data)"
      ],
      "execution_count": 14,
      "outputs": [
        {
          "output_type": "execute_result",
          "data": {
            "text/plain": [
              "<matplotlib.axes._subplots.AxesSubplot at 0x7fec82c30a50>"
            ]
          },
          "metadata": {
            "tags": []
          },
          "execution_count": 14
        },
        {
          "output_type": "display_data",
          "data": {
            "image/png": "[encoded data removed]",
            "text/plain": [
              "<Figure size 432x288 with 1 Axes>"
            ]
          },
          "metadata": {
            "tags": [],
            "needs_background": "light"
          }
        }
      ]
    },
    {
      "cell_type": "markdown",
      "metadata": {
        "id": "DEmdoQDrfHdM"
      },
      "source": [
        "We have calcualted correlation matrix for checking correlation of input variables with output variable"
      ]
    },
    {
      "cell_type": "code",
      "metadata": {
        "colab": {
          "base_uri": "https://localhost:8080/",
          "height": 195
        },
        "id": "1RlhRmk7-QuS",
        "outputId": "6ab50a8c-859d-4fc3-d3db-6b2d94fb7a0f"
      },
      "source": [
        "df_correlation = Data\r\n",
        "for (columnName, columnData) in df_correlation.iteritems():\r\n",
        "# for columns in column_cat:\r\n",
        "    b, c = np.unique(df_correlation[columnName],return_inverse=True)\r\n",
        "    df_correlation[columnName] = c\r\n",
        "\r\n",
        "df_correlation.head()"
      ],
      "execution_count": 15,
      "outputs": [
        {
          "output_type": "execute_result",
          "data": {
            "text/html": [
              "<div>\n",
              "<style scoped>\n",
              "    .dataframe tbody tr th:only-of-type {\n",
              "        vertical-align: middle;\n",
              "    }\n",
              "\n",
              "    .dataframe tbody tr th {\n",
              "        vertical-align: top;\n",
              "    }\n",
              "\n",
              "    .dataframe thead th {\n",
              "        text-align: right;\n",
              "    }\n",
              "</style>\n",
              "<table border=\"1\" class=\"dataframe\">\n",
              "  <thead>\n",
              "    <tr style=\"text-align: right;\">\n",
              "      <th></th>\n",
              "      <th>REMISS</th>\n",
              "      <th>CELL</th>\n",
              "      <th>SMEAR</th>\n",
              "      <th>INFIL</th>\n",
              "      <th>LI</th>\n",
              "      <th>BLAST</th>\n",
              "      <th>TEMP</th>\n",
              "    </tr>\n",
              "  </thead>\n",
              "  <tbody>\n",
              "    <tr>\n",
              "      <th>0</th>\n",
              "      <td>1</td>\n",
              "      <td>4</td>\n",
              "      <td>16</td>\n",
              "      <td>14</td>\n",
              "      <td>13</td>\n",
              "      <td>16</td>\n",
              "      <td>2</td>\n",
              "    </tr>\n",
              "    <tr>\n",
              "      <th>1</th>\n",
              "      <td>1</td>\n",
              "      <td>6</td>\n",
              "      <td>2</td>\n",
              "      <td>4</td>\n",
              "      <td>10</td>\n",
              "      <td>10</td>\n",
              "      <td>1</td>\n",
              "    </tr>\n",
              "    <tr>\n",
              "      <th>2</th>\n",
              "      <td>0</td>\n",
              "      <td>4</td>\n",
              "      <td>19</td>\n",
              "      <td>17</td>\n",
              "      <td>4</td>\n",
              "      <td>3</td>\n",
              "      <td>0</td>\n",
              "    </tr>\n",
              "    <tr>\n",
              "      <th>3</th>\n",
              "      <td>0</td>\n",
              "      <td>8</td>\n",
              "      <td>18</td>\n",
              "      <td>22</td>\n",
              "      <td>3</td>\n",
              "      <td>14</td>\n",
              "      <td>1</td>\n",
              "    </tr>\n",
              "    <tr>\n",
              "      <th>4</th>\n",
              "      <td>1</td>\n",
              "      <td>6</td>\n",
              "      <td>14</td>\n",
              "      <td>15</td>\n",
              "      <td>9</td>\n",
              "      <td>8</td>\n",
              "      <td>0</td>\n",
              "    </tr>\n",
              "  </tbody>\n",
              "</table>\n",
              "</div>"
            ],
            "text/plain": [
              "   REMISS  CELL  SMEAR  INFIL  LI  BLAST  TEMP\n",
              "0       1     4     16     14  13     16     2\n",
              "1       1     6      2      4  10     10     1\n",
              "2       0     4     19     17   4      3     0\n",
              "3       0     8     18     22   3     14     1\n",
              "4       1     6     14     15   9      8     0"
            ]
          },
          "metadata": {
            "tags": []
          },
          "execution_count": 15
        }
      ]
    },
    {
      "cell_type": "code",
      "metadata": {
        "id": "Sifb4KA9ATgS"
      },
      "source": [
        "from scipy.stats import pointbiserialr, spearmanr"
      ],
      "execution_count": 16,
      "outputs": []
    },
    {
      "cell_type": "code",
      "metadata": {
        "colab": {
          "base_uri": "https://localhost:8080/",
          "height": 254
        },
        "id": "rQuzGRQK-MLt",
        "outputId": "ee3bdf60-fa62-4b9b-8e5f-47f8b41d10a1"
      },
      "source": [
        "columns_names = df_correlation.columns\r\n",
        "parameter = []\r\n",
        "correlation = []\r\n",
        "absolute_corr = []\r\n",
        "for columns in columns_names:\r\n",
        "    if columns != \"REMISS\":\r\n",
        "        if len(df_correlation[columns].unique()) <= 2:\r\n",
        "            corr = spearmanr(df_correlation['REMISS'],df_correlation[columns])[0]\r\n",
        "        else:\r\n",
        "            corr = pointbiserialr(df_correlation['REMISS'],df_correlation[columns])[0] # For dichotomous data we use the pointbiserialr\r\n",
        "        parameter.append(columns)\r\n",
        "        correlation.append(corr)\r\n",
        "        absolute_corr.append(abs(corr))\r\n",
        "parameter_df = pd.DataFrame({'correlation': correlation,'parameter':parameter, 'absolute_correlation':absolute_corr})\r\n",
        "parameter_df = parameter_df.sort_values(by=['absolute_correlation'],ascending = False)\r\n",
        "parameter_df = parameter_df.set_index('parameter')\r\n",
        "parameter_df"
      ],
      "execution_count": 17,
      "outputs": [
        {
          "output_type": "execute_result",
          "data": {
            "text/html": [
              "<div>\n",
              "<style scoped>\n",
              "    .dataframe tbody tr th:only-of-type {\n",
              "        vertical-align: middle;\n",
              "    }\n",
              "\n",
              "    .dataframe tbody tr th {\n",
              "        vertical-align: top;\n",
              "    }\n",
              "\n",
              "    .dataframe thead th {\n",
              "        text-align: right;\n",
              "    }\n",
              "</style>\n",
              "<table border=\"1\" class=\"dataframe\">\n",
              "  <thead>\n",
              "    <tr style=\"text-align: right;\">\n",
              "      <th></th>\n",
              "      <th>correlation</th>\n",
              "      <th>absolute_correlation</th>\n",
              "    </tr>\n",
              "    <tr>\n",
              "      <th>parameter</th>\n",
              "      <th></th>\n",
              "      <th></th>\n",
              "    </tr>\n",
              "  </thead>\n",
              "  <tbody>\n",
              "    <tr>\n",
              "      <th>LI</th>\n",
              "      <td>0.566294</td>\n",
              "      <td>0.566294</td>\n",
              "    </tr>\n",
              "    <tr>\n",
              "      <th>BLAST</th>\n",
              "      <td>0.385401</td>\n",
              "      <td>0.385401</td>\n",
              "    </tr>\n",
              "    <tr>\n",
              "      <th>CELL</th>\n",
              "      <td>0.266076</td>\n",
              "      <td>0.266076</td>\n",
              "    </tr>\n",
              "    <tr>\n",
              "      <th>INFIL</th>\n",
              "      <td>0.197934</td>\n",
              "      <td>0.197934</td>\n",
              "    </tr>\n",
              "    <tr>\n",
              "      <th>SMEAR</th>\n",
              "      <td>0.156279</td>\n",
              "      <td>0.156279</td>\n",
              "    </tr>\n",
              "    <tr>\n",
              "      <th>TEMP</th>\n",
              "      <td>-0.135217</td>\n",
              "      <td>0.135217</td>\n",
              "    </tr>\n",
              "  </tbody>\n",
              "</table>\n",
              "</div>"
            ],
            "text/plain": [
              "           correlation  absolute_correlation\n",
              "parameter                                   \n",
              "LI            0.566294              0.566294\n",
              "BLAST         0.385401              0.385401\n",
              "CELL          0.266076              0.266076\n",
              "INFIL         0.197934              0.197934\n",
              "SMEAR         0.156279              0.156279\n",
              "TEMP         -0.135217              0.135217"
            ]
          },
          "metadata": {
            "tags": []
          },
          "execution_count": 17
        }
      ]
    },
    {
      "cell_type": "markdown",
      "metadata": {
        "id": "fv1MNKAwfVfx"
      },
      "source": [
        "Based on correlation calculated we have created Heat map for the features"
      ]
    },
    {
      "cell_type": "code",
      "metadata": {
        "id": "3Yjf2rqdtPUx"
      },
      "source": [
        "Coor_mat = Data.corr()"
      ],
      "execution_count": 18,
      "outputs": []
    },
    {
      "cell_type": "code",
      "metadata": {
        "colab": {
          "base_uri": "https://localhost:8080/",
          "height": 286
        },
        "id": "tujALP5otioP",
        "outputId": "9e7cecf6-8cac-4fcf-c5f2-5ab0698f9c01"
      },
      "source": [
        "sns.heatmap(Coor_mat)"
      ],
      "execution_count": 19,
      "outputs": [
        {
          "output_type": "execute_result",
          "data": {
            "text/plain": [
              "<matplotlib.axes._subplots.AxesSubplot at 0x7fec83253710>"
            ]
          },
          "metadata": {
            "tags": []
          },
          "execution_count": 19
        },
        {
          "output_type": "display_data",
          "data": {
            "image/png": "[encoded data removed]",
            "text/plain": [
              "<Figure size 432x288 with 2 Axes>"
            ]
          },
          "metadata": {
            "tags": [],
            "needs_background": "light"
          }
        }
      ]
    },
    {
      "cell_type": "markdown",
      "metadata": {
        "id": "wSMWcOkvhu4e"
      },
      "source": [
        "# Principal component analysis"
      ]
    },
    {
      "cell_type": "code",
      "metadata": {
        "id": "nggvgqWVBDGp"
      },
      "source": [
        "from sklearn.preprocessing import StandardScaler, MinMaxScaler\r\n",
        "from sklearn.decomposition import PCA"
      ],
      "execution_count": 20,
      "outputs": []
    },
    {
      "cell_type": "code",
      "metadata": {
        "colab": {
          "base_uri": "https://localhost:8080/",
          "height": 846
        },
        "id": "ZtRRpooJ68jW",
        "outputId": "3184c828-e4aa-4e65-8b2e-8d893495f29e"
      },
      "source": [
        "#Executing the PCA algorithm to detect the top dimensions or features that will majorly affect the target variable\r\n",
        "\r\n",
        "x_Std=StandardScaler().fit_transform(Data)\r\n",
        "\r\n",
        "pca = PCA(n_components=6)\r\n",
        "principalComponents = pca.fit_transform(x_Std)\r\n",
        "\r\n",
        "principalDf = pd.DataFrame(data = principalComponents)\r\n",
        "principalDf"
      ],
      "execution_count": 21,
      "outputs": [
        {
          "output_type": "execute_result",
          "data": {
            "text/html": [
              "<div>\n",
              "<style scoped>\n",
              "    .dataframe tbody tr th:only-of-type {\n",
              "        vertical-align: middle;\n",
              "    }\n",
              "\n",
              "    .dataframe tbody tr th {\n",
              "        vertical-align: top;\n",
              "    }\n",
              "\n",
              "    .dataframe thead th {\n",
              "        text-align: right;\n",
              "    }\n",
              "</style>\n",
              "<table border=\"1\" class=\"dataframe\">\n",
              "  <thead>\n",
              "    <tr style=\"text-align: right;\">\n",
              "      <th></th>\n",
              "      <th>0</th>\n",
              "      <th>1</th>\n",
              "      <th>2</th>\n",
              "      <th>3</th>\n",
              "      <th>4</th>\n",
              "      <th>5</th>\n",
              "    </tr>\n",
              "  </thead>\n",
              "  <tbody>\n",
              "    <tr>\n",
              "      <th>0</th>\n",
              "      <td>1.710474</td>\n",
              "      <td>-1.458305</td>\n",
              "      <td>-0.214802</td>\n",
              "      <td>1.630213</td>\n",
              "      <td>-0.240491</td>\n",
              "      <td>0.002264</td>\n",
              "    </tr>\n",
              "    <tr>\n",
              "      <th>1</th>\n",
              "      <td>-0.330764</td>\n",
              "      <td>-2.296274</td>\n",
              "      <td>-0.870722</td>\n",
              "      <td>-0.217318</td>\n",
              "      <td>0.076515</td>\n",
              "      <td>-0.336370</td>\n",
              "    </tr>\n",
              "    <tr>\n",
              "      <th>2</th>\n",
              "      <td>-0.304386</td>\n",
              "      <td>0.457411</td>\n",
              "      <td>2.289725</td>\n",
              "      <td>0.315747</td>\n",
              "      <td>-0.150433</td>\n",
              "      <td>0.584484</td>\n",
              "    </tr>\n",
              "    <tr>\n",
              "      <th>3</th>\n",
              "      <td>1.343965</td>\n",
              "      <td>1.397335</td>\n",
              "      <td>1.066265</td>\n",
              "      <td>-0.632445</td>\n",
              "      <td>0.179910</td>\n",
              "      <td>-0.321452</td>\n",
              "    </tr>\n",
              "    <tr>\n",
              "      <th>4</th>\n",
              "      <td>0.939005</td>\n",
              "      <td>-1.576318</td>\n",
              "      <td>0.937345</td>\n",
              "      <td>-0.213903</td>\n",
              "      <td>-0.492126</td>\n",
              "      <td>0.347891</td>\n",
              "    </tr>\n",
              "    <tr>\n",
              "      <th>5</th>\n",
              "      <td>-0.294189</td>\n",
              "      <td>0.502497</td>\n",
              "      <td>1.072153</td>\n",
              "      <td>-1.365227</td>\n",
              "      <td>0.374147</td>\n",
              "      <td>-0.332784</td>\n",
              "    </tr>\n",
              "    <tr>\n",
              "      <th>6</th>\n",
              "      <td>2.687371</td>\n",
              "      <td>-0.051047</td>\n",
              "      <td>0.939077</td>\n",
              "      <td>-0.028114</td>\n",
              "      <td>-1.080856</td>\n",
              "      <td>-0.314990</td>\n",
              "    </tr>\n",
              "    <tr>\n",
              "      <th>7</th>\n",
              "      <td>2.347470</td>\n",
              "      <td>0.979204</td>\n",
              "      <td>-1.074426</td>\n",
              "      <td>1.475783</td>\n",
              "      <td>1.151769</td>\n",
              "      <td>0.480039</td>\n",
              "    </tr>\n",
              "    <tr>\n",
              "      <th>8</th>\n",
              "      <td>-0.990684</td>\n",
              "      <td>0.454557</td>\n",
              "      <td>-0.531632</td>\n",
              "      <td>-0.915090</td>\n",
              "      <td>0.459225</td>\n",
              "      <td>0.296689</td>\n",
              "    </tr>\n",
              "    <tr>\n",
              "      <th>9</th>\n",
              "      <td>-2.121386</td>\n",
              "      <td>1.457210</td>\n",
              "      <td>-2.158461</td>\n",
              "      <td>-0.299889</td>\n",
              "      <td>-0.519241</td>\n",
              "      <td>0.882537</td>\n",
              "    </tr>\n",
              "    <tr>\n",
              "      <th>10</th>\n",
              "      <td>-2.004332</td>\n",
              "      <td>-0.155518</td>\n",
              "      <td>0.167358</td>\n",
              "      <td>-0.370660</td>\n",
              "      <td>0.336248</td>\n",
              "      <td>-0.270957</td>\n",
              "    </tr>\n",
              "    <tr>\n",
              "      <th>11</th>\n",
              "      <td>-0.994944</td>\n",
              "      <td>-0.612304</td>\n",
              "      <td>1.758999</td>\n",
              "      <td>0.847514</td>\n",
              "      <td>0.523434</td>\n",
              "      <td>0.691749</td>\n",
              "    </tr>\n",
              "    <tr>\n",
              "      <th>12</th>\n",
              "      <td>-1.811030</td>\n",
              "      <td>1.064904</td>\n",
              "      <td>-0.441993</td>\n",
              "      <td>0.458358</td>\n",
              "      <td>-0.567543</td>\n",
              "      <td>-0.353643</td>\n",
              "    </tr>\n",
              "    <tr>\n",
              "      <th>13</th>\n",
              "      <td>-3.217968</td>\n",
              "      <td>-0.801728</td>\n",
              "      <td>0.663522</td>\n",
              "      <td>1.361973</td>\n",
              "      <td>0.034679</td>\n",
              "      <td>-0.302350</td>\n",
              "    </tr>\n",
              "    <tr>\n",
              "      <th>14</th>\n",
              "      <td>1.799061</td>\n",
              "      <td>0.997223</td>\n",
              "      <td>1.107697</td>\n",
              "      <td>-0.259134</td>\n",
              "      <td>0.615909</td>\n",
              "      <td>0.310187</td>\n",
              "    </tr>\n",
              "    <tr>\n",
              "      <th>15</th>\n",
              "      <td>3.256396</td>\n",
              "      <td>-0.216872</td>\n",
              "      <td>-1.666955</td>\n",
              "      <td>0.935488</td>\n",
              "      <td>-0.211718</td>\n",
              "      <td>0.253470</td>\n",
              "    </tr>\n",
              "    <tr>\n",
              "      <th>16</th>\n",
              "      <td>-2.942983</td>\n",
              "      <td>0.454357</td>\n",
              "      <td>-0.455604</td>\n",
              "      <td>0.997572</td>\n",
              "      <td>-0.586227</td>\n",
              "      <td>-0.012793</td>\n",
              "    </tr>\n",
              "    <tr>\n",
              "      <th>17</th>\n",
              "      <td>1.462409</td>\n",
              "      <td>1.086698</td>\n",
              "      <td>-0.081757</td>\n",
              "      <td>-0.151008</td>\n",
              "      <td>0.714878</td>\n",
              "      <td>-0.559021</td>\n",
              "    </tr>\n",
              "    <tr>\n",
              "      <th>18</th>\n",
              "      <td>-3.042312</td>\n",
              "      <td>-0.371483</td>\n",
              "      <td>0.779644</td>\n",
              "      <td>0.930901</td>\n",
              "      <td>-0.226637</td>\n",
              "      <td>-0.333807</td>\n",
              "    </tr>\n",
              "    <tr>\n",
              "      <th>19</th>\n",
              "      <td>1.163357</td>\n",
              "      <td>-1.111243</td>\n",
              "      <td>-0.354097</td>\n",
              "      <td>-0.741092</td>\n",
              "      <td>-0.372412</td>\n",
              "      <td>-0.625741</td>\n",
              "    </tr>\n",
              "    <tr>\n",
              "      <th>20</th>\n",
              "      <td>-1.994225</td>\n",
              "      <td>0.947730</td>\n",
              "      <td>-1.310318</td>\n",
              "      <td>-1.208636</td>\n",
              "      <td>-0.109066</td>\n",
              "      <td>0.061204</td>\n",
              "    </tr>\n",
              "    <tr>\n",
              "      <th>21</th>\n",
              "      <td>1.623207</td>\n",
              "      <td>2.493536</td>\n",
              "      <td>-0.334162</td>\n",
              "      <td>1.054961</td>\n",
              "      <td>-0.498465</td>\n",
              "      <td>-0.713363</td>\n",
              "    </tr>\n",
              "    <tr>\n",
              "      <th>22</th>\n",
              "      <td>0.361413</td>\n",
              "      <td>-0.878136</td>\n",
              "      <td>-0.903374</td>\n",
              "      <td>-0.784857</td>\n",
              "      <td>-0.761968</td>\n",
              "      <td>0.080277</td>\n",
              "    </tr>\n",
              "    <tr>\n",
              "      <th>23</th>\n",
              "      <td>-0.827248</td>\n",
              "      <td>-1.205002</td>\n",
              "      <td>-0.843810</td>\n",
              "      <td>-0.313023</td>\n",
              "      <td>1.926794</td>\n",
              "      <td>-0.338889</td>\n",
              "    </tr>\n",
              "    <tr>\n",
              "      <th>24</th>\n",
              "      <td>1.214142</td>\n",
              "      <td>-1.856262</td>\n",
              "      <td>-0.557007</td>\n",
              "      <td>-0.446314</td>\n",
              "      <td>0.258871</td>\n",
              "      <td>0.200406</td>\n",
              "    </tr>\n",
              "    <tr>\n",
              "      <th>25</th>\n",
              "      <td>0.770110</td>\n",
              "      <td>-0.677395</td>\n",
              "      <td>0.213994</td>\n",
              "      <td>-1.066893</td>\n",
              "      <td>-1.012884</td>\n",
              "      <td>0.349774</td>\n",
              "    </tr>\n",
              "    <tr>\n",
              "      <th>26</th>\n",
              "      <td>0.198070</td>\n",
              "      <td>0.975226</td>\n",
              "      <td>0.803341</td>\n",
              "      <td>-0.994907</td>\n",
              "      <td>0.177687</td>\n",
              "      <td>0.275191</td>\n",
              "    </tr>\n",
              "  </tbody>\n",
              "</table>\n",
              "</div>"
            ],
            "text/plain": [
              "           0         1         2         3         4         5\n",
              "0   1.710474 -1.458305 -0.214802  1.630213 -0.240491  0.002264\n",
              "1  -0.330764 -2.296274 -0.870722 -0.217318  0.076515 -0.336370\n",
              "2  -0.304386  0.457411  2.289725  0.315747 -0.150433  0.584484\n",
              "3   1.343965  1.397335  1.066265 -0.632445  0.179910 -0.321452\n",
              "4   0.939005 -1.576318  0.937345 -0.213903 -0.492126  0.347891\n",
              "5  -0.294189  0.502497  1.072153 -1.365227  0.374147 -0.332784\n",
              "6   2.687371 -0.051047  0.939077 -0.028114 -1.080856 -0.314990\n",
              "7   2.347470  0.979204 -1.074426  1.475783  1.151769  0.480039\n",
              "8  -0.990684  0.454557 -0.531632 -0.915090  0.459225  0.296689\n",
              "9  -2.121386  1.457210 -2.158461 -0.299889 -0.519241  0.882537\n",
              "10 -2.004332 -0.155518  0.167358 -0.370660  0.336248 -0.270957\n",
              "11 -0.994944 -0.612304  1.758999  0.847514  0.523434  0.691749\n",
              "12 -1.811030  1.064904 -0.441993  0.458358 -0.567543 -0.353643\n",
              "13 -3.217968 -0.801728  0.663522  1.361973  0.034679 -0.302350\n",
              "14  1.799061  0.997223  1.107697 -0.259134  0.615909  0.310187\n",
              "15  3.256396 -0.216872 -1.666955  0.935488 -0.211718  0.253470\n",
              "16 -2.942983  0.454357 -0.455604  0.997572 -0.586227 -0.012793\n",
              "17  1.462409  1.086698 -0.081757 -0.151008  0.714878 -0.559021\n",
              "18 -3.042312 -0.371483  0.779644  0.930901 -0.226637 -0.333807\n",
              "19  1.163357 -1.111243 -0.354097 -0.741092 -0.372412 -0.625741\n",
              "20 -1.994225  0.947730 -1.310318 -1.208636 -0.109066  0.061204\n",
              "21  1.623207  2.493536 -0.334162  1.054961 -0.498465 -0.713363\n",
              "22  0.361413 -0.878136 -0.903374 -0.784857 -0.761968  0.080277\n",
              "23 -0.827248 -1.205002 -0.843810 -0.313023  1.926794 -0.338889\n",
              "24  1.214142 -1.856262 -0.557007 -0.446314  0.258871  0.200406\n",
              "25  0.770110 -0.677395  0.213994 -1.066893 -1.012884  0.349774\n",
              "26  0.198070  0.975226  0.803341 -0.994907  0.177687  0.275191"
            ]
          },
          "metadata": {
            "tags": []
          },
          "execution_count": 21
        }
      ]
    },
    {
      "cell_type": "markdown",
      "metadata": {
        "id": "P0mjPgNth3AW"
      },
      "source": [
        "Visiualizing all data in different format such as histogram and scatter plot"
      ]
    },
    {
      "cell_type": "code",
      "metadata": {
        "id": "jmknJwCHl-4U",
        "colab": {
          "base_uri": "https://localhost:8080/",
          "height": 1000
        },
        "outputId": "bdd2f37e-bae2-48c1-ea02-349311856f20"
      },
      "source": [
        "sns.pairplot(Data)"
      ],
      "execution_count": 22,
      "outputs": [
        {
          "output_type": "execute_result",
          "data": {
            "text/plain": [
              "<seaborn.axisgrid.PairGrid at 0x7fec7a232910>"
            ]
          },
          "metadata": {
            "tags": []
          },
          "execution_count": 22
        },
        {
          "output_type": "display_data",
          "data": {
            "image/png": "[encoded data removed]",
            "text/plain": [
              "<Figure size 1260x1260 with 56 Axes>"
            ]
          },
          "metadata": {
            "tags": [],
            "needs_background": "light"
          }
        }
      ]
    },
    {
      "cell_type": "markdown",
      "metadata": {
        "id": "Fg21MlTviJvH"
      },
      "source": [
        "#Spliting data into train and test set using K- Fold algorithm"
      ]
    },
    {
      "cell_type": "code",
      "metadata": {
        "id": "7LtYkj-JDt0T"
      },
      "source": [
        "# Import scikit-learn libraries\r\n",
        "from sklearn.model_selection import KFold\r\n",
        "import numpy as np"
      ],
      "execution_count": 23,
      "outputs": []
    },
    {
      "cell_type": "code",
      "metadata": {
        "id": "-rXJh_h8lM89"
      },
      "source": [
        "# Split data in to X and Y \r\n",
        "# First column as Y\r\n",
        "y = Data.iloc[:, 0:1]"
      ],
      "execution_count": 24,
      "outputs": []
    },
    {
      "cell_type": "code",
      "metadata": {
        "id": "0-MSLJeSlccg"
      },
      "source": [
        "# All other column as X except column 1\r\n",
        "X = Data.iloc[:, 1:7]"
      ],
      "execution_count": 25,
      "outputs": []
    },
    {
      "cell_type": "markdown",
      "metadata": {
        "id": "N7v-6QLFiSJ5"
      },
      "source": [
        "We are doing 10 folf cross validation"
      ]
    },
    {
      "cell_type": "code",
      "metadata": {
        "id": "T7E5FGRbDtwn"
      },
      "source": [
        "# to demonstrate how the data are split, we will create 10 folds. \r\n",
        "# KFold function has to be applied on the data and it returns an location (index) of the train and test samples.\r\n",
        "kf = KFold(n_splits=10, shuffle=True)"
      ],
      "execution_count": 26,
      "outputs": []
    },
    {
      "cell_type": "code",
      "metadata": {
        "colab": {
          "base_uri": "https://localhost:8080/"
        },
        "id": "650xF78XjuXv",
        "outputId": "978119d9-9749-4868-f48b-865644a5dae8"
      },
      "source": [
        "## Splitting the data into 1o folds\r\n",
        "X_train, X_test, y_train, y_test = train_test_split(X, y, test_size=0.3, random_state=4)\r\n",
        "\r\n",
        "count = 1;\r\n",
        "\r\n",
        "## Looping through each fold \r\n",
        "\r\n",
        "for train_index, test_index in kf.split(X):\r\n",
        "    print(\"######################## \" + \"Iteration \" + str(count) + \" ########################\")\r\n",
        "    print(\"         \",\"TRAIN:\", train_index)\r\n",
        "    print(\"         \", \"TEST:\", test_index)\r\n",
        "    print()\r\n",
        "    X_train = X.iloc[train_index]\r\n",
        "    X_test  = X.iloc[test_index]\r\n",
        "    y_train, y_test = y.iloc[train_index], y.iloc[test_index]\r\n",
        "    count = count +1\r\n",
        "        \r\n",
        "    #### Logistical Regression\r\n",
        "    clf = LogisticRegression(random_state = 1)\r\n",
        "    clf.fit(X_train, y_train)\r\n",
        "    y_pred_log = clf.predict(X_test)\r\n",
        "    # Create classification report for predicted values of Y and Test data for Y\r\n",
        "    report = classification_report(y_test, y_pred_log) \r\n",
        "    print(\"Classification Report\", report, sep='\\n')\r\n",
        "    print (\"Accuracy : \", accuracy_score(y_test, y_pred_log))\r\n",
        "    print()\r\n",
        "  "
      ],
      "execution_count": 27,
      "outputs": [
        {
          "output_type": "stream",
          "text": [
            "######################## Iteration 1 ########################\n",
            "          TRAIN: [ 0  1  2  3  4  5  6  8  9 10 11 12 13 14 15 17 18 19 20 22 23 24 25 26]\n",
            "          TEST: [ 7 16 21]\n",
            "\n",
            "Classification Report\n",
            "              precision    recall  f1-score   support\n",
            "\n",
            "           0       1.00      0.67      0.80         3\n",
            "           1       0.00      0.00      0.00         0\n",
            "\n",
            "    accuracy                           0.67         3\n",
            "   macro avg       0.50      0.33      0.40         3\n",
            "weighted avg       1.00      0.67      0.80         3\n",
            "\n",
            "Accuracy :  0.6666666666666666\n",
            "\n",
            "######################## Iteration 2 ########################\n",
            "          TRAIN: [ 0  1  2  3  4  5  7  9 10 11 12 13 14 15 16 17 19 20 21 22 23 24 25 26]\n",
            "          TEST: [ 6  8 18]\n",
            "\n",
            "Classification Report\n",
            "              precision    recall  f1-score   support\n",
            "\n",
            "           0       0.67      1.00      0.80         2\n",
            "           1       0.00      0.00      0.00         1\n",
            "\n",
            "    accuracy                           0.67         3\n",
            "   macro avg       0.33      0.50      0.40         3\n",
            "weighted avg       0.44      0.67      0.53         3\n",
            "\n",
            "Accuracy :  0.6666666666666666\n",
            "\n",
            "######################## Iteration 3 ########################\n",
            "          TRAIN: [ 0  1  2  3  5  6  7  8 10 12 13 14 15 16 17 18 19 20 21 22 23 24 25 26]\n",
            "          TEST: [ 4  9 11]\n",
            "\n",
            "Classification Report\n",
            "              precision    recall  f1-score   support\n",
            "\n",
            "           0       1.00      0.50      0.67         2\n",
            "           1       0.50      1.00      0.67         1\n",
            "\n",
            "    accuracy                           0.67         3\n",
            "   macro avg       0.75      0.75      0.67         3\n",
            "weighted avg       0.83      0.67      0.67         3\n",
            "\n",
            "Accuracy :  0.6666666666666666\n",
            "\n",
            "######################## Iteration 4 ########################\n",
            "          TRAIN: [ 0  1  2  3  4  5  6  7  8  9 11 12 13 14 16 17 18 19 21 22 23 24 25 26]\n",
            "          TEST: [10 15 20]\n",
            "\n",
            "Classification Report\n",
            "              precision    recall  f1-score   support\n",
            "\n",
            "           0       1.00      1.00      1.00         2\n",
            "           1       1.00      1.00      1.00         1\n",
            "\n",
            "    accuracy                           1.00         3\n",
            "   macro avg       1.00      1.00      1.00         3\n",
            "weighted avg       1.00      1.00      1.00         3\n",
            "\n",
            "Accuracy :  1.0\n",
            "\n",
            "######################## Iteration 5 ########################\n",
            "          TRAIN: [ 0  1  2  3  4  6  7  8  9 10 11 12 13 15 16 17 18 19 20 21 22 24 25 26]\n",
            "          TEST: [ 5 14 23]\n",
            "\n",
            "Classification Report\n",
            "              precision    recall  f1-score   support\n",
            "\n",
            "           0       1.00      0.33      0.50         3\n",
            "           1       0.00      0.00      0.00         0\n",
            "\n",
            "    accuracy                           0.33         3\n",
            "   macro avg       0.50      0.17      0.25         3\n",
            "weighted avg       1.00      0.33      0.50         3\n",
            "\n",
            "Accuracy :  0.3333333333333333\n",
            "\n",
            "######################## Iteration 6 ########################\n",
            "          TRAIN: [ 2  3  4  5  6  7  8  9 10 11 13 14 15 16 17 18 19 20 21 22 23 24 25 26]\n",
            "          TEST: [ 0  1 12]\n",
            "\n",
            "Classification Report\n",
            "              precision    recall  f1-score   support\n",
            "\n",
            "           0       0.33      1.00      0.50         1\n",
            "           1       0.00      0.00      0.00         2\n",
            "\n",
            "    accuracy                           0.33         3\n",
            "   macro avg       0.17      0.50      0.25         3\n",
            "weighted avg       0.11      0.33      0.17         3\n",
            "\n",
            "Accuracy :  0.3333333333333333\n",
            "\n",
            "######################## Iteration 7 ########################\n",
            "          TRAIN: [ 0  1  2  3  4  5  6  7  8  9 10 11 12 14 15 16 17 18 20 21 23 24 25 26]\n",
            "          TEST: [13 19 22]\n",
            "\n",
            "Classification Report\n",
            "              precision    recall  f1-score   support\n",
            "\n",
            "           0       0.33      1.00      0.50         1\n",
            "           1       0.00      0.00      0.00         2\n",
            "\n",
            "    accuracy                           0.33         3\n",
            "   macro avg       0.17      0.50      0.25         3\n",
            "weighted avg       0.11      0.33      0.17         3\n",
            "\n",
            "Accuracy :  0.3333333333333333\n",
            "\n",
            "######################## Iteration 8 ########################\n",
            "          TRAIN: [ 0  1  2  4  5  6  7  8  9 10 11 12 13 14 15 16 17 18 19 20 21 22 23 24\n",
            " 26]\n",
            "          TEST: [ 3 25]\n",
            "\n",
            "Classification Report\n",
            "              precision    recall  f1-score   support\n",
            "\n",
            "           0       0.50      1.00      0.67         1\n",
            "           1       0.00      0.00      0.00         1\n",
            "\n",
            "    accuracy                           0.50         2\n",
            "   macro avg       0.25      0.50      0.33         2\n",
            "weighted avg       0.25      0.50      0.33         2\n",
            "\n",
            "Accuracy :  0.5\n",
            "\n",
            "######################## Iteration 9 ########################\n",
            "          TRAIN: [ 0  1  3  4  5  6  7  8  9 10 11 12 13 14 15 16 17 18 19 20 21 22 23 24\n",
            " 25]\n",
            "          TEST: [ 2 26]\n",
            "\n",
            "Classification Report\n",
            "              precision    recall  f1-score   support\n",
            "\n",
            "           0       1.00      1.00      1.00         2\n",
            "\n",
            "    accuracy                           1.00         2\n",
            "   macro avg       1.00      1.00      1.00         2\n",
            "weighted avg       1.00      1.00      1.00         2\n",
            "\n",
            "Accuracy :  1.0\n",
            "\n",
            "######################## Iteration 10 ########################\n",
            "          TRAIN: [ 0  1  2  3  4  5  6  7  8  9 10 11 12 13 14 15 16 18 19 20 21 22 23 25\n",
            " 26]\n",
            "          TEST: [17 24]\n",
            "\n"
          ],
          "name": "stdout"
        },
        {
          "output_type": "stream",
          "text": [
            "/usr/local/lib/python3.7/dist-packages/sklearn/utils/validation.py:760: DataConversionWarning: A column-vector y was passed when a 1d array was expected. Please change the shape of y to (n_samples, ), for example using ravel().\n",
            "  y = column_or_1d(y, warn=True)\n",
            "/usr/local/lib/python3.7/dist-packages/sklearn/metrics/_classification.py:1272: UndefinedMetricWarning: Recall and F-score are ill-defined and being set to 0.0 in labels with no true samples. Use `zero_division` parameter to control this behavior.\n",
            "  _warn_prf(average, modifier, msg_start, len(result))\n",
            "/usr/local/lib/python3.7/dist-packages/sklearn/utils/validation.py:760: DataConversionWarning: A column-vector y was passed when a 1d array was expected. Please change the shape of y to (n_samples, ), for example using ravel().\n",
            "  y = column_or_1d(y, warn=True)\n",
            "/usr/local/lib/python3.7/dist-packages/sklearn/metrics/_classification.py:1272: UndefinedMetricWarning: Precision and F-score are ill-defined and being set to 0.0 in labels with no predicted samples. Use `zero_division` parameter to control this behavior.\n",
            "  _warn_prf(average, modifier, msg_start, len(result))\n",
            "/usr/local/lib/python3.7/dist-packages/sklearn/utils/validation.py:760: DataConversionWarning: A column-vector y was passed when a 1d array was expected. Please change the shape of y to (n_samples, ), for example using ravel().\n",
            "  y = column_or_1d(y, warn=True)\n",
            "/usr/local/lib/python3.7/dist-packages/sklearn/utils/validation.py:760: DataConversionWarning: A column-vector y was passed when a 1d array was expected. Please change the shape of y to (n_samples, ), for example using ravel().\n",
            "  y = column_or_1d(y, warn=True)\n",
            "/usr/local/lib/python3.7/dist-packages/sklearn/utils/validation.py:760: DataConversionWarning: A column-vector y was passed when a 1d array was expected. Please change the shape of y to (n_samples, ), for example using ravel().\n",
            "  y = column_or_1d(y, warn=True)\n",
            "/usr/local/lib/python3.7/dist-packages/sklearn/metrics/_classification.py:1272: UndefinedMetricWarning: Recall and F-score are ill-defined and being set to 0.0 in labels with no true samples. Use `zero_division` parameter to control this behavior.\n",
            "  _warn_prf(average, modifier, msg_start, len(result))\n",
            "/usr/local/lib/python3.7/dist-packages/sklearn/utils/validation.py:760: DataConversionWarning: A column-vector y was passed when a 1d array was expected. Please change the shape of y to (n_samples, ), for example using ravel().\n",
            "  y = column_or_1d(y, warn=True)\n",
            "/usr/local/lib/python3.7/dist-packages/sklearn/metrics/_classification.py:1272: UndefinedMetricWarning: Precision and F-score are ill-defined and being set to 0.0 in labels with no predicted samples. Use `zero_division` parameter to control this behavior.\n",
            "  _warn_prf(average, modifier, msg_start, len(result))\n",
            "/usr/local/lib/python3.7/dist-packages/sklearn/utils/validation.py:760: DataConversionWarning: A column-vector y was passed when a 1d array was expected. Please change the shape of y to (n_samples, ), for example using ravel().\n",
            "  y = column_or_1d(y, warn=True)\n",
            "/usr/local/lib/python3.7/dist-packages/sklearn/metrics/_classification.py:1272: UndefinedMetricWarning: Precision and F-score are ill-defined and being set to 0.0 in labels with no predicted samples. Use `zero_division` parameter to control this behavior.\n",
            "  _warn_prf(average, modifier, msg_start, len(result))\n",
            "/usr/local/lib/python3.7/dist-packages/sklearn/utils/validation.py:760: DataConversionWarning: A column-vector y was passed when a 1d array was expected. Please change the shape of y to (n_samples, ), for example using ravel().\n",
            "  y = column_or_1d(y, warn=True)\n",
            "/usr/local/lib/python3.7/dist-packages/sklearn/metrics/_classification.py:1272: UndefinedMetricWarning: Precision and F-score are ill-defined and being set to 0.0 in labels with no predicted samples. Use `zero_division` parameter to control this behavior.\n",
            "  _warn_prf(average, modifier, msg_start, len(result))\n",
            "/usr/local/lib/python3.7/dist-packages/sklearn/utils/validation.py:760: DataConversionWarning: A column-vector y was passed when a 1d array was expected. Please change the shape of y to (n_samples, ), for example using ravel().\n",
            "  y = column_or_1d(y, warn=True)\n",
            "/usr/local/lib/python3.7/dist-packages/sklearn/utils/validation.py:760: DataConversionWarning: A column-vector y was passed when a 1d array was expected. Please change the shape of y to (n_samples, ), for example using ravel().\n",
            "  y = column_or_1d(y, warn=True)\n",
            "/usr/local/lib/python3.7/dist-packages/sklearn/metrics/_classification.py:1272: UndefinedMetricWarning: Precision and F-score are ill-defined and being set to 0.0 in labels with no predicted samples. Use `zero_division` parameter to control this behavior.\n",
            "  _warn_prf(average, modifier, msg_start, len(result))\n"
          ],
          "name": "stderr"
        },
        {
          "output_type": "stream",
          "text": [
            "Classification Report\n",
            "              precision    recall  f1-score   support\n",
            "\n",
            "           0       0.00      0.00      0.00         1\n",
            "           1       0.50      1.00      0.67         1\n",
            "\n",
            "    accuracy                           0.50         2\n",
            "   macro avg       0.25      0.50      0.33         2\n",
            "weighted avg       0.25      0.50      0.33         2\n",
            "\n",
            "Accuracy :  0.5\n",
            "\n"
          ],
          "name": "stdout"
        }
      ]
    },
    {
      "cell_type": "markdown",
      "metadata": {
        "id": "S9Z0DKh8l7u6"
      },
      "source": [
        "We have done logstic regression for one some to create cufusion matrix and classification report "
      ]
    },
    {
      "cell_type": "code",
      "metadata": {
        "id": "aSgXmAwimBbA"
      },
      "source": [
        "# # Split data into training set and test set consider test size as 33%\r\n",
        "X_train_single, X_test_single, y_train_single, y_test_single = train_test_split(\r\n",
        "    X, y, test_size=0.33, random_state=0)"
      ],
      "execution_count": 30,
      "outputs": []
    },
    {
      "cell_type": "code",
      "metadata": {
        "colab": {
          "base_uri": "https://localhost:8080/"
        },
        "id": "Jq1w51ABmV9K",
        "outputId": "57d340b6-8583-4a14-b72b-9cf683d2a1ea"
      },
      "source": [
        "# Check shape of Training Data set\r\n",
        "X_train_single.shape, y_train_single.shape\r\n"
      ],
      "execution_count": 31,
      "outputs": [
        {
          "output_type": "execute_result",
          "data": {
            "text/plain": [
              "((18, 6), (18, 1))"
            ]
          },
          "metadata": {
            "tags": []
          },
          "execution_count": 31
        }
      ]
    },
    {
      "cell_type": "code",
      "metadata": {
        "colab": {
          "base_uri": "https://localhost:8080/"
        },
        "id": "QBuIobLKmkCk",
        "outputId": "2bf71a82-a22f-48f8-b614-4374c7a94cd4"
      },
      "source": [
        "# Check shape of test data set\r\n",
        "X_test_single.shape, y_test_single.shape"
      ],
      "execution_count": 32,
      "outputs": [
        {
          "output_type": "execute_result",
          "data": {
            "text/plain": [
              "((9, 6), (9, 1))"
            ]
          },
          "metadata": {
            "tags": []
          },
          "execution_count": 32
        }
      ]
    },
    {
      "cell_type": "code",
      "metadata": {
        "colab": {
          "base_uri": "https://localhost:8080/"
        },
        "id": "ST0YtJcxmueA",
        "outputId": "68562e4a-879f-4c33-a80b-e5088eac4cd7"
      },
      "source": [
        "# We need to create an instance classifier and fit it to the training data.\r\n",
        "classifier = LogisticRegression(random_state=0)\r\n",
        "\r\n",
        "classifier.fit(X_train_single, y_train_single)"
      ],
      "execution_count": 33,
      "outputs": [
        {
          "output_type": "stream",
          "text": [
            "/usr/local/lib/python3.7/dist-packages/sklearn/utils/validation.py:760: DataConversionWarning: A column-vector y was passed when a 1d array was expected. Please change the shape of y to (n_samples, ), for example using ravel().\n",
            "  y = column_or_1d(y, warn=True)\n"
          ],
          "name": "stderr"
        },
        {
          "output_type": "execute_result",
          "data": {
            "text/plain": [
              "LogisticRegression(C=1.0, class_weight=None, dual=False, fit_intercept=True,\n",
              "                   intercept_scaling=1, l1_ratio=None, max_iter=100,\n",
              "                   multi_class='auto', n_jobs=None, penalty='l2',\n",
              "                   random_state=0, solver='lbfgs', tol=0.0001, verbose=0,\n",
              "                   warm_start=False)"
            ]
          },
          "metadata": {
            "tags": []
          },
          "execution_count": 33
        }
      ]
    },
    {
      "cell_type": "code",
      "metadata": {
        "id": "SLZ_OogsnIay"
      },
      "source": [
        "# we will predict data using test data set\r\n",
        "y_pred = classifier.predict(X_test_single)"
      ],
      "execution_count": 34,
      "outputs": []
    },
    {
      "cell_type": "code",
      "metadata": {
        "colab": {
          "base_uri": "https://localhost:8080/"
        },
        "id": "RRJLNfM8nX9d",
        "outputId": "7152c6b2-747c-47ed-d213-40002f454707"
      },
      "source": [
        "y_pred"
      ],
      "execution_count": 35,
      "outputs": [
        {
          "output_type": "execute_result",
          "data": {
            "text/plain": [
              "array([0, 1, 1, 0, 1, 1, 1, 0, 1])"
            ]
          },
          "metadata": {
            "tags": []
          },
          "execution_count": 35
        }
      ]
    },
    {
      "cell_type": "code",
      "metadata": {
        "id": "IdaaOf4VnmSx"
      },
      "source": [
        "# Create confusion matrix using predicted values of Y and Test data for Y\r\n",
        "cm = confusion_matrix(y_test_single, y_pred)"
      ],
      "execution_count": 36,
      "outputs": []
    },
    {
      "cell_type": "code",
      "metadata": {
        "id": "A1wkmWwmnp4A"
      },
      "source": [
        "# Create classification report for predicted values of Y and Test data for Y\r\n",
        "report = classification_report(y_test_single, y_pred) "
      ],
      "execution_count": 37,
      "outputs": []
    },
    {
      "cell_type": "code",
      "metadata": {
        "id": "2Dbe-teLoBdS"
      },
      "source": [
        "# Check accuracy of predicted values of y\r\n",
        "acc = accuracy_score(y_test_single, y_pred)"
      ],
      "execution_count": 38,
      "outputs": []
    },
    {
      "cell_type": "code",
      "metadata": {
        "colab": {
          "base_uri": "https://localhost:8080/"
        },
        "id": "LMcjtKAcoVAD",
        "outputId": "32f60fc8-fae0-46bf-99d9-febd6bb0a35f"
      },
      "source": [
        "print(\"Confusion Matrix\" , cm, sep='\\n')\r\n",
        "print(\"Classification Report\", report, sep='\\n')\r\n",
        "print( \"Accuracy Score\" ,acc, sep= '\\n')"
      ],
      "execution_count": 39,
      "outputs": [
        {
          "output_type": "stream",
          "text": [
            "Confusion Matrix\n",
            "[[3 4]\n",
            " [0 2]]\n",
            "Classification Report\n",
            "              precision    recall  f1-score   support\n",
            "\n",
            "           0       1.00      0.43      0.60         7\n",
            "           1       0.33      1.00      0.50         2\n",
            "\n",
            "    accuracy                           0.56         9\n",
            "   macro avg       0.67      0.71      0.55         9\n",
            "weighted avg       0.85      0.56      0.58         9\n",
            "\n",
            "Accuracy Score\n",
            "0.5555555555555556\n"
          ],
          "name": "stdout"
        }
      ]
    },
    {
      "cell_type": "code",
      "metadata": {
        "colab": {
          "base_uri": "https://localhost:8080/",
          "height": 483
        },
        "id": "3K3dLgsxqOW-",
        "outputId": "f2d70659-d34b-49b5-d8a6-2ffda83f5725"
      },
      "source": [
        "# Create confusion matrix using Heat map\r\n",
        "fig, ax = plt.subplots(figsize=(8, 8))\r\n",
        "ax.imshow(cm)\r\n",
        "ax.grid(False)\r\n",
        "ax.xaxis.set(ticks=(0, 1), ticklabels=('Predicted 0s', 'Predicted 1s'))\r\n",
        "ax.yaxis.set(ticks=(0, 1), ticklabels=('Actual 0s', 'Actual 1s'))\r\n",
        "ax.set_ylim(1.5, -0.5)\r\n",
        "for i in range(2):\r\n",
        "    for j in range(2):\r\n",
        "        ax.text(j, i, cm[i, j], ha='center', va='center', color='Green', fontsize = '25')\r\n",
        "plt.show()"
      ],
      "execution_count": 40,
      "outputs": [
        {
          "output_type": "display_data",
          "data": {
            "image/png": "[encoded data removed]",
            "text/plain": [
              "<Figure size 576x576 with 1 Axes>"
            ]
          },
          "metadata": {
            "tags": [],
            "needs_background": "light"
          }
        }
      ]
    },
    {
      "cell_type": "markdown",
      "metadata": {
        "id": "c5hjWThfgEF8"
      },
      "source": [
        "#Model Paramters and Logistical Regression Equation"
      ]
    },
    {
      "cell_type": "code",
      "metadata": {
        "colab": {
          "base_uri": "https://localhost:8080/"
        },
        "id": "VEUgk6TCgC5b",
        "outputId": "29762308-e763-49ca-8dda-c19324e50a03"
      },
      "source": [
        "import numpy as np\r\n",
        "# Retrieve the model parameters.\r\n",
        "print(\"Model Paramters \")\r\n",
        "print (\"    Intercept - \", classifier.intercept_)\r\n",
        "print (\"    Coefficients - \", classifier.coef_)\r\n",
        "classifier.coef_ = np.round_(classifier.coef_,decimals=2)\r\n",
        "print()\r\n",
        "print(\"Logistical regression equation\")\r\n",
        "#Constructing the logistical equation \r\n",
        "print( \"    1/(1+e**(-(\",str(classifier.coef_[0][0])+\"*CELL + (\"+\r\n",
        "      str(classifier.coef_[0][1]) +\"*SMEAR) + \"+ str(classifier.coef_[0][2]) +\"*LI + \" + str(classifier.coef_[0][3]) \r\n",
        "    \r\n",
        "      +\"*BLAST + (\" + str(classifier.coef_[0][4])   +\"*TEMP) )))\"  )\r\n",
        "   "
      ],
      "execution_count": 41,
      "outputs": [
        {
          "output_type": "stream",
          "text": [
            "Model Paramters \n",
            "    Intercept -  [-4.09742337]\n",
            "    Coefficients -  [[ 0.46813628  0.10437903 -0.14555066  0.51191503  0.03470569 -1.15936536]]\n",
            "\n",
            "Logistical regression equation\n",
            "    1/(1+e**(-( 0.47*CELL + (0.1*SMEAR) + -0.15*LI + 0.51*BLAST + (0.03*TEMP) )))\n"
          ],
          "name": "stdout"
        }
      ]
    },
    {
      "cell_type": "code",
      "metadata": {
        "id": "BnQ4jB3VnZIi"
      },
      "source": [
        ""
      ],
      "execution_count": 41,
      "outputs": []
    }
  ]
}